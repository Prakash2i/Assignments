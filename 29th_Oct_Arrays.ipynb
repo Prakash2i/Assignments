{
 "cells": [
  {
   "cell_type": "code",
   "execution_count": 2,
   "id": "4e4de316-4ee3-41a6-80f7-1be079f90fce",
   "metadata": {},
   "outputs": [
    {
     "data": {
      "text/plain": [
       "'True'"
      ]
     },
     "execution_count": 2,
     "metadata": {},
     "output_type": "execute_result"
    }
   ],
   "source": [
    "'''Task 1. Given an array, check if it contains any duplicates or not.\n",
    "arr = [1, 2, 4, 2, 5, 9]\n",
    "Output = True'''\n",
    "\n",
    "def CheckDuplicateContains(arr):\n",
    "    \n",
    "       if len(arr) != len(set(arr)):\n",
    "                          return ('True')\n",
    "                \n",
    "                         \n",
    "   \n",
    " #Driver code\n",
    "arr = [1, 2, 2, 2, 5, 9]\n",
    "CheckDuplicateContains(arr)"
   ]
  },
  {
   "cell_type": "code",
   "execution_count": 66,
   "id": "24b8f10d-85a5-41cc-8946-ae6c1af0381f",
   "metadata": {},
   "outputs": [
    {
     "data": {
      "text/plain": [
       "[5, 6, 7, 1, 2, 3, 4]"
      ]
     },
     "execution_count": 66,
     "metadata": {},
     "output_type": "execute_result"
    }
   ],
   "source": [
    "'''2. Given an array and an integer k, rotate the array to the right by k steps.\n",
    "arr = [1, 2, 3, 4, 5, 6, 7] k = 3\n",
    "Output = [5, 6, 7, 1, 2, 3, 4]'''\n",
    "\n",
    "def rotateArray(arr,k):\n",
    "    arr1 = arr[0:k+1]\n",
    "    arr2 = arr[-1 : k : -1]\n",
    "    \n",
    "    return (arr2[::-1] + arr1)\n",
    "\n",
    "\n",
    "#Driver code\n",
    "arr = [2, 4, 5, 7, 9, 12]\n",
    "Output = [12, 9, 7, 5, 4, 2]'''arr = [1, 2, 3, 4, 5, 6, 7]\n",
    "k = 3\n",
    "rotateArray(arr,k)\n"
   ]
  },
  {
   "cell_type": "code",
   "execution_count": 67,
   "id": "2ee09a36-174c-4c47-885f-71de3854ceab",
   "metadata": {},
   "outputs": [
    {
     "data": {
      "text/plain": [
       "[12, 9, 7, 5, 4, 2]"
      ]
     },
     "execution_count": 67,
     "metadata": {},
     "output_type": "execute_result"
    }
   ],
   "source": [
    "'''3. Reverse the given array in-place, means without using any extra data structure.\n",
    "arr = [2, 4, 5, 7, 9, 12]\n",
    "Output = [12, 9, 7, 5, 4, 2]'''\n",
    "\n",
    "\n",
    "def reverseArray(arr):\n",
    "    \n",
    "    return arr[::-1]\n",
    "\n",
    "#Driver code\n",
    "arr = [2, 4, 5, 7, 9, 12]\n",
    "reverseArray(arr)"
   ]
  },
  {
   "cell_type": "code",
   "execution_count": 74,
   "id": "f93f4224-4d46-47b2-8e78-624bcd5438d9",
   "metadata": {},
   "outputs": [
    {
     "data": {
      "text/plain": [
       "20"
      ]
     },
     "execution_count": 74,
     "metadata": {},
     "output_type": "execute_result"
    }
   ],
   "source": [
    "'''4. Given an array of integers, find the maximum element in an array\n",
    "arr = [10, 5, 20, 8, 15]\n",
    "Output = 20'''\n",
    "\n",
    "def maxElement(arr):\n",
    "    a = 0\n",
    "    \n",
    "    for i in arr:\n",
    "        \n",
    "        if a < i:\n",
    "            a = i\n",
    "    return (a)\n",
    "            \n",
    "\n",
    "\n",
    "\n",
    "#Driver code\n",
    "arr = [10, 5, 20, 8, 15]\n",
    "maxElement(arr)"
   ]
  },
  {
   "cell_type": "code",
   "execution_count": 86,
   "id": "0898a1ae-e119-4e8b-a252-3f4e5f74fcde",
   "metadata": {},
   "outputs": [
    {
     "data": {
      "text/plain": [
       "[1, 2, 3, 4, 5]"
      ]
     },
     "execution_count": 86,
     "metadata": {},
     "output_type": "execute_result"
    }
   ],
   "source": [
    "'''5. Given a sorted array, remove the duplicate element without using any extra data structure.\n",
    "arr = [1, 1, 2, 2, 2, 3, 3, 4, 4, 4, 5, 5]\n",
    "Output = [1, 2, 3, 4, 5]'''\n",
    "\n",
    "def sortedArr(arr):\n",
    "    \n",
    "    arr1  = list(set(arr))\n",
    "    \n",
    "    return(arr1)\n",
    "\n",
    "#Driver code\n",
    "arr = [1, 1, 2, 2, 2, 3, 3, 4, 4, 4, 5, 5]\n",
    "sortedArr(arr)"
   ]
  }
 ],
 "metadata": {
  "kernelspec": {
   "display_name": "Python 3 (ipykernel)",
   "language": "python",
   "name": "python3"
  },
  "language_info": {
   "codemirror_mode": {
    "name": "ipython",
    "version": 3
   },
   "file_extension": ".py",
   "mimetype": "text/x-python",
   "name": "python",
   "nbconvert_exporter": "python",
   "pygments_lexer": "ipython3",
   "version": "3.10.8"
  }
 },
 "nbformat": 4,
 "nbformat_minor": 5
}

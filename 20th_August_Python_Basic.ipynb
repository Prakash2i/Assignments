{
 "cells": [
  {
   "cell_type": "code",
   "execution_count": 1,
   "id": "ac2068ca-3db5-40cb-bc5f-85c3bd765c84",
   "metadata": {},
   "outputs": [
    {
     "data": {
      "text/plain": [
       "'TOPIC: String Based Assignment Problem'"
      ]
     },
     "execution_count": 1,
     "metadata": {},
     "output_type": "execute_result"
    }
   ],
   "source": [
    "'''TOPIC: String Based Assignment Problem'''"
   ]
  },
  {
   "cell_type": "code",
   "execution_count": 2,
   "id": "43a7ccb3-32f2-42e9-b71f-4e53aa2394da",
   "metadata": {},
   "outputs": [
    {
     "name": "stdout",
     "output_type": "stream",
     "text": [
      "gnirts\n"
     ]
    }
   ],
   "source": [
    "'''1. Write a program to reverse a string.'''\n",
    "\n",
    "s = \"string\"\n",
    "print(s[::-1])"
   ]
  },
  {
   "cell_type": "code",
   "execution_count": null,
   "id": "5ca1efab-910e-413d-baa3-eb55bc234aab",
   "metadata": {},
   "outputs": [],
   "source": [
    "'''2. Check if a string is a palindrome.'''\n",
    "\n",
    "#Take input from user and store it in varriables.\n",
    "Text = input('enter the text to check palindrome')\n",
    "Text1 = Text[::-1]\n",
    "print(Text1)\n",
    "#Print the reversed text\n",
    "print('The text is palindrome? : ' + str(Text == Text1))"
   ]
  },
  {
   "cell_type": "code",
   "execution_count": null,
   "id": "e0a1ba79-60bc-436c-bcd3-09e1af8c629b",
   "metadata": {},
   "outputs": [],
   "source": [
    "'''3. Convert a string to uppercase.'''\n",
    "s = \"string\"\n",
    "print(s.upper())"
   ]
  },
  {
   "cell_type": "code",
   "execution_count": null,
   "id": "a083aee2-0832-4235-aca8-e9735bf705c7",
   "metadata": {},
   "outputs": [],
   "source": [
    "'''4. Convert a string to lowercase.'''\n",
    "s = \"STRING\"\n",
    "print(s.lower())"
   ]
  },
  {
   "cell_type": "code",
   "execution_count": null,
   "id": "d73b8b63-139a-4d13-b290-7bfc96630cf2",
   "metadata": {},
   "outputs": [],
   "source": [
    "#5. Count the number of vowels in a string.'''\n",
    "\n",
    "#Take input from user and store it in varriables.\n",
    "Text = input('enter the text')\n",
    "#Print the length of text\n",
    "print('In this text total number of a is ' + str((Text.count('a'))))\n",
    "print('In this text total number of e is ' + str((Text.count('e'))))\n",
    "print('In this text total number of i is ' + str((Text.count('i'))))\n",
    "print('In this text total number of o is ' + str((Text.count('o'))))\n",
    "print('In this text total number of u is ' + str((Text.count('u'))))"
   ]
  },
  {
   "cell_type": "code",
   "execution_count": null,
   "id": "817d9baf-0740-4d1a-aca4-072fe2e7528b",
   "metadata": {},
   "outputs": [],
   "source": [
    "#6. Count the number of consonants in a string.'''\n",
    "\n",
    "#Take input from user and stroe it in varriables.\n",
    "Text = input('enter the text')\n",
    "#Print the length of text\n",
    "print('In this text total number of b is ' + str((Text.count('b'))))\n",
    "print('In this text total number of c is ' + str((Text.count('c'))))\n",
    "print('In this text total number of d is ' + str((Text.count('d'))))\n",
    "print('In this text total number of f is ' + str((Text.count('f'))))\n",
    "print('In this text total number of g is ' + str((Text.count('g'))))\n",
    "print('In this text total number of h is ' + str((Text.count('h'))))\n",
    "print('In this text total number of j is ' + str((Text.count('j'))))\n",
    "print('In this text total number of k is ' + str((Text.count('k'))))\n",
    "print('In this text total number of l is ' + str((Text.count('l'))))\n",
    "print('In this text total number of m is ' + str((Text.count('m'))))\n",
    "print('In this text total number of n is ' + str((Text.count('n'))))\n",
    "print('In this text total number of p is ' + str((Text.count('p'))))\n",
    "print('In this text total number of q is ' + str((Text.count('q'))))\n",
    "print('In this text total number of r is ' + str((Text.count('r'))))\n",
    "print('In this text total number of s is ' + str((Text.count('s'))))\n",
    "print('In this text total number of t is ' + str((Text.count('t'))))\n",
    "print('In this text total number of v is ' + str((Text.count('v'))))\n",
    "print('In this text total number of x is ' + str((Text.count('x'))))\n",
    "print('In this text total number of y is ' + str((Text.count('y'))))\n",
    "print('In this text total number of z is ' + str((Text.count('z'))))"
   ]
  },
  {
   "cell_type": "code",
   "execution_count": null,
   "id": "74c93e2e-57fa-497d-8442-705773f5de83",
   "metadata": {},
   "outputs": [],
   "source": [
    "'''7. Remove all whitespaces from a string.'''\n",
    "\n",
    "s = \"Remove all whitespaces from a string\"\n",
    "print(s.replace(\" \", \"\"))"
   ]
  },
  {
   "cell_type": "code",
   "execution_count": null,
   "id": "dc702f61-af78-4935-a8b8-d38736c8b0a4",
   "metadata": {},
   "outputs": [],
   "source": [
    "#8. Find the length of a string without using the `len()` function.'''\n",
    "s = input()\n",
    "count = 0\n",
    "for i in s:\n",
    "    count +=1\n",
    "print(\"The length of count is:\" , count)\n"
   ]
  },
  {
   "cell_type": "code",
   "execution_count": null,
   "id": "32b3e8fd-fc99-43db-a13a-8af6587f16ee",
   "metadata": {},
   "outputs": [],
   "source": [
    "'''9. Check if a string contains a specific word.'''\n",
    "\n",
    "s = \"This is a sample code\"\n",
    "a = s.find(input(\"enter the word to check:\"))\n",
    "\n",
    "if a>-1:\n",
    " print(\"Specified word is available\")\n",
    "else: print(\"Specified word is not available\")\n"
   ]
  },
  {
   "cell_type": "code",
   "execution_count": null,
   "id": "be9b4378-e6ab-4c7f-bffd-4d1faae8d45f",
   "metadata": {},
   "outputs": [],
   "source": [
    "'''10. Replace a word in a string with another word.'''\n",
    "#Store the text in varriabble\n",
    "S = \"My name is Prakash Singh\"\n",
    "\n",
    "S.replace(input(\"enter the text which you want to replace:\"), input(\"enter the text which you want to place:\"))"
   ]
  },
  {
   "cell_type": "code",
   "execution_count": null,
   "id": "dc1aa452-648e-4c4d-b426-e873cf9a7799",
   "metadata": {},
   "outputs": [],
   "source": [
    "'''11. Count the occurrences of a word in a string.'''\n",
    "#Store the text in varriabble\n",
    "S = \"My name name name is Prakash Singh\"\n",
    "#Print the count of specific word in stored text\n",
    "print(S.count(input('enter the word to count for occurence: ')))"
   ]
  },
  {
   "cell_type": "code",
   "execution_count": null,
   "id": "18b7c650-f465-4900-acaf-9be706532fab",
   "metadata": {},
   "outputs": [],
   "source": [
    "'''12. Find the first occurrence of a word in a string.'''\n",
    "\n",
    "#Store the text in varriabble\n",
    "S = input(\"enter the whole string:\")\n",
    "#find the index of first occurance of sentence in string\n",
    "print(\"The index of first occurence of word is:\" + str((S.find(input(\"enter the word which is need to find in string:\")))))\n"
   ]
  },
  {
   "cell_type": "code",
   "execution_count": null,
   "id": "2b0f1e12-7679-43b7-8701-851d6aed742c",
   "metadata": {},
   "outputs": [],
   "source": [
    "'''13. Find the last occurrence of a word in a string.'''\n",
    "\n",
    "#Store the text in varriabble\n",
    "S = input(\"enter the whole text:\")\n",
    "#find the index of last occurence of a word in a string\n",
    "print(\"The index of last occurence of word is:\" + str((S.rfind(input(\"enter the word which is need to find in string:\")))))"
   ]
  },
  {
   "cell_type": "code",
   "execution_count": null,
   "id": "e3ae263f-32ce-4dfc-b5a2-dd036145c8c7",
   "metadata": {},
   "outputs": [],
   "source": [
    "'''14. Split a string into a list of words.'''\n",
    "#Store the text in varriabble\n",
    "s = input(\"enter the string to convert in to list:\")\n",
    "#Split the string \n",
    "s1 = s.split()\n",
    "#print the list of string\n",
    "print(s1)"
   ]
  },
  {
   "cell_type": "code",
   "execution_count": null,
   "id": "bec58bba-ca80-4c0c-9fe6-ff91ffa9476d",
   "metadata": {},
   "outputs": [],
   "source": [
    "'''15. Join a list of words into a string.'''\n",
    "\n",
    "#create the list of words\n",
    "l1 = ['My', 'name', 'is', 'Prakash', 'singh', 'and', 'my', 'father', 'name', 'is', 'manoj', 'singh']\n",
    "#Join the words of list and make it string\n",
    "print( \" \".join(l1))\n"
   ]
  },
  {
   "cell_type": "code",
   "execution_count": null,
   "id": "3110422c-f9be-4ab4-b537-f9a91c37559a",
   "metadata": {},
   "outputs": [],
   "source": [
    "'''16. Convert a string where words are separated by spaces to one where words are separated by underscores.'''\n",
    "#Store the text in varriabble\n",
    "s1 = \"My name is Prakash\"\n",
    "#convert the string in to list\n",
    "s2 = s1.split()\n",
    "#Join the words of list and make it string with underscores\n",
    "print( \"_\".join(s2))"
   ]
  },
  {
   "cell_type": "code",
   "execution_count": null,
   "id": "2214c7a6-5046-4302-8cd8-39a4968b7a43",
   "metadata": {},
   "outputs": [],
   "source": [
    "'''17. Check if a string starts with a specific word or phrase.'''\n",
    "#Store the text in varriabble\n",
    "s1 = input(\"enter the sentence:\")\n",
    "s2 = s1.split()\n",
    "s3 = s2[0]\n",
    "\n",
    "if s3 == input(\"enter the word to check in start of sentence:\"):\n",
    "    print(\"This string starts with entered word.\")\n",
    "else:\n",
    "    print(\"This string does not start with entered word.\")"
   ]
  },
  {
   "cell_type": "code",
   "execution_count": null,
   "id": "26a4e5f3-88a5-4082-b354-e4324114a1d4",
   "metadata": {},
   "outputs": [],
   "source": [
    "'''18. Check if a string ends with a specific word or phrase.'''\n",
    "#Store the text in varriabble\n",
    "s1 = input(\"entere the sentence:\")\n",
    "s2 = s1.split()\n",
    "s3 = s2[-1]\n",
    "\n",
    "if s3 == input(\"enter the word to check in last of sentence:\"):\n",
    "    print(\"This string starts with entered word.\")\n",
    "else:\n",
    "    print(\"This string does not start with entered word.\")\n"
   ]
  },
  {
   "cell_type": "code",
   "execution_count": null,
   "id": "43aecbce-3753-43d0-a29e-8d227d09ac76",
   "metadata": {},
   "outputs": [],
   "source": [
    "'''19. Convert a string to title case (e.g., \"hello world\" to \"Hello World\").'''\n",
    "\n",
    "#Store the text in varriabble\n",
    "s1 = \"my name is prakash\"\n",
    "#use title function\n",
    "s2 = s1.title()\n",
    "\n",
    "s2"
   ]
  },
  {
   "cell_type": "code",
   "execution_count": null,
   "id": "afb55a47-fde8-4e56-af88-48ac9a5534b6",
   "metadata": {},
   "outputs": [],
   "source": [
    "'''20. Find the longest word in a string.'''\n",
    "#Store the text in varriabble\n",
    "s1 = \"My Name is prakash singh\"\n",
    "#convert to list by split func.\n",
    "s2 = s1.split()\n",
    "#create empty varriable for longest word & max length\n",
    "longest_word = \"\"\n",
    "max_length = 0\n",
    "#use for loop to itterate through list\n",
    "for i in s2:\n",
    "    if len(i) > max_length:\n",
    "        longest_word = i\n",
    "        max_length = len(longest_word)\n",
    "\n",
    "print(longest_word)"
   ]
  },
  {
   "cell_type": "code",
   "execution_count": null,
   "id": "cfbfb6ef-f723-4ed3-ac77-c513e67af6e9",
   "metadata": {},
   "outputs": [],
   "source": [
    "'''21. Find the shortest word in a string.'''\n",
    "\n",
    "#Store the text in varriabble\n",
    "s1 = \"My Name is prakash singh & i have to Find the shortest word in string\"\n",
    "#convert to list by split func.\n",
    "s2 = s1.split()\n",
    "#create empty varriable for shortest word & shortest length\n",
    "shortest_word = \"\"\n",
    "min_length = len(s1)\n",
    "#itterate through for loop\n",
    "for i in s2:\n",
    "    if len(i) < min_length:\n",
    "        shortest_word = i\n",
    "        min_length = len(shortest_word)\n",
    "        \n",
    "print(shortest_word)"
   ]
  },
  {
   "cell_type": "code",
   "execution_count": null,
   "id": "8bae4d4a-8da5-4116-9f97-e01e9adeda73",
   "metadata": {},
   "outputs": [],
   "source": [
    "'''22. Reverse the order of words in a string.'''\n",
    "\n",
    "#Store the text in varriabble\n",
    "s1 = \"My Name is prakash singh\"\n",
    "#convert to list by split func.\n",
    "s2 = s1.split()\n",
    "#store the reverse list in varriable\n",
    "s3 = s2[::-1]\n",
    "#combine the list by join method\n",
    "print(' '.join(s3))"
   ]
  },
  {
   "cell_type": "code",
   "execution_count": null,
   "id": "9f6d4cd1-18de-4119-a394-3da324e5cab9",
   "metadata": {},
   "outputs": [],
   "source": [
    "'''23. Check if a string is alphanumeric.'''\n",
    "#Store the text in varriabble\n",
    "s1 = \"1prakash\"\n",
    "#check by isalnum method\n",
    "s1.isalnum()"
   ]
  },
  {
   "cell_type": "code",
   "execution_count": null,
   "id": "b70f089e-77dd-4649-80be-d4335186c347",
   "metadata": {},
   "outputs": [],
   "source": [
    "'''24. Extract all digits from a string.'''\n",
    "#Store the text in varriabble\n",
    "s1 = '123sudh 212 1prakash'\n",
    "#itterate through forloop and print the digits by isdigit method\n",
    "for i in s1:\n",
    "    if i.isdigit() == True:\n",
    "        print(i)"
   ]
  },
  {
   "cell_type": "code",
   "execution_count": null,
   "id": "af129afe-31b0-4c68-9f48-2323935b2d6d",
   "metadata": {},
   "outputs": [],
   "source": [
    "'''25. Extract all alphabets from a string.'''\n",
    "\n",
    "#Store the text in varriabble\n",
    "s1 = '123sudh 212 1prakash'\n",
    "#itterate through forloop and print the text by isalpha method\n",
    "for i in s1:\n",
    "    if i.isalpha() == True:\n",
    "        print(i)"
   ]
  },
  {
   "cell_type": "code",
   "execution_count": null,
   "id": "3ae040a9-4e58-4622-9365-524ed416d302",
   "metadata": {},
   "outputs": [],
   "source": [
    "'''26. Count the number of uppercase letters in a string.'''\n",
    "\n",
    "#Store the text in varriabble\n",
    "s1 = 'Count The Number Of Uppercase Letters In A STring'\n",
    "#Create a varriabble with 0 value\n",
    "n = 0\n",
    "#itterate through for loop\n",
    "for i in s1:\n",
    "    if i.isalpha() == True:\n",
    "        if i.isalpha() == i.isupper():\n",
    "            n = n+1\n",
    "#Print the value of n  \n",
    "print(n)  "
   ]
  },
  {
   "cell_type": "code",
   "execution_count": null,
   "id": "461df7d3-770e-48ae-bd2b-a54e1ca331a0",
   "metadata": {},
   "outputs": [],
   "source": [
    "'''27. Count the number of lowercase letters in a string'''\n",
    "#Store the text in varriabble\n",
    "s1 = 'String'\n",
    "#Create a varriabble with 0 value\n",
    "n = 0 \n",
    "#itterate through for loop\n",
    "for i in s1:\n",
    "    if i.isalpha() == True:\n",
    "        if i.isalpha() == i.islower():\n",
    "            n = n+1\n",
    "#print the number of lowercase letters \n",
    "print(n)\n",
    "        "
   ]
  },
  {
   "cell_type": "code",
   "execution_count": null,
   "id": "a029debf-9934-420d-804c-c47c506eba7e",
   "metadata": {},
   "outputs": [],
   "source": [
    "'''28. Swap the case of each character in a string'''\n",
    "#Store the string in a varriable\n",
    "s1 = 'Prakash'\n",
    "#use swapcase method to swap the case of each charracter\n",
    "s2 = s1.swapcase()\n",
    "#print the value\n",
    "print(s2)\n"
   ]
  },
  {
   "cell_type": "code",
   "execution_count": null,
   "id": "dd85779e-ee66-4d80-b885-e192fb9e36d2",
   "metadata": {},
   "outputs": [],
   "source": [
    "'''29. Remove a specific word from a string'''\n",
    "#Store the text in varriabble\n",
    "s1 = 'Remove a specific word from a string'\n",
    "#Convert the string in to list\n",
    "s2 = s1.split()\n",
    "#Create a empty list for itteration\n",
    "s3 = []\n",
    "#Create a varriable to take the input from user\n",
    "s4 = input('enter the specific word to remove:')\n",
    "\n",
    "#Apply condition when input word does not match with existing string \n",
    "if s4 not in s2:\n",
    "        print('Input text is not available in string')\n",
    "        s5 = s1\n",
    "        \n",
    "        \n",
    "#Itterate through for loop\n",
    "else:\n",
    "    for i in s2:\n",
    "        if i != s4:\n",
    "            s3.append(i)\n",
    "    s5 = ' '.join(s3) \n",
    "    print(\"String after removal of specific word is = \" + s5)"
   ]
  },
  {
   "cell_type": "code",
   "execution_count": null,
   "id": "945e192e-a5a9-4e77-8840-39e3bb30d983",
   "metadata": {},
   "outputs": [],
   "source": [
    "'''30. Check if a string is a valid email address.'''\n",
    "#Store the text in varriabble\n",
    "s1 = input('enter the email address to check the validation')\n",
    "#split the text from '@' and store in a varriable\n",
    "s2 = s1.split('@')\n",
    "#split the text from '.' and store in a varriable\n",
    "s3 = s2[1].split('.')\n",
    "\n",
    "if len(s2) == 2 & len(s3) ==2:\n",
    "    print('It is a valid email')\n",
    "else:\n",
    "    print('it is a invalid email')\n",
    "    "
   ]
  },
  {
   "cell_type": "code",
   "execution_count": null,
   "id": "ccc2617b-11cc-42dd-a660-4d784d14179e",
   "metadata": {},
   "outputs": [],
   "source": [
    "len(s2)"
   ]
  },
  {
   "cell_type": "code",
   "execution_count": null,
   "id": "46b6fb0b-333d-4eba-9123-abd9b7a74d13",
   "metadata": {},
   "outputs": [],
   "source": [
    "'''31. Extract the username from an email address string.'''\n",
    "\n",
    "#Store the text in varriabble\n",
    "s1 = input('enter the email address to Extract the username')\n",
    "#split the text from '@' and store in a varriable\n",
    "s2 = s1.split('@')[0]\n",
    "print(s2)"
   ]
  },
  {
   "cell_type": "code",
   "execution_count": null,
   "id": "ae355b47-09fb-4c70-8146-45d4e8522334",
   "metadata": {},
   "outputs": [],
   "source": [
    "'''32. Extract the domain name from an email address string.'''\n",
    "\n",
    "#Take input from user to extract user name from email\n",
    "s1 = input('enter the email address to Extract the domain name')\n",
    "#split the text from '@' and store in a varriable\n",
    "s2 = s1.split('@')[1]\n",
    "#print the value\n",
    "print(s2)\n"
   ]
  },
  {
   "cell_type": "code",
   "execution_count": null,
   "id": "54bdefae-b065-4d59-acec-51a16b3da2ba",
   "metadata": {},
   "outputs": [],
   "source": [
    "'''33. Replace multiple spaces in a string with a single space.'''\n",
    "\n",
    "#Store the text in varriabble\n",
    "s1 = ' Replace multiple spaces in a    string with a    single   space    '\n",
    "#use split method & then print it by using join method to remove multiple space\n",
    "print(' '.join(s1.split()))"
   ]
  },
  {
   "cell_type": "code",
   "execution_count": null,
   "id": "b4819227-bd77-490c-8a9d-0ffe7fc3d1b7",
   "metadata": {},
   "outputs": [],
   "source": [
    "'''34. Check if a string is a valid URL.'''\n",
    "\n",
    "#sample of a url = https://www.google.com\n",
    "#Take the User input 'URl' in varriabble\n",
    "s1 = input('enter the url to check the validity, ex - \"https://www.domain.com\" :')\n",
    "#split the URL fro '.'\n",
    "s2 = s1.split('.')\n",
    "#use conditional statment to cehck the validity\n",
    "if s2[0] == 'https://www' or s2[0] == 'http://www':\n",
    "    if s2[-1] == 'com' or s2[-1] == 'org' or s2[-1] == 'in':\n",
    "        print('entered URL is valid!')\n",
    "    else:\n",
    "        print('entered URL is not valid!')\n",
    "else:\n",
    "    print('entered URL is not valid!')"
   ]
  },
  {
   "cell_type": "code",
   "execution_count": null,
   "id": "2b287a7c-3c14-41d8-a122-b9ad40ba16e2",
   "metadata": {},
   "outputs": [],
   "source": [
    "'''35. Extract the protocol (http or https) from a URL string.'''\n",
    "\n",
    "#sample of a url = https://www.google.com\n",
    "#Take the SUerr input 'URl' in varriabble\n",
    "s1 = input('enter the url to extract the protocol, ex - \"https://www.domain.com\" :')\n",
    "\n",
    "s2 = s1.split('://')\n",
    "\n",
    "if s2[0] == 'https' or s2[0] == 'http':\n",
    "        print('Protocol in entered URL is:' , s2[0])\n",
    "else:\n",
    "    print('entered URL is not valid!')"
   ]
  },
  {
   "cell_type": "code",
   "execution_count": null,
   "id": "158ea807-a26f-459e-9cd6-f8cfa4898a34",
   "metadata": {},
   "outputs": [],
   "source": [
    "'''36. Find the frequency of each character in a string.'''\n",
    "\n",
    "s1 = 'Find the frequency Find the frequency Find the frequency'\n",
    "n = {}\n",
    "\n",
    "for i in s1:\n",
    "    if i in n:\n",
    "        n[i] = n[i]+1\n",
    "    else:\n",
    "        n[i] = 1\n",
    "#printing result\n",
    "print(\"Count of each character in string is : \\n\" + str(n))\n"
   ]
  },
  {
   "cell_type": "code",
   "execution_count": null,
   "id": "d8c19a29-e2a6-483e-80e4-7bf8aea57757",
   "metadata": {},
   "outputs": [],
   "source": [
    "'''37. Remove all punctuation from a string.''' \n",
    "#import the string module\n",
    "import string\n",
    "#store the string in a varriable\n",
    "s1 = 'Remove! all? punctuation/@ from a string'\n",
    "\n",
    "#use 'str.makemaketrans' method to create a translation table\n",
    "translator = str.maketrans('', '', string.punctuation)\n",
    "\n",
    "#use translate method to remove all the punctuation mark\n",
    "s2 = s1.translate(translator)\n",
    "\n",
    "print(s2)\n"
   ]
  },
  {
   "cell_type": "code",
   "execution_count": null,
   "id": "8d786345-7996-433c-94f8-a3b3fe4fa2d6",
   "metadata": {},
   "outputs": [],
   "source": [
    "'''38. Check if a string contains only digits.'''\n",
    "#Store the text in varriabble\n",
    "s1 = '123456'\n",
    "#use isdigit method\n",
    "s2= s1.isdigit()\n",
    "#print the result\n",
    "print(\"string contains only digits:\" + str(s2))"
   ]
  },
  {
   "cell_type": "code",
   "execution_count": null,
   "id": "64956c40-22e6-47e0-9192-a0d8be18c74d",
   "metadata": {},
   "outputs": [],
   "source": [
    "'''39. Check if a string contains only alphabets.'''\n",
    "\n",
    "#Store the text in varriabble\n",
    "s1 = '12345LL6'\n",
    "#use isalpha method\n",
    "s2= s1.isalpha()\n",
    "#print the result\n",
    "print(\"string contains only alphabets:\" + str(s2))"
   ]
  },
  {
   "cell_type": "code",
   "execution_count": null,
   "id": "082ee8af-6ed0-457a-b99c-8b3ea9a99494",
   "metadata": {},
   "outputs": [],
   "source": [
    "'''40. Convert a string to a list of characters.'''\n",
    "#Store the text in varriabble\n",
    "s1 = 'Convert a string'\n",
    "#convert the string to a list of character by using list() method\n",
    "s2 = list(s1)\n",
    "#print the value\n",
    "print(s2)\n"
   ]
  },
  {
   "cell_type": "code",
   "execution_count": null,
   "id": "d27b6724-98e5-4501-8645-af6b80dac62f",
   "metadata": {},
   "outputs": [],
   "source": [
    "'''41. Check if two strings are anagrams.'''\n",
    "\n",
    "#Store the text in varriabble\n",
    "\n",
    "s1 = input(\"Enter the first word\")\n",
    "s2 = input(\"Enter the second word\")\n",
    "#convert the string in lower case an then sort it and check by == operator between both\n",
    "\n",
    "if sorted(s1.lower()) == sorted(s2.lower()):\n",
    "    print (\"The strings are anagrams\")\n",
    "else:\n",
    "    print(\"The strings are not anagrams\")"
   ]
  },
  {
   "cell_type": "code",
   "execution_count": null,
   "id": "4d3166ce-44ea-4998-9f84-1bbe66fd4b1b",
   "metadata": {},
   "outputs": [],
   "source": [
    "'''42. Encode a string using a Caesar cipher.'''\n",
    "\n",
    "s1 = 'hello, world'\n",
    "shift = 3\n",
    "encoded_text = ''\n",
    "\n",
    "for char in s1:\n",
    "    if char.isalpha():\n",
    "        encoded_chr = chr( (ord(char) + shift - ord('a'))%26 + ord('a'))\n",
    "    else:\n",
    "        encoded_chr = char\n",
    "        \n",
    "    encoded_text += encoded_chr\n",
    "    \n",
    "print(\"Encoded text:\", encoded_text)   \n"
   ]
  },
  {
   "cell_type": "code",
   "execution_count": null,
   "id": "a2c4744a-9ca0-4190-99a8-0c898d9cde36",
   "metadata": {},
   "outputs": [],
   "source": [
    "'''43. Decode a string using a Caesar cipher.'''\n",
    "\n",
    "s1 = 'khoor, zruog'\n",
    "shift = 3\n",
    "encoded_text = ''\n",
    "\n",
    "for char in s1:\n",
    "    if char.isalpha():\n",
    "        encoded_chr = chr( (ord(char) - shift - ord('a'))%26 + ord('a'))\n",
    "    else:\n",
    "        encoded_chr = char\n",
    "        \n",
    "    encoded_text += encoded_chr\n",
    "    \n",
    "print(\"Encoded text:\", encoded_text)   "
   ]
  },
  {
   "cell_type": "code",
   "execution_count": null,
   "id": "91801476-2ba5-4148-a2c6-27b20a77a441",
   "metadata": {},
   "outputs": [],
   "source": [
    "'''44. Find the most frequent word in a string'''\n",
    "\n",
    "\n",
    "import re\n",
    "from collections import Counter\n",
    "\n",
    "s1 = 'hello world, hello pwskills'\n",
    "words = s1.split()\n",
    "word_counter = Counter(words)\n",
    "\n",
    "most_common_word = word_counter.most_common(1)[0][0]\n",
    "    \n",
    "print(most_common_word)\n",
    "\n"
   ]
  },
  {
   "cell_type": "code",
   "execution_count": null,
   "id": "589e1a6e-d1f9-4741-93c8-a973037eb027",
   "metadata": {},
   "outputs": [],
   "source": [
    "'''45. Find all unique words in a string'''\n",
    "\n",
    "s1 = \"hello world, hello pwskills\"\n",
    "\n",
    "# this will use to remove the punctuations & to convert the string in lwer case\n",
    "clean_string = re.sub(r'[^\\w\\s]', '', s1).lower() \n",
    "\n",
    "#this will use to split the string & to store in a set to extract unique words only\n",
    "words = set(clean_string.split())\n",
    "\n",
    "print('Unique words are:' , words)\n"
   ]
  },
  {
   "cell_type": "code",
   "execution_count": null,
   "id": "bfb078b8-cacd-4e02-934b-d523b1182162",
   "metadata": {},
   "outputs": [],
   "source": [
    "'''46. Count the number of syllables in a string.'''\n",
    "\n",
    "\n",
    "s1 = input('enter the word to check syllables')\n",
    "# Count vowel groups \n",
    "s2 = re.findall(r'[aeiouy]+', s1, re.IGNORECASE)\n",
    "\n",
    "print ('The word has', len(s2), 'syllable')\n"
   ]
  },
  {
   "cell_type": "code",
   "execution_count": null,
   "id": "bc5471ff-fda1-4250-a713-df69318b58ca",
   "metadata": {},
   "outputs": [],
   "source": [
    "'''47. Check if a string contains any special characters.'''\n",
    "\n",
    "import re\n",
    "\n",
    "special_chr = re.compile(r'[!@#$%^&*()_+{}\\[\\]:;<>,.?~\\\\/]')\n",
    "\n",
    "s1 = \"hello world! hello pwskills\"\n",
    "# Use the search() method to find a match\n",
    "checkSpecialChr = special_chr.search(s1)\n",
    "# Print the status \n",
    "print ('String contains special character: ' + str(bool(checkSpecialChr)))\n"
   ]
  },
  {
   "cell_type": "code",
   "execution_count": null,
   "id": "a9048abb-e1fa-44c8-b93b-60bfeceef320",
   "metadata": {},
   "outputs": [],
   "source": [
    "'''48. Remove the nth word from a string.'''\n",
    "\n",
    "def remveNthWord(string, n):\n",
    "    \n",
    "    s2 = string.split()\n",
    "    s2.remove(s2[n])\n",
    "    s3 = ''\n",
    "    \n",
    "    for i in s2:\n",
    "        s3 = s3 + i + ' '\n",
    "\n",
    "    return s3\n",
    "    \n",
    "##Diver code\n",
    "string = 'Remove the nth word from a string'\n",
    "n = 2\n",
    "\n",
    "remveNthWord(string, n)"
   ]
  },
  {
   "cell_type": "code",
   "execution_count": null,
   "id": "b4628234-d1a4-496d-acf3-bedc0f23e2cb",
   "metadata": {},
   "outputs": [],
   "source": [
    "'''49. Insert a word at the nth position in a string.'''\n",
    "\n",
    "def insertAWord(string, word, n):\n",
    "    \n",
    "    s2 = string.split()\n",
    "    s2.insert(n , word)\n",
    "    \n",
    "    s3 = ''\n",
    "    \n",
    "    for i in s2:\n",
    "        s3 = s3 + i + ' '\n",
    "        \n",
    "    return s3  \n",
    "    \n",
    "##Driver code\n",
    "\n",
    "string = 'Insert a word at the nth position in a string'\n",
    "word = 'word'\n",
    "n = 3\n",
    "\n",
    "insertAWord(string, word, n)"
   ]
  },
  {
   "cell_type": "code",
   "execution_count": null,
   "id": "f612b215-8846-427a-a31e-26de9ec1d772",
   "metadata": {},
   "outputs": [],
   "source": [
    "'''50. Convert a CSV string to a list of lists.'''\n",
    "\n",
    "def csv_list(string):\n",
    "    s1 = string.split(',')\n",
    "    s2 = []\n",
    "    for i in s1:\n",
    "        s2.append(i.lstrip())\n",
    "            \n",
    "    return s2\n",
    "\n",
    "##Driver code\n",
    "\n",
    "string = 'i, am, Prakash, Singh'\n",
    "\n",
    "csv_list(string)"
   ]
  },
  {
   "cell_type": "code",
   "execution_count": null,
   "id": "b7e553f9-12d6-4a28-ab4b-de01b5490297",
   "metadata": {},
   "outputs": [],
   "source": [
    "'''List Based Practice Problem :'''"
   ]
  },
  {
   "cell_type": "code",
   "execution_count": null,
   "id": "59c1bc06-49ea-4699-af83-a07a23c5bf39",
   "metadata": {},
   "outputs": [],
   "source": [
    "'''1. Create a list with integers from 1 to 10.'''\n",
    "a = []\n",
    "for i in range (1,11):\n",
    "    a.append(i)\n",
    "print(a)"
   ]
  },
  {
   "cell_type": "code",
   "execution_count": null,
   "id": "7dc8211f-77f1-478f-a0f3-436bb7ea75c3",
   "metadata": {},
   "outputs": [],
   "source": [
    "'''2. Find the length of a list without using the `len()` function.'''\n",
    "\n",
    "def find_list_length(list):\n",
    "    a = 0\n",
    "    \n",
    "    for i in list:\n",
    "        a = a+1\n",
    "    return a\n",
    "\n",
    "##Driver code\n",
    "\n",
    "list = [1, 2, 3, 4, 5, 6, 7, 8, 9, 10, 11, 12, \"string\"]\n",
    "find_list_length(list)"
   ]
  },
  {
   "cell_type": "code",
   "execution_count": null,
   "id": "d92307a3-24f5-4122-aa9e-4aab6b8233a6",
   "metadata": {},
   "outputs": [],
   "source": [
    "'''3. Append an element to the end of a list.'''\n",
    "\n",
    "def append_elem_last(list1, element):\n",
    "    \n",
    "    list1.append(element)\n",
    "    \n",
    "    return list1\n",
    "    \n",
    "    \n",
    "##Driver code\n",
    "\n",
    "element = 'element'\n",
    "list1 = [1,2,3,4]\n",
    "\n",
    "append_elem_last(list1, element)\n"
   ]
  },
  {
   "cell_type": "code",
   "execution_count": null,
   "id": "bf9f2e85-0f81-4dc3-8261-3f3538ecc23f",
   "metadata": {},
   "outputs": [],
   "source": [
    "'''4. Insert an element at a specific index in a list.'''\n",
    "\n",
    "def insert_si_list(list1, element, index):\n",
    "    list1.insert(index, element)\n",
    "    \n",
    "    return list1\n",
    "\n",
    "##Driver code\n",
    "\n",
    "element = 'element'\n",
    "index = 5\n",
    "list1 = [1,2,3,4,6,7,8]\n",
    "\n",
    "insert_si_list(list1, element, index)"
   ]
  },
  {
   "cell_type": "code",
   "execution_count": null,
   "id": "13871a14-f8e8-44c8-b5a6-5a8fd8c93729",
   "metadata": {},
   "outputs": [],
   "source": [
    "'''5. Remove an element from a list by its value.'''\n",
    "def remove_ele_list(list1, element):\n",
    "    \n",
    "    \n",
    "    list2=[]\n",
    "    \n",
    "    for i in list1:\n",
    "        if element != i:\n",
    "            list2.append(i)\n",
    "            \n",
    "    return list2\n",
    "\n",
    "##Driver code\n",
    "list1 = [1,2,3,3,4,6,7,8]\n",
    "element = 3\n",
    "\n",
    "remove_ele_list(list1, element)"
   ]
  },
  {
   "cell_type": "code",
   "execution_count": null,
   "id": "83fa147a-392a-4b24-b632-f98092a71d30",
   "metadata": {},
   "outputs": [],
   "source": [
    "'''6. Remove an element from a list by its index.'''\n",
    "\n",
    "def remove_ele_list(list1, elementind):\n",
    "    \n",
    "    list1.pop(elementind)\n",
    "    return list1\n",
    "    \n",
    "    \n",
    "    \n",
    "##Driver code\n",
    "list1 = [1,2,3,4,5,6,7,8]\n",
    "elementind = 6\n",
    "remove_ele_list(list1, elementind)"
   ]
  },
  {
   "cell_type": "code",
   "execution_count": null,
   "id": "6189ad01-46e7-40e8-bc80-177ab52302f0",
   "metadata": {},
   "outputs": [],
   "source": [
    "'''7. Check if an element exists in a list.'''\n",
    "\n",
    "def chcekAnElement(list1, element):\n",
    "    \n",
    "        if element in list1:\n",
    "            return 'Element is available in list'\n",
    "        else:\n",
    "            return 'Element is not available in List'\n",
    "    \n",
    "\n",
    "##Driver code\n",
    "\n",
    "list1 = [1,2,3,4,5,6,7,8,9,10]\n",
    "element = 11\n",
    "\n",
    "chcekAnElement(list1, element)"
   ]
  },
  {
   "cell_type": "code",
   "execution_count": null,
   "id": "5e620e07-cd94-4643-aa2a-8e57db792949",
   "metadata": {},
   "outputs": [],
   "source": [
    "'''8. Find the index of the first occurrence of an element in a list.'''\n",
    "\n",
    "def find_index(list1, element):\n",
    "    \n",
    "    a = 0\n",
    "        \n",
    "    for i in list1:\n",
    "        if element != i:\n",
    "            a = a+1\n",
    "    return a\n",
    "        \n",
    "\n",
    "\n",
    "##Driver code\n",
    "\n",
    "element = 3\n",
    "list1 = [1,2,3,4,5,6,7,8,9,10]\n",
    "\n",
    "find_index(list1, element)"
   ]
  },
  {
   "cell_type": "code",
   "execution_count": null,
   "id": "608693e3-32bc-4631-a359-b3578a7cab4b",
   "metadata": {},
   "outputs": [],
   "source": [
    "'''9. Count the occurrences of an element in a list.'''\n",
    "\n",
    "def count_elem1(list1, element):\n",
    "    \n",
    "    count = 0\n",
    "    for i in list1:\n",
    "        if i == element:\n",
    "            count = count+1\n",
    "            \n",
    "    return count\n",
    "\n",
    "def count_elem2(list1, element):\n",
    "             \n",
    "    return list1.count(element)\n",
    "\n",
    "##Driver code\n",
    "list1 = [1,1,1,2,2,3,3,3,4,5,6,7]\n",
    "element = 2\n",
    "\n",
    "count_elem1(list1 , element)"
   ]
  },
  {
   "cell_type": "code",
   "execution_count": null,
   "id": "8f92a4ba-99ef-48da-9a67-538a57fc252f",
   "metadata": {},
   "outputs": [],
   "source": [
    "'''10. Reverse the order of elements in a list.'''\n",
    "\n",
    "def rev_list(list1):\n",
    "    return list1[::-1]\n",
    "##Driver code\n",
    "list1 = [1,1,1,2,2,3,3,3,4,5,6,7]\n",
    "\n",
    "rev_list(list1)"
   ]
  },
  {
   "cell_type": "code",
   "execution_count": null,
   "id": "28c967e6-4235-4245-9186-2400f5083644",
   "metadata": {},
   "outputs": [],
   "source": [
    "'''11. Sort a list in ascending order.'''\n",
    "\n",
    "def sort_list(list1):\n",
    "    list1.sort()\n",
    "    return list1\n",
    "\n",
    "##Driver code\n",
    "list1 = [1,5,4,3,2,1]\n",
    "\n",
    "sort_list(list1)"
   ]
  },
  {
   "cell_type": "code",
   "execution_count": null,
   "id": "e7f2495e-6d29-4623-8fff-5d481c916711",
   "metadata": {},
   "outputs": [],
   "source": [
    "'''12. Sort a list in descending order.'''\n",
    "def sort_list_d(list1):\n",
    "    list1.sort(reverse = True)\n",
    "    return list1\n",
    "\n",
    "##Driver code\n",
    "list1 = [1,5,4,3,2,1]\n",
    "\n",
    "sort_list_d(list1)"
   ]
  },
  {
   "cell_type": "code",
   "execution_count": null,
   "id": "8d6ad232-704e-4fc8-9e68-162f12d3d8b3",
   "metadata": {},
   "outputs": [],
   "source": [
    "'''13. Create a list of even numbers from 1 to 20.'''\n",
    "x = []\n",
    "for i in range(2,20,2):\n",
    "    x.append(i)\n",
    "print(x)\n"
   ]
  },
  {
   "cell_type": "code",
   "execution_count": null,
   "id": "28f7889a-6d87-43d9-a2e0-477408b10dba",
   "metadata": {},
   "outputs": [],
   "source": [
    "'''14. Create a list of odd numbers from 1 to 20.'''\n",
    "x = []\n",
    "for i in range(1,20,2):\n",
    "    x.append(i)\n",
    "print(x)"
   ]
  },
  {
   "cell_type": "code",
   "execution_count": null,
   "id": "2af3cbff-52f9-4ea0-b2da-6cf87409ef46",
   "metadata": {},
   "outputs": [],
   "source": [
    "'''15. Find the sum of all elements in a list.'''\n",
    "\n",
    "list1 = [1,2,3,4]\n",
    "\n",
    "print (sum(list1))"
   ]
  },
  {
   "cell_type": "code",
   "execution_count": null,
   "id": "5561b5e0-e3f3-4294-88e0-05ac40ca4cfa",
   "metadata": {},
   "outputs": [],
   "source": [
    "'''16. Find the maximum value in a list.'''\n",
    "list1 = [1,2,3,5,10,1,50]\n",
    "print (max(list1))"
   ]
  },
  {
   "cell_type": "code",
   "execution_count": null,
   "id": "50ba34dd-3667-4ac7-b0bb-cb417dab5fd5",
   "metadata": {},
   "outputs": [],
   "source": [
    "'''17. Find the minimum value in a list.'''\n",
    "list1 = [1,2,3,5,10,1,50]\n",
    "print (min(list1))\n"
   ]
  },
  {
   "cell_type": "code",
   "execution_count": null,
   "id": "9c5547d1-c2e2-418c-8e03-83f9bfc2ff03",
   "metadata": {},
   "outputs": [],
   "source": [
    "'''18. Create a list of squares of numbers from 1 to 10.'''\n",
    "\n",
    "list1 = []\n",
    "\n",
    "for i in range(1,11):\n",
    "    list1.append(i**2)\n",
    "print(list1)\n"
   ]
  },
  {
   "cell_type": "code",
   "execution_count": null,
   "id": "3b7f6ee1-37af-470c-ab11-6ed30a0672d2",
   "metadata": {},
   "outputs": [],
   "source": [
    "'''19. Create a list of random numbers.'''\n",
    "\n",
    "import random\n",
    "\n",
    "list1 = []\n",
    "\n",
    "for i in range(1,10):\n",
    "    \n",
    "    l = random.randint(1,100)\n",
    "    list1.append(i)\n",
    "    \n",
    "print (list1)\n"
   ]
  },
  {
   "cell_type": "code",
   "execution_count": null,
   "id": "937c91cd-b31f-4382-ae11-aa185dfe043d",
   "metadata": {},
   "outputs": [],
   "source": [
    "'''20. Remove duplicates from a list.'''\n",
    "list1 =  [1,1,1,2,2,3,3,3,4,5,6,7]\n",
    "print(list(set(list1)))"
   ]
  },
  {
   "cell_type": "code",
   "execution_count": null,
   "id": "7959da8c-b66f-44ca-b4fc-f45c7edc2f3d",
   "metadata": {},
   "outputs": [],
   "source": [
    "'''21. Find the common elements between two lists.'''\n",
    "list1 =  [1,2,3,4,5,6,7]\n",
    "list2 = [10,20,30,40,1,2,20]\n",
    "common = []\n",
    "\n",
    "for i in list1:\n",
    "    if i in list2:\n",
    "        common.append(i)\n",
    "print (common)\n"
   ]
  },
  {
   "cell_type": "code",
   "execution_count": null,
   "id": "7504d003-2789-4169-8ff1-71da1060c64b",
   "metadata": {},
   "outputs": [],
   "source": [
    "'''22. Find the difference between two lists.'''\n",
    "\n",
    "list1 =  [1,2,3,4,5,6,7]\n",
    "list2 = [10,20,30,40,1,2,20]\n",
    "common = []\n",
    "\n",
    "for i in list1:\n",
    "    if i not in list2:\n",
    "        common.append(i)\n",
    "for i in list2:\n",
    "    if i not in list1:\n",
    "        common.append(i)\n",
    "        \n",
    "print (common)"
   ]
  },
  {
   "cell_type": "code",
   "execution_count": null,
   "id": "1cb86f76-80af-46a6-b5ee-fa50eb6844d6",
   "metadata": {},
   "outputs": [],
   "source": [
    "'''23. Merge two lists.'''\n",
    "list1 =  [1,2,3,4,5,6,7]\n",
    "list2 = [10,20,30,40,1,2,20]\n",
    "\n",
    "print(list1 + list2)\n"
   ]
  },
  {
   "cell_type": "code",
   "execution_count": null,
   "id": "869082fe-c651-4a10-9acc-80d52fed41f9",
   "metadata": {},
   "outputs": [],
   "source": [
    "'''24. Multiply all elements in a list by 2.'''\n",
    "list1 =  [1,2,3,4,5,6,7]\n",
    "list2 = []\n",
    "for i in list1:\n",
    "    list2.append(i*2)\n",
    "print(list2)\n"
   ]
  },
  {
   "cell_type": "code",
   "execution_count": null,
   "id": "12e33734-45f1-4237-84c0-3b2fda93b505",
   "metadata": {},
   "outputs": [],
   "source": [
    "'''25. Filter out all even numbers from a list.'''\n",
    "\n",
    "list1 = [3, 4, 5, 6, 7, 10, 20, 30, 40, 20]\n",
    "list2 = []\n",
    "\n",
    "for i in list1:\n",
    "    if i%2 == 0:\n",
    "        list2.append(i)\n",
    "        \n",
    "print(list2)"
   ]
  },
  {
   "cell_type": "code",
   "execution_count": null,
   "id": "26259403-01b4-4e37-820c-f87a7f61c84f",
   "metadata": {},
   "outputs": [],
   "source": [
    "'''26. Convert a list of strings to a list of integers.'''\n",
    "\n",
    "list1 = ['3', '4', '5', '6', '7', '10', '20', '30', '40', '20']\n",
    "list2 = []\n",
    "\n",
    "for i in list1:\n",
    "    list2.append(int(i))\n",
    "    \n",
    "print(list2)"
   ]
  },
  {
   "cell_type": "code",
   "execution_count": null,
   "id": "9bedfd4e-7d87-4d9f-a6d4-89d54959d97a",
   "metadata": {},
   "outputs": [],
   "source": [
    "'''27. Convert a list of integers to a list of strings.'''\n",
    "\n",
    "list1 = [3, 4, 5, 6, 7, 10, 20, 30, 40, 20]\n",
    "list2 = []\n",
    "\n",
    "for i in list1:\n",
    "    list2.append(str(i))\n",
    "    \n",
    "print(list2)"
   ]
  },
  {
   "cell_type": "code",
   "execution_count": null,
   "id": "75c43028-5b5b-4ae5-ba2b-ce55c3b7f021",
   "metadata": {},
   "outputs": [],
   "source": [
    "'''28. Flatten a nested list.'''\n",
    "\n",
    "list1 = [[3, 4], [5, 6], [7, 10, 20], [30, 40, 20]]\n",
    "list2 = []\n",
    "\n",
    "for i in list1:\n",
    "    for k in i:\n",
    "        list2.append(k)\n",
    "print(list2)\n",
    "    \n"
   ]
  },
  {
   "cell_type": "code",
   "execution_count": null,
   "id": "44112123-81b4-4019-8eea-12947545d7bc",
   "metadata": {},
   "outputs": [],
   "source": [
    "'''29. Create a list of the first 10 Fibonacci numbers.'''\n",
    "\n",
    "list1 = [0, 1]\n",
    "\n",
    "for i in range(2,10):\n",
    "    nextfib = list1[i-1] + list1[i-2]\n",
    "    list1.append(nextfib)\n",
    "    \n",
    "print (list1)"
   ]
  },
  {
   "cell_type": "code",
   "execution_count": null,
   "id": "8cd1fc39-9e34-4291-bd31-ac65712d49ad",
   "metadata": {},
   "outputs": [],
   "source": [
    "'''30. Check if a list is sorted.'''\n",
    "\n",
    "def check_sort_list(list1):\n",
    "    \n",
    "    for i in range(0, len(list1)):\n",
    "        if list1[i] < list1[i-1]:\n",
    "            return 'The list is not sorted in assending order.'\n",
    "    return 'The list is sorted in assending order.'\n",
    "\n",
    "##Driver code\n",
    "list1 = [3, 4, 5, 6, 7, 10, 20, 30, 40, 50]\n",
    "\n",
    "check_sort_list(list1)"
   ]
  },
  {
   "cell_type": "code",
   "execution_count": 9,
   "id": "986174ef-d225-4ebf-b2f7-18bd2c542c33",
   "metadata": {},
   "outputs": [
    {
     "data": {
      "text/plain": [
       "[5, 6, 7, 10, 20, 30, 40, 50, 3, 4]"
      ]
     },
     "execution_count": 9,
     "metadata": {},
     "output_type": "execute_result"
    }
   ],
   "source": [
    "'''31. Rotate a list to the left by n positions.'''\n",
    "\n",
    "def rotate_list(list1, n):\n",
    "    list2 = list1[n:] + list1[:n]\n",
    "    \n",
    "    return list2\n",
    "\n",
    "\n",
    "##Driver code\n",
    "list1 = [3, 4, 5, 6, 7, 10, 20, 30, 40, 50]\n",
    "n = 2\n",
    "rotate_list(list1, n)\n"
   ]
  },
  {
   "cell_type": "code",
   "execution_count": 2,
   "id": "1eca687a-f47f-4dcc-926f-16a70dec5301",
   "metadata": {},
   "outputs": [
    {
     "data": {
      "text/plain": [
       "[40, 50, 3, 4, 5, 6, 7, 10, 20, 30]"
      ]
     },
     "execution_count": 2,
     "metadata": {},
     "output_type": "execute_result"
    }
   ],
   "source": [
    "'''32. Rotate a list to the right by n positions.'''\n",
    "\n",
    "def rotate_list_r(list1, n):\n",
    "    list2 = list1[-n:] + list1[:-n]\n",
    "    \n",
    "    return list2\n",
    "\n",
    "\n",
    "##Driver code\n",
    "list1 = [3, 4, 5, 6, 7, 10, 20, 30, 40, 50]\n",
    "n = 2\n",
    "rotate_list_r(list1, n)"
   ]
  },
  {
   "cell_type": "code",
   "execution_count": 1,
   "id": "5ee1cb7b-625d-4799-b4a2-a5bd2edfbe29",
   "metadata": {
    "tags": []
   },
   "outputs": [
    {
     "name": "stdout",
     "output_type": "stream",
     "text": [
      "[2, 3, 5, 7, 11, 13, 17, 19, 23, 29, 31, 37, 41, 43, 47]\n"
     ]
    }
   ],
   "source": [
    "'''33. Create a list of prime numbers up to 50.'''\n",
    "list1 = []\n",
    "for num in range(2,50):\n",
    "    prime = True\n",
    "    for i in range(2,num):\n",
    "        if (num%i==0):\n",
    "            prime = False\n",
    "    if prime:\n",
    "        list1.append(num)\n",
    "print (list1)"
   ]
  },
  {
   "cell_type": "code",
   "execution_count": 14,
   "id": "7e7cda07-f49a-4d71-9c29-ce76d2d25719",
   "metadata": {},
   "outputs": [
    {
     "name": "stdout",
     "output_type": "stream",
     "text": [
      "[1, 2, 3, 5]\n",
      "[6, 5, 89, 5, 5, 2, 65, 5, 65, 65, 65898, 8, 1]\n"
     ]
    }
   ],
   "source": [
    "'''34. Split a list into chunks of size n.'''\n",
    "def split_list(list1, n):\n",
    "    l1 = []\n",
    "    l2 = [] \n",
    "\n",
    "    for i in list1:\n",
    "        if len(l1) <= n:\n",
    "            l1.append(i)\n",
    "        else:\n",
    "            l2.append(i)\n",
    "    print (l1)\n",
    "    print (l2)\n",
    "\n",
    "    \n",
    "    \n",
    "#Driver code\n",
    "list1 = [1,2,3,5,6,5,89,5,5,2,65,5,65,65,65898,8,1]\n",
    "n = 3\n",
    "\n",
    "split_list(list1, n)\n"
   ]
  },
  {
   "cell_type": "code",
   "execution_count": 5,
   "id": "e5844d54-6082-4494-836d-4b0a06df1219",
   "metadata": {},
   "outputs": [
    {
     "name": "stdout",
     "output_type": "stream",
     "text": [
      "The second largest number is: 90\n"
     ]
    }
   ],
   "source": [
    "'''35. Find the second largest number in a list.'''\n",
    "\n",
    "list1 = [1,2,3,5,6,5,89,5,5,2,65,5,65,65,65898,8,1, 90]\n",
    "\n",
    "list1.sort()\n",
    "\n",
    "print('The second largest number is: ' + str(list1[-2]))"
   ]
  },
  {
   "cell_type": "code",
   "execution_count": 47,
   "id": "9b2b5aca-bde7-4fa0-8d34-07bf7b0b971b",
   "metadata": {},
   "outputs": [
    {
     "name": "stdout",
     "output_type": "stream",
     "text": [
      "[1, 4, 9, 25, 36, 25, 7921, 25, 25, 4, 4225, 25, 4225, 4225, 4342546404, 64, 1, 8100]\n",
      "[1, 4, 9, 25, 36, 25, 7921, 25, 25, 4, 4225, 25, 4225, 4225, 4342546404, 64, 1, 8100]\n"
     ]
    }
   ],
   "source": [
    "'''36. Replace every element in a list with its square.'''\n",
    "list1 = [1,2,3,5,6,5,89,5,5,2,65,5,65,65,65898,8,1, 90]\n",
    "\n",
    "for i in range(0, len(list1)):\n",
    "    list1[i] = list1[i]**2\n",
    "      \n",
    "print(list1)\n",
    "\n",
    "#other approch\n",
    "\n",
    "for i in list1:\n",
    "    i == i**2\n",
    "print(list1)\n",
    "    "
   ]
  },
  {
   "cell_type": "code",
   "execution_count": 63,
   "id": "744b0b2f-93ce-4ec3-bf17-91b98e2fe9fc",
   "metadata": {},
   "outputs": [
    {
     "name": "stdout",
     "output_type": "stream",
     "text": [
      "{'apple': 0, 'banana': 1, 'pineapple': 2, 'graps': 3}\n"
     ]
    }
   ],
   "source": [
    "'''37. Convert a list to a dictionary where list elements become keys and their indices become values.'''\n",
    "\n",
    "list1 = ['apple', 'banana', 'pineapple', 'graps']\n",
    "dict1 = {}\n",
    "\n",
    "for i, j in enumerate(list1):\n",
    "    dict2 = {j: i}\n",
    "    dict3 = dict1.update(dict2)\n",
    "      \n",
    "print(dict1)"
   ]
  },
  {
   "cell_type": "code",
   "execution_count": 2,
   "id": "750e9dcb-133f-48d4-a7c0-a952be773805",
   "metadata": {},
   "outputs": [
    {
     "name": "stdout",
     "output_type": "stream",
     "text": [
      "[2, 1, 5, 6, 4, 3]\n"
     ]
    }
   ],
   "source": [
    "'''38. Shuffle the elements of a list randomly.'''\n",
    "\n",
    "import random as ran\n",
    "list1 = [1,2,3,4,5,6]\n",
    "\n",
    "ran.shuffle(list1)\n",
    "\n",
    "print(list1)\n"
   ]
  },
  {
   "cell_type": "code",
   "execution_count": 4,
   "id": "19506e1a-c809-4102-b3ae-334699437f17",
   "metadata": {},
   "outputs": [
    {
     "name": "stdout",
     "output_type": "stream",
     "text": [
      "[1, 1, 2, 6, 24, 120, 720, 5040, 40320, 362880]\n"
     ]
    }
   ],
   "source": [
    "'''39. Create a list of the first 10 factorial numbers.'''\n",
    "\n",
    "list1 = [1]\n",
    "j = 1\n",
    "for i in range (1,10):\n",
    "    j = i*j\n",
    "    list1.append(j)\n",
    "\n",
    "\n",
    "print(list1)\n",
    "    "
   ]
  },
  {
   "cell_type": "code",
   "execution_count": 31,
   "id": "bd368aaa-83df-4d4f-8756-18919dbc3e64",
   "metadata": {},
   "outputs": [
    {
     "data": {
      "text/plain": [
       "'There is no any common word'"
      ]
     },
     "execution_count": 31,
     "metadata": {},
     "output_type": "execute_result"
    }
   ],
   "source": [
    "'''40. Check if two lists have at least one element in common.'''\n",
    "\n",
    "def check_common_list(list1, list2):\n",
    "    for i in list1:\n",
    "        if i in list2:\n",
    "            return ('The comman word is: ' + str(i)) \n",
    "    return ('There is no any common word')\n",
    "\n",
    "\n",
    "#Driver code\n",
    "\n",
    "list1 = [1,2,3,4,5,6]\n",
    "list2 = [9,10,11,12]\n",
    "\n",
    "check_common_list(list1, list2)"
   ]
  },
  {
   "cell_type": "code",
   "execution_count": 32,
   "id": "88e0eecd-b7fe-4c27-96bf-71869565d274",
   "metadata": {},
   "outputs": [
    {
     "name": "stdout",
     "output_type": "stream",
     "text": [
      "[]\n"
     ]
    }
   ],
   "source": [
    "'''41. Remove all elements from a list.'''\n",
    "\n",
    "list1 = [1,2,3,4,5,6]\n",
    "list1.clear()\n",
    "\n",
    "print(list1)"
   ]
  },
  {
   "cell_type": "code",
   "execution_count": 45,
   "id": "468c32f1-321c-4d2c-a4a7-f63a3a5a0cdf",
   "metadata": {},
   "outputs": [
    {
     "name": "stdout",
     "output_type": "stream",
     "text": [
      "[1, 2, 3, 4, 5, 6, 0]\n"
     ]
    }
   ],
   "source": [
    "'''42. Replace negative numbers in a list with 0'''\n",
    "\n",
    "list1 = [1,2,3,4,5,6,-6]\n",
    "\n",
    "for i in range(0, len(list1)):\n",
    "    if list1[i] < 0:\n",
    "        list1[i] = 0\n",
    "        \n",
    "print(list1)"
   ]
  },
  {
   "cell_type": "code",
   "execution_count": 54,
   "id": "054e9c9c-b3e2-4b3e-9302-5ed5250d2cd8",
   "metadata": {},
   "outputs": [
    {
     "name": "stdout",
     "output_type": "stream",
     "text": [
      "['1', '2', '50', '4', '5', '6']\n"
     ]
    }
   ],
   "source": [
    "'''43. Convert a string into a list of words.'''\n",
    "\n",
    "list1 = [1,2,50,4,5,6]\n",
    "\n",
    "for i in range(0, len(list1)):\n",
    "    list1[i] = str(list1[i])\n",
    "    \n",
    "print(list1)"
   ]
  },
  {
   "cell_type": "code",
   "execution_count": 60,
   "id": "f8cec315-a775-4efe-97ae-7b6f38a2bf6b",
   "metadata": {},
   "outputs": [
    {
     "name": "stdout",
     "output_type": "stream",
     "text": [
      " i am Prakash Singh\n"
     ]
    }
   ],
   "source": [
    "'''44. Convert a list of words into a string.'''\n",
    "\n",
    "list1 = ['i', 'am', 'Prakash', 'Singh']\n",
    "str1 = ''\n",
    "for i in list1:\n",
    "    str1 = str1 + ' ' + i\n",
    "\n",
    "print(str1)"
   ]
  },
  {
   "cell_type": "code",
   "execution_count": 102,
   "id": "acecad13-43ab-4fa7-b27d-2610cc5e6223",
   "metadata": {},
   "outputs": [
    {
     "name": "stdout",
     "output_type": "stream",
     "text": [
      "[1, 2, 4, 8, 16, 32, 64, 128, 256, 512]\n"
     ]
    }
   ],
   "source": [
    "'''45. Create a list of the first n powers of 2.'''\n",
    "n = 10\n",
    "list1 = []\n",
    "\n",
    "for i in range(n):\n",
    "    list1.append(2**i)\n",
    "    \n",
    "print(list1)\n"
   ]
  },
  {
   "cell_type": "code",
   "execution_count": 113,
   "id": "e237188c-7724-45ee-9660-78f20cf7ef31",
   "metadata": {},
   "outputs": [
    {
     "name": "stdout",
     "output_type": "stream",
     "text": [
      "Prakash\n"
     ]
    }
   ],
   "source": [
    "'''46. Find the longest string in a list of strings.'''\n",
    "\n",
    "list1 = ['i', 'am', 'Prakash', 'singh']\n",
    "s1 = ''\n",
    "\n",
    "for i in list1:\n",
    "    if len(i) > len(s1):\n",
    "        s1 = i\n",
    "        \n",
    "print(s1)\n",
    "\n"
   ]
  },
  {
   "cell_type": "code",
   "execution_count": 120,
   "id": "b4fabf3a-7c90-4b04-aeac-f525c32765ef",
   "metadata": {},
   "outputs": [
    {
     "name": "stdout",
     "output_type": "stream",
     "text": [
      "iss\n"
     ]
    }
   ],
   "source": [
    "'''47. Find the shortest string in a list of strings.'''\n",
    "\n",
    "list1 = ['i', 'am', 'Prakash', 'singh']\n",
    "s1 = list1[0]\n",
    "\n",
    "for i in list1:\n",
    "    if len(s1) > len(i):\n",
    "        s1 = i\n",
    "        \n",
    "print(s1)\n",
    "    "
   ]
  },
  {
   "cell_type": "code",
   "execution_count": 125,
   "id": "9a5d119b-2135-4e21-9176-ba5e5dcfdad9",
   "metadata": {},
   "outputs": [
    {
     "name": "stdout",
     "output_type": "stream",
     "text": [
      "[1, 3, 6, 10, 15, 21, 28, 36, 45, 55]\n"
     ]
    }
   ],
   "source": [
    "'''48. Create a list of the first n triangular numbers.'''\n",
    "\n",
    "list1 = []\n",
    "\n",
    "for i in range(1, n+1):\n",
    "    list1.append(i*(i+1)//2)\n",
    "    \n",
    "print(list1)"
   ]
  },
  {
   "cell_type": "code",
   "execution_count": 32,
   "id": "ad1241cd-857c-4922-be3c-c639ab2f34ec",
   "metadata": {},
   "outputs": [
    {
     "name": "stdout",
     "output_type": "stream",
     "text": [
      "Other list is available in main list\n"
     ]
    }
   ],
   "source": [
    "'''49. Check if a list contains another list as a subsequence.'''\n",
    "\n",
    "    \n",
    "mainlist = [3,4,6,8,10]\n",
    "otherlist = [8, 10]\n",
    "temp_var = 0\n",
    "\n",
    "for i in mainlist:\n",
    "    if i == otherlist[temp_var]:\n",
    "        temp_var += 1\n",
    "        if temp_var == len(otherlist):\n",
    "            print('Other list is available in main list')\n",
    "            break          \n"
   ]
  },
  {
   "cell_type": "code",
   "execution_count": 41,
   "id": "3cdb88c6-9007-46ea-a01d-dd5dd379908c",
   "metadata": {},
   "outputs": [
    {
     "name": "stdout",
     "output_type": "stream",
     "text": [
      "[1, 3, 2, 4, 5]\n"
     ]
    }
   ],
   "source": [
    "'''50. Swap two elements in a list by their indices.'''\n",
    "\n",
    "list1 = [1,2,3,4,5]\n",
    "\n",
    "indices1 = 1\n",
    "indices2 = 2\n",
    "\n",
    "temp_var = list1[indices1]\n",
    "\n",
    "list1[indices1] = list1[indices2]\n",
    "\n",
    "list1[indices2] = temp_var\n",
    "\n",
    "print(list1)"
   ]
  },
  {
   "cell_type": "code",
   "execution_count": 42,
   "id": "afd29355-87dd-41b7-bfe5-3070473ea967",
   "metadata": {},
   "outputs": [],
   "source": [
    "#Tuple based practice problem :"
   ]
  },
  {
   "cell_type": "code",
   "execution_count": 48,
   "id": "f05ed475-fc42-4e4a-a1fd-ee6438d38d20",
   "metadata": {},
   "outputs": [
    {
     "name": "stdout",
     "output_type": "stream",
     "text": [
      "(1, 2, 3, 4, 5)\n"
     ]
    }
   ],
   "source": [
    "'''1. Create a tuple with integers from 1 to 5.'''\n",
    "\n",
    "tup = (1,2,3,4,5)\n",
    "print(tup)\n",
    "    "
   ]
  },
  {
   "cell_type": "code",
   "execution_count": 1,
   "id": "804d8a70-e5f7-4e3c-8123-cac72e5aaf05",
   "metadata": {},
   "outputs": [
    {
     "name": "stdout",
     "output_type": "stream",
     "text": [
      "3\n"
     ]
    }
   ],
   "source": [
    "'''2. Access the third element of a tuple.'''\n",
    "\n",
    "tup = (1,2,3,4,5)\n",
    "n = 3\n",
    "print(tup[n-1])"
   ]
  },
  {
   "cell_type": "code",
   "execution_count": 2,
   "id": "b62f5e0e-fc87-4183-ab2a-a1dfcff95544",
   "metadata": {},
   "outputs": [
    {
     "name": "stdout",
     "output_type": "stream",
     "text": [
      "The length of tuple is: 5\n"
     ]
    }
   ],
   "source": [
    "'''3. Find the length of a tuple without using the len() function.'''\n",
    "\n",
    "tup = (1,2,3,4,5)\n",
    "length = 0\n",
    "\n",
    "for i in tup:\n",
    "    length += 1\n",
    "\n",
    "print('The length of tuple is: ' + str(length))"
   ]
  },
  {
   "cell_type": "code",
   "execution_count": 55,
   "id": "ae3e7a48-5a18-4e69-bf78-cb14a824e250",
   "metadata": {},
   "outputs": [
    {
     "name": "stdout",
     "output_type": "stream",
     "text": [
      "The occurance of 1 is: 2\n"
     ]
    }
   ],
   "source": [
    "'''4. Count the occurrences of an element in a tuple.'''\n",
    "\n",
    "tup = (1,2,3,4,5,1)\n",
    "element = 1\n",
    "\n",
    "occurance = 0\n",
    "for i in tup:\n",
    "    if i == element:\n",
    "        occurance += 1\n",
    "\n",
    "print('The occurance of ' + str(element) + ' is: ' + str(occurance))"
   ]
  },
  {
   "cell_type": "code",
   "execution_count": 69,
   "id": "8e8c80cf-c3f6-45f0-9d10-3c99d012feeb",
   "metadata": {},
   "outputs": [
    {
     "name": "stdout",
     "output_type": "stream",
     "text": [
      "The index of first occurance of 4 is: 3\n"
     ]
    }
   ],
   "source": [
    "'''5. Find the index of the first occurrence of an element in a tuple.'''\n",
    "\n",
    "tup = (1,2,3,4,4,5,5)\n",
    "element = 4\n",
    "occurance = 0\n",
    "\n",
    "for i in (tup):\n",
    "    \n",
    "    if i == element:\n",
    "        print('The index of first occurance of ' + str(element) +  ' is: ' + str(i-1))\n",
    "        break\n",
    "\n"
   ]
  },
  {
   "cell_type": "code",
   "execution_count": 1,
   "id": "b940ef60-1485-45a5-986b-0af3e4ad60e4",
   "metadata": {},
   "outputs": [
    {
     "name": "stdout",
     "output_type": "stream",
     "text": [
      "element does not exists in tuple\n"
     ]
    }
   ],
   "source": [
    "'''6. Check if an element exists in a tuple.'''\n",
    "\n",
    "tup = (1,2,3,4,4,5,5)\n",
    "element = 6\n",
    "\n",
    "if element in tup:\n",
    "    print('element exists in tuple')\n",
    "else:\n",
    "    print('element does not exists in tuple')"
   ]
  },
  {
   "cell_type": "code",
   "execution_count": 3,
   "id": "a4b87e44-03ff-4e8a-8e56-4534faed84aa",
   "metadata": {},
   "outputs": [
    {
     "data": {
      "text/plain": [
       "[1, 2, 3, 4, 4, 5, 5]"
      ]
     },
     "execution_count": 3,
     "metadata": {},
     "output_type": "execute_result"
    }
   ],
   "source": [
    "'''7. Convert a tuple to a list.'''\n",
    "\n",
    "tup = (1,2,3,4,4,5,5)\n",
    "\n",
    "list1 = list(tup)\n",
    "\n",
    "list1"
   ]
  },
  {
   "cell_type": "code",
   "execution_count": 5,
   "id": "a7060435-e64b-4dc5-bb37-a9dce405181d",
   "metadata": {},
   "outputs": [
    {
     "data": {
      "text/plain": [
       "(1, 2, 3, 4, 4, 5, 5)"
      ]
     },
     "execution_count": 5,
     "metadata": {},
     "output_type": "execute_result"
    }
   ],
   "source": [
    "'''8. Convert a list to a tuple.'''\n",
    "\n",
    "list1 = [1,2,3,4,4,5,5]\n",
    "\n",
    "tup = tuple(list1)\n",
    "\n",
    "tup"
   ]
  },
  {
   "cell_type": "code",
   "execution_count": 10,
   "id": "d2f930b9-f32e-4fb7-8fe9-25fcadc6d261",
   "metadata": {},
   "outputs": [
    {
     "name": "stdout",
     "output_type": "stream",
     "text": [
      "1\n",
      "2\n",
      "3\n"
     ]
    }
   ],
   "source": [
    "'''9. Unpack the elements of a tuple into variables.'''\n",
    "\n",
    "tup = (1,2,3)\n",
    "\n",
    "v1, v2, v3 = tup\n",
    "\n",
    "print(v1)\n",
    "print(v2)\n",
    "print(v3)"
   ]
  },
  {
   "cell_type": "code",
   "execution_count": 15,
   "id": "e3f11f0e-2229-4202-9a14-cfb797defe6c",
   "metadata": {},
   "outputs": [
    {
     "data": {
      "text/plain": [
       "(2, 4, 6, 8, 10)"
      ]
     },
     "execution_count": 15,
     "metadata": {},
     "output_type": "execute_result"
    }
   ],
   "source": [
    "'''10. Create a tuple of even numbers from 1 to 10.'''\n",
    "\n",
    "list1 = [i for i in range(2,11,2)]\n",
    "\n",
    "tuple(list1)"
   ]
  },
  {
   "cell_type": "code",
   "execution_count": 17,
   "id": "fd5890a0-6f24-496b-bbb1-8825a02f410e",
   "metadata": {},
   "outputs": [
    {
     "data": {
      "text/plain": [
       "(1, 3, 5, 7, 9)"
      ]
     },
     "execution_count": 17,
     "metadata": {},
     "output_type": "execute_result"
    }
   ],
   "source": [
    "'''11. Create a tuple of odd numbers from 1 to 10.'''\n",
    "\n",
    "list1 = [i for i in range(1,10,2)]\n",
    "\n",
    "tuple(list1)\n"
   ]
  },
  {
   "cell_type": "code",
   "execution_count": 20,
   "id": "7a06d190-9bd5-4c0d-b75f-0fc64f6bcd75",
   "metadata": {},
   "outputs": [
    {
     "data": {
      "text/plain": [
       "(1, 2, 3, 4, 5, 6)"
      ]
     },
     "execution_count": 20,
     "metadata": {},
     "output_type": "execute_result"
    }
   ],
   "source": [
    "'''12. Concatenate two tuples.'''\n",
    "tup1 =  (1,2,3)\n",
    "tup2 = (4,5,6)\n",
    "\n",
    "tup3 = tup1 + tup2\n",
    "tup3\n"
   ]
  },
  {
   "cell_type": "code",
   "execution_count": null,
   "id": "8eaf4c58-4342-4a6a-8c7c-cf94ca43c930",
   "metadata": {},
   "outputs": [
    {
     "data": {
      "text/plain": [
       "(1, 2, 3, 1, 2, 3, 1, 2, 3)"
      ]
     },
     "execution_count": 3,
     "metadata": {},
     "output_type": "execute_result"
    }
   ],
   "source": [
    "'''13. Repeat a tuple three times.'''\n",
    "\n",
    "tup1 =  (1,2,3)\n",
    "\n",
    "tup2 = tup1 * 3\n",
    "\n",
    "tup2"
   ]
  },
  {
   "cell_type": "code",
   "execution_count": 27,
   "id": "ab2a7146-5f20-49e3-8db6-656cad09fd81",
   "metadata": {},
   "outputs": [
    {
     "name": "stdout",
     "output_type": "stream",
     "text": [
      "Tuple is empty\n"
     ]
    }
   ],
   "source": [
    "'''14. Check if a tuple is empty'''\n",
    "\n",
    "tup1 = ()\n",
    "\n",
    "if len(tup1) == 0:\n",
    "    print('Tuple is empty')\n",
    "else:\n",
    "    print('Tuple is not empty')"
   ]
  },
  {
   "cell_type": "code",
   "execution_count": 2,
   "id": "1d9c44ed-1b0c-4325-b96b-12f3ec2c6792",
   "metadata": {},
   "outputs": [
    {
     "data": {
      "text/plain": [
       "((1, 2, 3, 4, 5), ('My', 'name', 'is', 'prakash'))"
      ]
     },
     "execution_count": 2,
     "metadata": {},
     "output_type": "execute_result"
    }
   ],
   "source": [
    "'''15. Create a nested tuple.'''\n",
    "\n",
    "tup1 = ((1,2,3,4,5,), ('My', 'name', 'is', 'prakash'))\n",
    "\n",
    "tup1"
   ]
  },
  {
   "cell_type": "code",
   "execution_count": 1,
   "id": "5545ecbc-aeac-4b7e-bca2-42eab906c305",
   "metadata": {},
   "outputs": [
    {
     "name": "stdout",
     "output_type": "stream",
     "text": [
      "(1, 2, 3, 4, 5)\n"
     ]
    }
   ],
   "source": [
    "'''16. Access the first element of a nested tuple.'''\n",
    "\n",
    "tup1 = ((1,2,3,4,5,), ('My', 'name', 'is', 'prakash'))\n",
    "\n",
    "print(tup1[0])\n"
   ]
  },
  {
   "cell_type": "code",
   "execution_count": 7,
   "id": "50609910-f0db-4ae5-b59d-b6c973528e61",
   "metadata": {},
   "outputs": [
    {
     "data": {
      "text/plain": [
       "tuple"
      ]
     },
     "execution_count": 7,
     "metadata": {},
     "output_type": "execute_result"
    }
   ],
   "source": [
    "'''17. Create a tuple with a single element.'''\n",
    "\n",
    "tup1 = (1,)\n",
    "type(tup1)"
   ]
  },
  {
   "cell_type": "code",
   "execution_count": 13,
   "id": "08fa5e88-c1a3-4a67-8790-e82618dca3b7",
   "metadata": {},
   "outputs": [
    {
     "name": "stdout",
     "output_type": "stream",
     "text": [
      "tuple1 is lower than tuple2\n"
     ]
    }
   ],
   "source": [
    "'''18. Compare two tuples.'''\n",
    "\n",
    "tuple1 = (1,2)\n",
    "tuple2 = (3,4,5)\n",
    "\n",
    "if tuple1 == tuple2:\n",
    "    print('Both tuples are equal')\n",
    "elif tuple1 < tuple2:\n",
    "    print('tuple1 is lower than tuple2')\n",
    "elif tuple1 > tuple2:\n",
    "    print('tuple1 is greater than tuple2')"
   ]
  },
  {
   "cell_type": "code",
   "execution_count": 1,
   "id": "f3cc421c-2541-4b54-a640-4beb674fcef8",
   "metadata": {},
   "outputs": [
    {
     "ename": "NameError",
     "evalue": "name 'tuple1' is not defined",
     "output_type": "error",
     "traceback": [
      "\u001b[0;31m---------------------------------------------------------------------------\u001b[0m",
      "\u001b[0;31mNameError\u001b[0m                                 Traceback (most recent call last)",
      "Cell \u001b[0;32mIn[1], line 7\u001b[0m\n\u001b[1;32m      3\u001b[0m tuple1 \u001b[38;5;241m=\u001b[39m (\u001b[38;5;241m1\u001b[39m,\u001b[38;5;241m2\u001b[39m,\u001b[38;5;241m3\u001b[39m)\n\u001b[1;32m      5\u001b[0m \u001b[38;5;28;01mdel\u001b[39;00m tuple1\n\u001b[0;32m----> 7\u001b[0m \u001b[38;5;28mprint\u001b[39m(\u001b[43mtuple1\u001b[49m)\n",
      "\u001b[0;31mNameError\u001b[0m: name 'tuple1' is not defined"
     ]
    }
   ],
   "source": [
    "'''19. Delete a tuple.'''\n",
    "\n",
    "tuple1 = (1,2,3)\n",
    "\n",
    "del tuple1\n",
    "\n",
    "print(tuple1)"
   ]
  },
  {
   "cell_type": "code",
   "execution_count": 2,
   "id": "15b8c623-713a-430e-98d0-6c0072637917",
   "metadata": {},
   "outputs": [
    {
     "data": {
      "text/plain": [
       "(1, 2, 3)"
      ]
     },
     "execution_count": 2,
     "metadata": {},
     "output_type": "execute_result"
    }
   ],
   "source": [
    "'''20. Slice a tuple.'''\n",
    "\n",
    "tuple1 = (1,2,3,4,5,6)\n",
    "\n",
    "slice_tuple = tuple1[0:3]\n",
    "\n",
    "slice_tuple"
   ]
  },
  {
   "cell_type": "code",
   "execution_count": 3,
   "id": "8546a455-b8d2-4d3f-8e47-ce5add48e091",
   "metadata": {},
   "outputs": [
    {
     "name": "stdout",
     "output_type": "stream",
     "text": [
      "6\n"
     ]
    }
   ],
   "source": [
    "'''21. Find the maximum value in a tuple.'''\n",
    "\n",
    "tuple1 = (1,2,3,4,5,6)\n",
    "print(max(tuple1))"
   ]
  },
  {
   "cell_type": "code",
   "execution_count": 7,
   "id": "9c5e154b-acc3-4e04-87c3-9ee33aebe9ca",
   "metadata": {},
   "outputs": [
    {
     "name": "stdout",
     "output_type": "stream",
     "text": [
      "1\n"
     ]
    }
   ],
   "source": [
    "'''22. Find the minimum value in a tuple.'''\n",
    "\n",
    "tuple1 = (1,2,3,4,5,6)\n",
    "print(min(tuple1))"
   ]
  },
  {
   "cell_type": "code",
   "execution_count": 12,
   "id": "ff6d3e53-f2b4-4e4e-8398-f3cca4d7bc81",
   "metadata": {},
   "outputs": [
    {
     "name": "stdout",
     "output_type": "stream",
     "text": [
      "('P', 'r', 'a', 'k', 'a', 's', 'h', ' ', 'S', 'i', 'n', 'g', 'h')\n"
     ]
    }
   ],
   "source": [
    "'''23. Convert a string to a tuple of characters'''\n",
    "\n",
    "string = 'Prakash Singh'\n",
    "print(tuple(string))"
   ]
  },
  {
   "cell_type": "code",
   "execution_count": 5,
   "id": "36a9d9e3-d88a-4966-81fb-0edc750a7020",
   "metadata": {},
   "outputs": [
    {
     "name": "stdout",
     "output_type": "stream",
     "text": [
      "Prakash Singh\n"
     ]
    }
   ],
   "source": [
    "'''24. Convert a tuple of characters to a string.'''\n",
    "tuple1 = ('P', 'r', 'a', 'k', 'a', 's', 'h', ' ', 'S', 'i', 'n', 'g', 'h')\n",
    "\n",
    "print(''.join(tuple1))\n"
   ]
  },
  {
   "cell_type": "code",
   "execution_count": 6,
   "id": "dfbe170b-e29d-4b97-a68e-3c2218d00259",
   "metadata": {},
   "outputs": [
    {
     "data": {
      "text/plain": [
       "('Hello', 1, 1.0, True, False)"
      ]
     },
     "execution_count": 6,
     "metadata": {},
     "output_type": "execute_result"
    }
   ],
   "source": [
    "'''25. Create a tuple from multiple data types'''\n",
    "\n",
    "tuple1 = ('Hello', 1 , 1.0, True, False)\n",
    "\n",
    "tuple1"
   ]
  },
  {
   "cell_type": "code",
   "execution_count": 3,
   "id": "c4b6a237-2c04-4ab3-9fde-d9a17824e6ea",
   "metadata": {},
   "outputs": [
    {
     "data": {
      "text/plain": [
       "True"
      ]
     },
     "execution_count": 3,
     "metadata": {},
     "output_type": "execute_result"
    }
   ],
   "source": [
    "'''26. Check if two tuples are identical.'''\n",
    "\n",
    "tuple1 = ('Hello', 1 , 1.0, True, False)\n",
    "tuple2 = ('Hello', 1 , 1.0, True, False)\n",
    "\n",
    "tuple1 == tuple2"
   ]
  },
  {
   "cell_type": "code",
   "execution_count": 8,
   "id": "148a9e9e-56aa-4b16-9825-2b0a53a7d4eb",
   "metadata": {},
   "outputs": [
    {
     "data": {
      "text/plain": [
       "[1, 2, 3, 4, 5, 6]"
      ]
     },
     "execution_count": 8,
     "metadata": {},
     "output_type": "execute_result"
    }
   ],
   "source": [
    "'''27. Sort the elements of a tuple'''\n",
    "\n",
    "tuple1 = (1,2,4,3,5,6)\n",
    "\n",
    "sorted(tuple1)"
   ]
  },
  {
   "cell_type": "code",
   "execution_count": 11,
   "id": "cd93d1b4-d530-479c-ad77-5dbb703f3f0e",
   "metadata": {},
   "outputs": [
    {
     "name": "stdout",
     "output_type": "stream",
     "text": [
      "('1', '2', '4', '3', '5', '6')\n"
     ]
    }
   ],
   "source": [
    "'''28. Convert a tuple of integers to a tuple of strings.'''\n",
    "tuple1 = (1,2,4,3,5,6)\n",
    "\n",
    "tuple2 = []\n",
    "for i in tuple1:\n",
    "    tuple2.append(str(i))\n",
    "\n",
    "tuple3 = tuple(tuple2)\n",
    "    \n",
    "print(tuple3)"
   ]
  },
  {
   "cell_type": "code",
   "execution_count": 16,
   "id": "3fd3b8a8-1ad7-496d-af8e-08160cbad57d",
   "metadata": {},
   "outputs": [
    {
     "name": "stdout",
     "output_type": "stream",
     "text": [
      "(1, 2, 4, 3, 5, 6)\n"
     ]
    }
   ],
   "source": [
    "'''29. Convert a tuple of strings to a tuple of integers.'''\n",
    "\n",
    "tuple1 = ('1', '2', '4', '3', '5', '6')\n",
    "\n",
    "tuple2 = []\n",
    "for i in tuple1:\n",
    "    tuple2.append(int(i))\n",
    "\n",
    "tuple3 = tuple(tuple2)\n",
    "    \n",
    "print(tuple3)"
   ]
  },
  {
   "cell_type": "code",
   "execution_count": 22,
   "id": "1cf8efd4-924f-4d9a-9b12-ea4d9e994427",
   "metadata": {},
   "outputs": [
    {
     "data": {
      "text/plain": [
       "(1, 2, 3, 4, 5, 6)"
      ]
     },
     "execution_count": 22,
     "metadata": {},
     "output_type": "execute_result"
    }
   ],
   "source": [
    "'''30. Merge two tuples.'''\n",
    "tuple1 = (1,2,3)\n",
    "tuple2= (4,5,6)\n",
    "\n",
    "tuple3 = tuple1 + tuple2\n",
    "\n",
    "tuple3"
   ]
  },
  {
   "cell_type": "code",
   "execution_count": 44,
   "id": "a50eecf5-25d5-4b4e-ae6f-8a63e5bdc5ab",
   "metadata": {},
   "outputs": [
    {
     "name": "stdout",
     "output_type": "stream",
     "text": [
      "(1, 2, 3, 2, 3, 4, 4, 5, 6)\n"
     ]
    }
   ],
   "source": [
    "'''31. Flatten a nested tuple.'''\n",
    "tuple1 = ((1,2,3), (2,3,4), (4,5,6))\n",
    "\n",
    "tuple2 = []\n",
    "for i in tuple1:\n",
    "    if len(tuple1) > 1:\n",
    "        for j in i:\n",
    "            tuple2.append(j)\n",
    "\n",
    "tuple3 = tuple(tuple2)\n",
    "print(tuple3)"
   ]
  },
  {
   "cell_type": "code",
   "execution_count": 46,
   "id": "53857e22-56c1-42ca-a7db-76e15e760fd9",
   "metadata": {},
   "outputs": [
    {
     "name": "stdout",
     "output_type": "stream",
     "text": [
      "(2, 3, 5, 7, 11)\n"
     ]
    }
   ],
   "source": [
    "'''32. Create a tuple of the first 5 prime numbers.'''\n",
    "\n",
    "n = 5\n",
    "list1 = []\n",
    "for num in range(2, n*3):\n",
    "    prime = True\n",
    "    for i in range(2,num):\n",
    "        if (num%i==0):\n",
    "            prime = False\n",
    "    if prime:\n",
    "        list1.append(num)\n",
    "        \n",
    "tuple2 = tuple(list1[0:n])\n",
    "\n",
    "print(tuple2)\n"
   ]
  },
  {
   "cell_type": "code",
   "execution_count": 11,
   "id": "f68a1b52-0839-4e27-94cf-650cdd08b168",
   "metadata": {},
   "outputs": [
    {
     "name": "stdout",
     "output_type": "stream",
     "text": [
      "tuple is note a palindrome\n"
     ]
    }
   ],
   "source": [
    "'''33. Check if a tuple is a palindrome.'''\n",
    "\n",
    "tuple1 = (1,2,11)\n",
    "\n",
    "list1 = list(tuple1)\n",
    "list2 = list1\n",
    "list2.reverse()\n",
    "\n",
    "tuple2 = tuple(list2)\n",
    "\n",
    "if tuple1 == tuple2:\n",
    "    print('tuple is a palindrome')\n",
    "else:\n",
    "    print('tuple is note a palindrome')"
   ]
  },
  {
   "cell_type": "code",
   "execution_count": 5,
   "id": "2ebb573d-c033-437f-8e5e-13dd68f6f36e",
   "metadata": {},
   "outputs": [
    {
     "name": "stdout",
     "output_type": "stream",
     "text": [
      "(3, 2, 1)\n"
     ]
    }
   ],
   "source": [
    "tuple1 = (1,2,3)\n",
    "\n",
    "list1 = list(tuple1)\n",
    "list11 = list1\n",
    "list11.reverse()\n",
    "\n",
    "tuple1 = tuple(list11)\n",
    "print(tuple1)"
   ]
  },
  {
   "cell_type": "code",
   "execution_count": 15,
   "id": "c329ce8d-ad5b-4847-84a1-c0f99eac6f95",
   "metadata": {},
   "outputs": [
    {
     "name": "stdout",
     "output_type": "stream",
     "text": [
      "(1, 4, 9, 16, 25)\n"
     ]
    }
   ],
   "source": [
    "'''34. Create a tuple of squares of numbers from 1 to 5.'''\n",
    "l1 = []\n",
    "n = 5\n",
    "for i in range (1,n+1):\n",
    "    l1.append(i**2)\n",
    "\n",
    "l2 = tuple(l1)\n",
    "    \n",
    "print(l2)"
   ]
  },
  {
   "cell_type": "code",
   "execution_count": 20,
   "id": "9cbd0f7d-be17-44ab-9771-3fe023292489",
   "metadata": {},
   "outputs": [
    {
     "name": "stdout",
     "output_type": "stream",
     "text": [
      "1\n",
      "3\n",
      "5\n",
      "7\n",
      "9\n",
      "11\n"
     ]
    }
   ],
   "source": [
    "'''35. Filter out all even numbers from a tuple.'''\n",
    "\n",
    "tuple1 = (1,2,3,4,5,6,7,8,9,10,11,12)\n",
    "\n",
    "for i in tuple1:\n",
    "    if i%2 == 1:\n",
    "        print(i)\n",
    "        "
   ]
  },
  {
   "cell_type": "code",
   "execution_count": 27,
   "id": "b0d1dc55-4c3a-4d48-be45-3ec6c60876a4",
   "metadata": {},
   "outputs": [
    {
     "name": "stdout",
     "output_type": "stream",
     "text": [
      "(2, 4, 6, 8, 10, 12, 14, 16, 18, 20, 22, 24)\n"
     ]
    }
   ],
   "source": [
    "'''36. Multiply all elements in a tuple by 2.'''\n",
    "\n",
    "tuple1 = (1,2,3,4,5,6,7,8,9,10,11,12)\n",
    "\n",
    "new_tuple = tuple(i*2 for i in tuple1)\n",
    "\n",
    "print(new_tuple)"
   ]
  },
  {
   "cell_type": "code",
   "execution_count": 44,
   "id": "f2f3fee9-4220-49a5-978b-0ab1e1a43f52",
   "metadata": {},
   "outputs": [
    {
     "name": "stdout",
     "output_type": "stream",
     "text": [
      "(11, 68, 52, 47, 91, 68, 89, 24, 87, 83)\n"
     ]
    }
   ],
   "source": [
    "'''37. Create a tuple of random numbers.'''\n",
    "import random\n",
    "\n",
    "tuple1 = []\n",
    "\n",
    "for i in range(10):\n",
    "    tuple1.append(random.randint(1,100))\n",
    "\n",
    "\n",
    "tuple2 = tuple(tuple1)\n",
    "print(tuple2)"
   ]
  },
  {
   "cell_type": "code",
   "execution_count": 1,
   "id": "c6072593-a8fb-4d2b-b13a-1622d59bc347",
   "metadata": {},
   "outputs": [
    {
     "name": "stdout",
     "output_type": "stream",
     "text": [
      "Tuple is sorted\n"
     ]
    }
   ],
   "source": [
    "'''38. Check if a tuple is sorted.'''\n",
    "\n",
    "tuple1 = (10,20,30,40,)\n",
    "\n",
    "length = 1\n",
    "for i in range(len(tuple1)-1):\n",
    "    if tuple1[i] < tuple1[i+1]:\n",
    "        length += 1\n",
    "    else:\n",
    "        length = length\n",
    "        \n",
    "if length == len(tuple1):\n",
    "    print('Tuple is sorted')\n",
    "else:\n",
    "    print('Tuple is not sorted')"
   ]
  },
  {
   "cell_type": "code",
   "execution_count": 14,
   "id": "9c7a2527-d141-4a59-88fc-bcf90dc5d92e",
   "metadata": {},
   "outputs": [
    {
     "name": "stdout",
     "output_type": "stream",
     "text": [
      "(4, 6, 7, 8, 9, 10, 11, 12, 1, 3, 2)\n"
     ]
    }
   ],
   "source": [
    "'''39. Rotate a tuple to the left by n positions.'''\n",
    "\n",
    "tuple1 = (1,3,2,4,6,7,8,9,10,11,12)\n",
    "n = 3 \n",
    "\n",
    "print(tuple1[n:] + tuple1[:n])"
   ]
  },
  {
   "cell_type": "code",
   "execution_count": 1,
   "id": "86cc7378-5e4f-4295-94b4-98b43c2dfe08",
   "metadata": {},
   "outputs": [
    {
     "name": "stdout",
     "output_type": "stream",
     "text": [
      "(10, 11, 12, 1, 3, 2, 4, 6, 7, 8, 9)\n"
     ]
    }
   ],
   "source": [
    "'''40. Rotate a tuple to the right by n positions.'''\n",
    "\n",
    "tuple1 = (1,3,2,4,6,7,8,9,10,11,12)\n",
    "n = 3 \n",
    "\n",
    "print(tuple1[-n:] + tuple1[:-n])\n"
   ]
  },
  {
   "cell_type": "code",
   "execution_count": 9,
   "id": "c75290e4-f305-47ca-9e37-b81940b77551",
   "metadata": {},
   "outputs": [
    {
     "name": "stdout",
     "output_type": "stream",
     "text": [
      "(1, 2, 3, 5, 8, 13, 21, 34, 55, 89)\n"
     ]
    }
   ],
   "source": [
    "'''41. Create a tuple of the first 5 Fibonacci numbers.'''\n",
    "\n",
    "list1 = [1, 2]\n",
    "\n",
    "for i in range(2, 10):\n",
    "    j = list1[i-2] + list1[i-1]\n",
    "    list1.append(j)\n",
    "\n",
    "print(tuple(list1))"
   ]
  },
  {
   "cell_type": "code",
   "execution_count": 23,
   "id": "82290f01-e1e7-4e77-aca6-37aa9062807a",
   "metadata": {},
   "outputs": [
    {
     "name": "stdin",
     "output_type": "stream",
     "text": [
      " 1,2,3\n"
     ]
    },
    {
     "name": "stdout",
     "output_type": "stream",
     "text": [
      "('1', '2', '3')\n"
     ]
    }
   ],
   "source": [
    "'''42. Create a tuple from user input.'''\n",
    "\n",
    "tuple1 = input()\n",
    "\n",
    "tuple2 = tuple(tuple1.split(','))\n",
    "\n",
    "print(tuple2)"
   ]
  },
  {
   "cell_type": "code",
   "execution_count": 1,
   "id": "2063d045-3ed3-4211-8a05-6e9cf861b437",
   "metadata": {},
   "outputs": [
    {
     "name": "stdout",
     "output_type": "stream",
     "text": [
      "(1, 2, 5, 4, 3, 6, 7)\n"
     ]
    }
   ],
   "source": [
    "'''43. Swap two elements in a tuple.'''\n",
    "\n",
    "tuple1 = (1,2,3,4,5,6,7)\n",
    "index1 = 2\n",
    "index2 = 4\n",
    "\n",
    "tuple2 = list(tuple1)\n",
    "\n",
    "tuple2[index1], tuple2[index2] = tuple2[index2], tuple2[index1]\n",
    "\n",
    "  \n",
    "print(tuple(tuple2))"
   ]
  },
  {
   "cell_type": "code",
   "execution_count": 6,
   "id": "408eedc8-815b-4e40-a711-1488381e5975",
   "metadata": {},
   "outputs": [
    {
     "name": "stdout",
     "output_type": "stream",
     "text": [
      "(7, 6, 5, 4, 3, 2, 1)\n"
     ]
    }
   ],
   "source": [
    "'''44. Reverse the elements of a tuple.'''\n",
    "\n",
    "tuple1 = (1,2,3,4,5,6,7)\n",
    "tuple2 = tuple1[::-1]\n",
    "print(tuple2)"
   ]
  },
  {
   "cell_type": "code",
   "execution_count": 13,
   "id": "52ebf275-d84f-40b1-b51f-aea7ce012b47",
   "metadata": {},
   "outputs": [
    {
     "name": "stdout",
     "output_type": "stream",
     "text": [
      "(1, 2, 4, 8, 16)\n"
     ]
    }
   ],
   "source": [
    "'''45. Create a tuple of the first n powers of 2.'''\n",
    "\n",
    "n = 5\n",
    "tuple1 = []\n",
    "for i in range(5):\n",
    "    tuple1.append(2**i)\n",
    "    \n",
    "tuple2 = tuple(tuple1)\n",
    "\n",
    "print(tuple2)"
   ]
  },
  {
   "cell_type": "code",
   "execution_count": 23,
   "id": "9e014680-4732-422c-8e07-c51877b10244",
   "metadata": {},
   "outputs": [
    {
     "data": {
      "text/plain": [
       "'prakash'"
      ]
     },
     "execution_count": 23,
     "metadata": {},
     "output_type": "execute_result"
    }
   ],
   "source": [
    "'''46. Find the longest string in a tuple of strings.'''\n",
    "\n",
    "tuple1 = ('i' , 'am' , 'prakash', 'singh')\n",
    "\n",
    "max(tuple1, key = len)"
   ]
  },
  {
   "cell_type": "code",
   "execution_count": 24,
   "id": "520eee08-9c3b-465d-9af8-a5f4b415a091",
   "metadata": {},
   "outputs": [
    {
     "data": {
      "text/plain": [
       "'i'"
      ]
     },
     "execution_count": 24,
     "metadata": {},
     "output_type": "execute_result"
    }
   ],
   "source": [
    "'''47. Find the shortest string in a tuple of strings.'''\n",
    "\n",
    "tuple1 = ('i' , 'am' , 'prakash', 'singh')\n",
    "\n",
    "min(tuple1, key = len)"
   ]
  },
  {
   "cell_type": "code",
   "execution_count": 45,
   "id": "e0d9cad6-3c61-45d1-a74e-9f333f1675df",
   "metadata": {},
   "outputs": [
    {
     "name": "stdout",
     "output_type": "stream",
     "text": [
      "(1, 3, 6, 10)\n"
     ]
    }
   ],
   "source": [
    "'''48. Create a tuple of the first n triangular numbers.'''\n",
    "\n",
    "#mainformula = n*(n+1)//2\n",
    "n = 5 \n",
    "\n",
    "tuple1 = []\n",
    "\n",
    "for i in range(1, n):\n",
    "    tuple1.append(i*(i+1)//2)\n",
    "\n",
    "tuple1 = tuple(tuple1)\n",
    "\n",
    "print(tuple1)"
   ]
  },
  {
   "cell_type": "code",
   "execution_count": 6,
   "id": "0ce1552e-614d-4654-93ba-0a0c764862da",
   "metadata": {},
   "outputs": [
    {
     "data": {
      "text/plain": [
       "'Main tuple contains subsequence tuple'"
      ]
     },
     "execution_count": 6,
     "metadata": {},
     "output_type": "execute_result"
    }
   ],
   "source": [
    "'''49. Check if a tuple contains another tuple as a subsequence'''\n",
    "\n",
    "def check_subsequence(maintuple, subseq_tuple):\n",
    "    \n",
    "    subseq_len = len(subseq_tuple)\n",
    "    \n",
    "    for i in range(len(maintuple) - subseq_len + 1):\n",
    "        if maintuple[i : i + subseq_len] == subseq_tuple:\n",
    "            return('Main tuple contains subsequence tuple')\n",
    "    return('Main tuple does not contains subsequence tuple')\n",
    "              \n",
    "#driver code\n",
    "\n",
    "maintuple = (1,2,3,4,5,6,7)\n",
    "subseq_tuple = (2,3,4)\n",
    "\n",
    "check_subsequence(maintuple, subseq_tuple)"
   ]
  },
  {
   "cell_type": "code",
   "execution_count": 14,
   "id": "77063b55-2a92-4005-88bb-f2c02ca9f8f4",
   "metadata": {},
   "outputs": [
    {
     "name": "stdout",
     "output_type": "stream",
     "text": [
      "(0, 1, 0, 1, 0)\n"
     ]
    }
   ],
   "source": [
    "'''50. Create a tuple of alternating 1s and 0s of length n'''\n",
    "n = 5\n",
    "tuple1 = []\n",
    "for i in range(n):\n",
    "    tuple1.append(i%2)\n",
    "    \n",
    "tuple1 = tuple(tuple1)\n",
    "\n",
    "print(tuple1)"
   ]
  },
  {
   "cell_type": "code",
   "execution_count": 15,
   "id": "1f750492-9405-49d5-b4b4-74121c813efb",
   "metadata": {},
   "outputs": [],
   "source": [
    "#Set based problems:"
   ]
  },
  {
   "cell_type": "code",
   "execution_count": 22,
   "id": "2b87e184-59d3-4e4a-98b5-ec44661ec0fb",
   "metadata": {},
   "outputs": [
    {
     "name": "stdout",
     "output_type": "stream",
     "text": [
      "{1, 2, 3, 4}\n"
     ]
    }
   ],
   "source": [
    "'''1. Create a set with integers from 1 to 5'''\n",
    "\n",
    "a = set()\n",
    "\n",
    "for i in range(1,5):\n",
    "    a.add(i)\n",
    "    \n",
    "print(a)"
   ]
  },
  {
   "cell_type": "code",
   "execution_count": 4,
   "id": "6781bf67-5754-47b1-b41b-51054c2294f0",
   "metadata": {},
   "outputs": [
    {
     "name": "stdout",
     "output_type": "stream",
     "text": [
      "{1, 2, 3, 4, 5, 6}\n"
     ]
    }
   ],
   "source": [
    "'''2. Add an element to a set'''\n",
    "\n",
    "a = {1,2,3,4,5}\n",
    "element = 6\n",
    "\n",
    "a.add(element)\n",
    "print(a)"
   ]
  },
  {
   "cell_type": "code",
   "execution_count": 5,
   "id": "5d1d7c4f-13b2-4de6-8cee-3a716e90e4a1",
   "metadata": {},
   "outputs": [
    {
     "name": "stdout",
     "output_type": "stream",
     "text": [
      "{1, 2, 3, 4, 5}\n"
     ]
    }
   ],
   "source": [
    "'''3. Remove an element from a set.'''\n",
    "\n",
    "a = {1,2,3,4,5,6}\n",
    "element = 6\n",
    "\n",
    "a.remove(element)\n",
    "print(a)"
   ]
  },
  {
   "cell_type": "code",
   "execution_count": 8,
   "id": "7dbe4b1a-d79b-4862-9f8c-9e106801b579",
   "metadata": {},
   "outputs": [
    {
     "name": "stdout",
     "output_type": "stream",
     "text": [
      "Element is not available in set\n"
     ]
    }
   ],
   "source": [
    "'''4. Check if an element exists in a set.'''\n",
    "\n",
    "a = {1,2,3,4,5,6}\n",
    "element = 7\n",
    "\n",
    "if element in a:\n",
    "    print('Elelmant is available in set')\n",
    "else:\n",
    "    print('Element is not available in set')"
   ]
  },
  {
   "cell_type": "code",
   "execution_count": 11,
   "id": "d3998e6c-a81a-40aa-b4e9-373fc54e33e3",
   "metadata": {},
   "outputs": [
    {
     "name": "stdout",
     "output_type": "stream",
     "text": [
      "The length of set is 6\n"
     ]
    }
   ],
   "source": [
    "'''5. Find the length of a set without using the len() function'''\n",
    "\n",
    "a = {1,2,3,4,5,6}\n",
    "length = 0\n",
    "\n",
    "for i in a:\n",
    "    length = length+1\n",
    "    \n",
    "print('The length of set is' , str(length))"
   ]
  },
  {
   "cell_type": "code",
   "execution_count": 13,
   "id": "7c24ef11-1734-4360-9fb6-88a0dda68bc2",
   "metadata": {},
   "outputs": [
    {
     "name": "stdout",
     "output_type": "stream",
     "text": [
      "set()\n"
     ]
    }
   ],
   "source": [
    "'''6. Clear all elements from a set.'''\n",
    "\n",
    "a = {1,2,3,4,5,6}\n",
    "\n",
    "a.clear()\n",
    "\n",
    "print(a)"
   ]
  },
  {
   "cell_type": "code",
   "execution_count": 28,
   "id": "e93f998c-8930-485a-b56a-7e3ce138bda9",
   "metadata": {},
   "outputs": [
    {
     "data": {
      "text/plain": [
       "{2, 4, 6, 8}"
      ]
     },
     "execution_count": 28,
     "metadata": {},
     "output_type": "execute_result"
    }
   ],
   "source": [
    "'''7. Create a set of even numbers from 1 to 10'''\n",
    "\n",
    "a = set()\n",
    "\n",
    "for i in range(2,10,2):\n",
    "    a.add(i)\n",
    "    \n",
    "a"
   ]
  },
  {
   "cell_type": "code",
   "execution_count": 31,
   "id": "250efcbd-2e97-48ca-a6dc-51cebced5f2e",
   "metadata": {},
   "outputs": [
    {
     "name": "stdout",
     "output_type": "stream",
     "text": [
      "{1, 3, 5, 7, 9}\n"
     ]
    }
   ],
   "source": [
    "'''8. Create a set of odd numbers from 1 to 10'''\n",
    "\n",
    "a = set()\n",
    "\n",
    "for i in range(1,10,2):\n",
    "    a.add(i)\n",
    "    \n",
    "print(a)"
   ]
  },
  {
   "cell_type": "code",
   "execution_count": 35,
   "id": "2b9b9967-a208-445f-a960-0000210cae92",
   "metadata": {},
   "outputs": [
    {
     "data": {
      "text/plain": [
       "{1, 2, 3, 4, 5, 6}"
      ]
     },
     "execution_count": 35,
     "metadata": {},
     "output_type": "execute_result"
    }
   ],
   "source": [
    "'''9. Find the union of two sets'''\n",
    "a = {1,2,3}\n",
    "b = {4,5,6}\n",
    "\n",
    "c = a.union(b)\n",
    "\n",
    "c"
   ]
  },
  {
   "cell_type": "code",
   "execution_count": 36,
   "id": "3252922e-bfe8-426e-a09c-38baaacf8f41",
   "metadata": {},
   "outputs": [
    {
     "data": {
      "text/plain": [
       "{4, 5, 6}"
      ]
     },
     "execution_count": 36,
     "metadata": {},
     "output_type": "execute_result"
    }
   ],
   "source": [
    "'''10. Find the intersection of two sets'''\n",
    "\n",
    "a = {1,2,3,4,5,6}\n",
    "b = {4,5,6,7,8,9}\n",
    "\n",
    "c = a.intersection(b)\n",
    "\n",
    "c"
   ]
  },
  {
   "cell_type": "code",
   "execution_count": 37,
   "id": "05518bbd-cdb8-452d-b717-bb9cb6be9006",
   "metadata": {},
   "outputs": [
    {
     "data": {
      "text/plain": [
       "{1, 2, 3}"
      ]
     },
     "execution_count": 37,
     "metadata": {},
     "output_type": "execute_result"
    }
   ],
   "source": [
    "'''11. Find the difference between two sets.'''\n",
    "a = {1,2,3,4,5,6}\n",
    "b = {4,5,6,7,8,9}\n",
    "\n",
    "c = a.difference(b)\n",
    "\n",
    "c"
   ]
  },
  {
   "cell_type": "code",
   "execution_count": 43,
   "id": "b46a36fa-0ae8-425c-b755-df766b719c1e",
   "metadata": {},
   "outputs": [
    {
     "name": "stdout",
     "output_type": "stream",
     "text": [
      "set1 is subset of set2:  True\n"
     ]
    }
   ],
   "source": [
    "'''12. Check if a set is a subset of another set.'''\n",
    "\n",
    "set1 = {4,5,6}\n",
    "set2 = {4,5,6,7,8,9}\n",
    "\n",
    "c = set1.issubset(set2)\n",
    "\n",
    "print('set1 is subset of set2: ' , c)"
   ]
  },
  {
   "cell_type": "code",
   "execution_count": 46,
   "id": "e37cc727-a99e-4fcf-b0a1-3dd9fa95eb73",
   "metadata": {},
   "outputs": [
    {
     "name": "stdout",
     "output_type": "stream",
     "text": [
      "Set2 is superset of Set1:  True\n"
     ]
    }
   ],
   "source": [
    "'''13. Check if a set is a superset of another set.'''\n",
    "\n",
    "set1 = {4,5,6}\n",
    "set2 = {4,5,6,7,8,9}\n",
    "\n",
    "c = set2.issuperset(set1)\n",
    "\n",
    "print('Set2 is superset of Set1: ' , c)"
   ]
  },
  {
   "cell_type": "code",
   "execution_count": 5,
   "id": "5c9f7558-b5e4-47de-b873-ec572b966d53",
   "metadata": {},
   "outputs": [
    {
     "name": "stdout",
     "output_type": "stream",
     "text": [
      "{4, 5, 6, 7, 8, 9}\n"
     ]
    }
   ],
   "source": [
    "'''14. Create a set from a list'''\n",
    "\n",
    "list1 = [4,5,6,7,8,9]\n",
    "\n",
    "set1 = set(list1)\n",
    "\n",
    "print(set1)"
   ]
  },
  {
   "cell_type": "code",
   "execution_count": 7,
   "id": "612774b3-db34-4d59-ab50-93c3127b5090",
   "metadata": {},
   "outputs": [
    {
     "name": "stdout",
     "output_type": "stream",
     "text": [
      "{4, 5, 6}\n"
     ]
    }
   ],
   "source": [
    "'''15. Convert a set to a list.'''\n",
    "\n",
    "set1 = {4,5,6}\n",
    "\n",
    "list1 = list[set1]\n",
    "\n",
    "print(set1)"
   ]
  },
  {
   "cell_type": "code",
   "execution_count": 16,
   "id": "ab63d70c-7dbc-40d4-acc1-15dc772907ed",
   "metadata": {},
   "outputs": [
    {
     "name": "stdout",
     "output_type": "stream",
     "text": [
      "Original set: {4, 5, 6, 7, 8, 9}\n",
      "Modified set: {5, 6, 7, 8, 9}\n"
     ]
    }
   ],
   "source": [
    "'''16. Remove a random element from a set.'''\n",
    "\n",
    "import random\n",
    "\n",
    "set1 = {4,5,6,7,8,9}\n",
    "print(\"Original set:\", set1)\n",
    "randomelement = random.choice(list(set1))\n",
    "\n",
    "set1.remove(randomelement)\n",
    "print(\"Modified set:\", set1)"
   ]
  },
  {
   "cell_type": "code",
   "execution_count": 26,
   "id": "aaf72e0f-707e-49f1-acc0-8c91c2a2a670",
   "metadata": {},
   "outputs": [
    {
     "name": "stdout",
     "output_type": "stream",
     "text": [
      "Popped Element: 5\n",
      "Popped Set: {6, 7, 8, 9}\n"
     ]
    }
   ],
   "source": [
    "'''17. Pop an element from a set.'''\n",
    "\n",
    "set1 = {5,6,7,8,9}\n",
    "\n",
    "print(\"Popped Element:\", set1.pop())\n",
    "print(\"Popped Set:\", set1)"
   ]
  },
  {
   "cell_type": "code",
   "execution_count": 29,
   "id": "6fcc67de-1e54-404c-96cf-5344c9072402",
   "metadata": {},
   "outputs": [
    {
     "name": "stdout",
     "output_type": "stream",
     "text": [
      "Common element in set : {8, 9}\n"
     ]
    }
   ],
   "source": [
    "'''18. Check if two sets have no elements in common.'''\n",
    "\n",
    "set1 = {5,6,7,8,9}\n",
    "set2 = {8,9,10,11,12}\n",
    "\n",
    "print('Common element in set :' , set1.intersection(set2))\n"
   ]
  },
  {
   "cell_type": "code",
   "execution_count": 30,
   "id": "415abdea-0ddc-4969-bbb4-53040ca3c8c5",
   "metadata": {},
   "outputs": [
    {
     "name": "stdout",
     "output_type": "stream",
     "text": [
      "Common element in set : {5, 6, 7, 10, 11, 12}\n"
     ]
    }
   ],
   "source": [
    "'''19. Find the symmetric difference between two sets.'''\n",
    "\n",
    "set1 = {5,6,7,8,9}\n",
    "set2 = {8,9,10,11,12}\n",
    "\n",
    "print('Symmetric difference between two sets :' , set1.symmetric_difference(set2))\n"
   ]
  },
  {
   "cell_type": "code",
   "execution_count": 33,
   "id": "f94f4aee-acd8-4a00-b838-fb54a2fe2215",
   "metadata": {},
   "outputs": [
    {
     "name": "stdout",
     "output_type": "stream",
     "text": [
      "{5, 6, 7, 8, 9, 10, 11, 12}\n"
     ]
    }
   ],
   "source": [
    "'''20. Update a set with elements from another set.'''\n",
    "\n",
    "set1 = {5,6,7,8,9}\n",
    "anotherlist = {8,9,10,11,12}\n",
    "\n",
    "set1.update(anotherlist)\n",
    "\n",
    "print(set1)"
   ]
  },
  {
   "cell_type": "code",
   "execution_count": 38,
   "id": "9711beb5-f310-41e4-8dea-fdbc7f643ccd",
   "metadata": {},
   "outputs": [
    {
     "name": "stdout",
     "output_type": "stream",
     "text": [
      "{2, 3, 5, 7, 11}\n"
     ]
    }
   ],
   "source": [
    "'''21. Create a set of the first 5 prime numbers.'''\n",
    "\n",
    "n = 5\n",
    "list1 = []\n",
    "for num in range(2, n*3):\n",
    "    prime = True\n",
    "    for i in range(2,num):\n",
    "        if (num%i==0):\n",
    "            prime = False\n",
    "    if prime:\n",
    "        list1.append(num)\n",
    "        \n",
    "set1 = set(list1[0:n])\n",
    "\n",
    "print(set1)"
   ]
  },
  {
   "cell_type": "code",
   "execution_count": 5,
   "id": "bec9cd26-102c-455b-9740-e52bad11c782",
   "metadata": {},
   "outputs": [
    {
     "name": "stdout",
     "output_type": "stream",
     "text": [
      "Both sets are identical\n"
     ]
    }
   ],
   "source": [
    "'''22. Check if two sets are identical.'''\n",
    "\n",
    "set1 = {5,6,7,8,9}\n",
    "set2 = {5,6,7,8,9}\n",
    "\n",
    "if set1 == set2:\n",
    "    print('Both sets are identical')\n",
    "else:\n",
    "    print('Both sets are not identical')"
   ]
  },
  {
   "cell_type": "code",
   "execution_count": 9,
   "id": "962ffba3-3895-42d6-a0f8-345f25e22fd5",
   "metadata": {},
   "outputs": [
    {
     "name": "stdout",
     "output_type": "stream",
     "text": [
      "frozenset({1, 2, 3, 4, 5})\n"
     ]
    }
   ],
   "source": [
    "'''23. Create a frozen set'''\n",
    "# The frozenset is an immutable version of a set, meaning its elements cannot be modified after creation.\n",
    "\n",
    "normal_set = {1, 2, 3, 4, 5}\n",
    "\n",
    "frozen_set = frozenset(normal_set)\n",
    "\n",
    "print(frozen_set)"
   ]
  },
  {
   "cell_type": "code",
   "execution_count": 13,
   "id": "78555f6a-eab6-47cf-a3c4-f83c74033f86",
   "metadata": {},
   "outputs": [
    {
     "name": "stdout",
     "output_type": "stream",
     "text": [
      "Both sets are disjoint:  False\n"
     ]
    }
   ],
   "source": [
    "'''24. Check if a set is disjoint with another set'''\n",
    "\n",
    "set1 = {5,6,7,8,9}\n",
    "set2 = {5,6,7,8,9}\n",
    "\n",
    "\n",
    "print('Both sets are disjoint: ' , set1.isdisjoint(set2))"
   ]
  },
  {
   "cell_type": "code",
   "execution_count": 32,
   "id": "d0464472-6037-403d-9dba-881ea7a11f14",
   "metadata": {},
   "outputs": [
    {
     "name": "stdout",
     "output_type": "stream",
     "text": [
      "{1, 4, 9, 16, 25}\n"
     ]
    }
   ],
   "source": [
    "'''25. Create a set of squares of numbers from 1 to 5.'''\n",
    "\n",
    "set1 = set()\n",
    "n = 5\n",
    "\n",
    "for i in range(1, n+1):\n",
    "    sqnum = i**2\n",
    "    set1.add(sqnum)\n",
    "\n",
    "print(set1)"
   ]
  },
  {
   "cell_type": "code",
   "execution_count": 45,
   "id": "33639732-14bb-4b8c-a63e-015246ab8988",
   "metadata": {},
   "outputs": [
    {
     "name": "stdout",
     "output_type": "stream",
     "text": [
      "{2, 4, 6}\n"
     ]
    }
   ],
   "source": [
    "'''26. Filter out all even numbers from a set.'''\n",
    "set1 = {1,2,3,4,5,6,7}\n",
    "set2 = set()\n",
    "\n",
    "for i in set1:\n",
    "    if i%2 == 0:\n",
    "        set2.add(i)\n",
    "        \n",
    "print(set2)"
   ]
  },
  {
   "cell_type": "code",
   "execution_count": 60,
   "id": "85e7a54b-bf8f-4d19-a76c-c9a3e6f80fe4",
   "metadata": {},
   "outputs": [
    {
     "name": "stdout",
     "output_type": "stream",
     "text": [
      "{2, 4, 6, 8, 10, 12, 14}\n"
     ]
    }
   ],
   "source": [
    "'''27. Multiply all elements in a set by 2.'''\n",
    "\n",
    "set1 = {1,2,3,4,5,6,7}\n",
    "squardset = set()\n",
    "\n",
    "for i in set1:\n",
    "    i= i*2\n",
    "    squardset.add(i)\n",
    "    \n",
    "print(squardset)"
   ]
  },
  {
   "cell_type": "code",
   "execution_count": 2,
   "id": "5aaaa7c9-42c6-4f08-8a54-86fc4a0f8f56",
   "metadata": {},
   "outputs": [
    {
     "name": "stdout",
     "output_type": "stream",
     "text": [
      "{98, 3, 5, 87, 30}\n"
     ]
    }
   ],
   "source": [
    "'''28. Create a set of random numbers.'''\n",
    "\n",
    "import random\n",
    "\n",
    "set1 = set()\n",
    "\n",
    "for i in range(5):\n",
    "    randomnum = random.randint(1,100)\n",
    "    set1.add(randomnum)\n",
    "\n",
    "print(set1)"
   ]
  },
  {
   "cell_type": "code",
   "execution_count": 1,
   "id": "7db4783c-08c5-490c-845d-924486b8d782",
   "metadata": {},
   "outputs": [
    {
     "name": "stdout",
     "output_type": "stream",
     "text": [
      "This set is empty\n"
     ]
    }
   ],
   "source": [
    "'''29. Check if a set is empty.'''\n",
    "\n",
    "set1 = {}\n",
    "\n",
    "if len(set1) == 0:\n",
    "    print('This set is empty')\n",
    "else:\n",
    "    print('This set in not empty')"
   ]
  },
  {
   "cell_type": "code",
   "execution_count": 10,
   "id": "2457ba54-89da-4402-b14a-82d7be35d12c",
   "metadata": {},
   "outputs": [
    {
     "name": "stdout",
     "output_type": "stream",
     "text": [
      "Nestedd set is : {frozenset({8, 9, 10, 11, 12}), frozenset({1, 2, 3, 4, 5, 6, 7})}\n"
     ]
    }
   ],
   "source": [
    "'''30. Create a nested set (hint: use frozenset).'''\n",
    "\n",
    "set1 = [1,2,3,4,5,6,7]\n",
    "set2 = [8,9,10,11,12]\n",
    "\n",
    "frozset1 = frozenset(set1)\n",
    "frozset2 = frozenset(set2)\n",
    "\n",
    "nestedset = {frozset1, frozset2}\n",
    "\n",
    "print('Nestedd set is :' , nestedset)"
   ]
  },
  {
   "cell_type": "code",
   "execution_count": 7,
   "id": "c652aef8-72de-4939-a6f2-e05b8c62b693",
   "metadata": {},
   "outputs": [
    {
     "data": {
      "text/plain": [
       "[[1, 2, 3, 4, 5, 6, 7], [8, 9, 10, 11, 12]]"
      ]
     },
     "execution_count": 7,
     "metadata": {},
     "output_type": "execute_result"
    }
   ],
   "source": [
    "nestedset"
   ]
  },
  {
   "cell_type": "code",
   "execution_count": 14,
   "id": "fd0f8901-4a85-4fcc-a7b2-39ba10991964",
   "metadata": {},
   "outputs": [
    {
     "name": "stdout",
     "output_type": "stream",
     "text": [
      "{1, 3, 4, 5}\n"
     ]
    }
   ],
   "source": [
    "'''31. Remove an element from a set using the discard method.'''\n",
    "set1 = {1,2,3,4,5}\n",
    "\n",
    "set1.discard(2)\n",
    "\n",
    "print(set1)"
   ]
  },
  {
   "cell_type": "code",
   "execution_count": 5,
   "id": "b0ccf835-ebe9-4f6b-a925-95d4108ba0f1",
   "metadata": {},
   "outputs": [
    {
     "name": "stdout",
     "output_type": "stream",
     "text": [
      "True\n",
      "False\n",
      "{1, 2, 3, 4}\n"
     ]
    }
   ],
   "source": [
    "'''32. Compare two sets.'''\n",
    "\n",
    "set1 = {1,2,3,4}\n",
    "set2 = {1,2,3,4,5,6,7,8}\n",
    "\n",
    "# compareable methods are subset, superset, intersection, diffrence\n",
    "\n",
    "is_subset = set1.issubset(set2)\n",
    "print(is_subset)\n",
    "\n",
    "is_superset = set1.issuperset(set2)\n",
    "\n",
    "print(is_superset)\n",
    "\n",
    "is_intersection = set1.intersection(set2)\n",
    "print(is_intersection)"
   ]
  },
  {
   "cell_type": "code",
   "execution_count": 1,
   "id": "a8f9eca4-938d-446a-a5ed-3ac41a51fd51",
   "metadata": {},
   "outputs": [
    {
     "name": "stdin",
     "output_type": "stream",
     "text": [
      "Enter the string Prakash\n"
     ]
    },
    {
     "name": "stdout",
     "output_type": "stream",
     "text": [
      "{'r', 'k', 'h', 'a', 'P', 's'}\n"
     ]
    }
   ],
   "source": [
    "'''33. Create a set from a string.'''\n",
    "\n",
    "set1 = set(input('Enter the string'))\n",
    "\n",
    "print(set1)"
   ]
  },
  {
   "cell_type": "code",
   "execution_count": 7,
   "id": "98c52e00-0d3d-4105-beae-44ddb3306966",
   "metadata": {},
   "outputs": [
    {
     "name": "stdout",
     "output_type": "stream",
     "text": [
      "{345, 123, 678}\n"
     ]
    }
   ],
   "source": [
    "'''34. Convert a set of strings to a set of integers.'''\n",
    "\n",
    "set1 = {'123', '345', '678'}\n",
    "set2 = set()\n",
    "for i in set1:\n",
    "    set2.add(int(i))\n",
    "\n",
    "print(set2)"
   ]
  },
  {
   "cell_type": "code",
   "execution_count": 8,
   "id": "b2d349eb-7e67-4ee4-8379-5941b5b8bca6",
   "metadata": {},
   "outputs": [
    {
     "name": "stdout",
     "output_type": "stream",
     "text": [
      "{'345', '123', '678'}\n"
     ]
    }
   ],
   "source": [
    "'''35. Convert a set of integers to a set of strings.'''\n",
    "\n",
    "set1 = {123, 345, 678}\n",
    "set2 = set()\n",
    "for i in set1:\n",
    "    set2.add(str(i))\n",
    "\n",
    "print(set2)"
   ]
  },
  {
   "cell_type": "code",
   "execution_count": 10,
   "id": "49ce3e99-d162-46a1-a0f0-d17f8a9c4b74",
   "metadata": {},
   "outputs": [
    {
     "name": "stdout",
     "output_type": "stream",
     "text": [
      "(1, 2, 3, 4)\n"
     ]
    }
   ],
   "source": [
    "'''36. Create a set from a tuple.'''\n",
    "\n",
    "tuple1 = (1,2,3,4)\n",
    "\n",
    "set1 = set()\n",
    "\n",
    "for i in tuple1:\n",
    "    set1.add(i)\n",
    "    \n",
    "print(set1)"
   ]
  },
  {
   "cell_type": "code",
   "execution_count": 13,
   "id": "89f3334c-ea9b-4d78-a294-63db9d7aafe7",
   "metadata": {},
   "outputs": [
    {
     "name": "stdout",
     "output_type": "stream",
     "text": [
      "(1, 2, 3, 4)\n"
     ]
    }
   ],
   "source": [
    "'''37. Convert a set to a tuple.'''\n",
    "\n",
    "set1 = {1,2,3,4}\n",
    "\n",
    "tuple1 = (tuple(set1))\n",
    "\n",
    "print(tuple1)"
   ]
  },
  {
   "cell_type": "code",
   "execution_count": 4,
   "id": "528eea26-4479-47eb-ac01-fb451bd58827",
   "metadata": {},
   "outputs": [
    {
     "data": {
      "text/plain": [
       "6"
      ]
     },
     "execution_count": 4,
     "metadata": {},
     "output_type": "execute_result"
    }
   ],
   "source": [
    "'''38. Find the maximum value in a set.'''\n",
    "\n",
    "set1 = {1,2,3,4,5,6}\n",
    "\n",
    "max(set1)"
   ]
  },
  {
   "cell_type": "code",
   "execution_count": 12,
   "id": "d1e8a800-62bc-4af5-91ce-52082077f1ba",
   "metadata": {},
   "outputs": [
    {
     "name": "stdout",
     "output_type": "stream",
     "text": [
      "1\n"
     ]
    }
   ],
   "source": [
    "'''39. Find the minimum value in a set.'''\n",
    "\n",
    "set1 = {1,2,3,4,5}\n",
    "\n",
    "min_val = None\n",
    "\n",
    "for num in set1:\n",
    "    if min_val is None or num < min_val:\n",
    "        min_val = num\n",
    "\n",
    "print(min_val)"
   ]
  },
  {
   "cell_type": "code",
   "execution_count": 16,
   "id": "f4bc22e3-6289-42c6-9a5b-65af9387bb64",
   "metadata": {},
   "outputs": [
    {
     "name": "stdin",
     "output_type": "stream",
     "text": [
      "Enter the value to store in set data type:  13\n"
     ]
    },
    {
     "name": "stdout",
     "output_type": "stream",
     "text": [
      "{'1', '3'}\n"
     ]
    }
   ],
   "source": [
    "'''40. Create a set from user input.'''\n",
    "\n",
    "set1 = set(input('Enter the value to store in set data type: '))\n",
    "print(set1)"
   ]
  },
  {
   "cell_type": "code",
   "execution_count": 22,
   "id": "08ea1172-7a57-4a9a-b46e-d4affa41753a",
   "metadata": {},
   "outputs": [
    {
     "name": "stdout",
     "output_type": "stream",
     "text": [
      "Both sets having no any intersection\n"
     ]
    }
   ],
   "source": [
    "'''41. Check if the intersection of two sets is empty.'''\n",
    "\n",
    "set1 = {1,2,3,4,5}\n",
    "set2 = {6,7,8}\n",
    "\n",
    "is_intersection = set1.intersection(set2)\n",
    "\n",
    "if len(is_intersection) > 0:\n",
    "    print('Both sets having few intersection')\n",
    "else:\n",
    "    print('Both sets having no any intersection')\n"
   ]
  },
  {
   "cell_type": "code",
   "execution_count": 31,
   "id": "13a200c7-0518-4c3c-b4e8-cfb87e376aa3",
   "metadata": {},
   "outputs": [
    {
     "name": "stdout",
     "output_type": "stream",
     "text": [
      "{1, 2, 3, 5, 8, 13}\n"
     ]
    }
   ],
   "source": [
    "'''42. Create a set of the first 5 Fibonacci numbers.'''\n",
    "# 0,1,2,3,5\n",
    "set1 = set()\n",
    "\n",
    "a,b = 1, 2\n",
    "\n",
    "for i in range(6):\n",
    "    set1.add(a)\n",
    "    \n",
    "    a, b = b, a+b\n",
    "    \n",
    "print(set1)"
   ]
  },
  {
   "cell_type": "code",
   "execution_count": 33,
   "id": "d7a7826e-3e59-4f28-84a0-ec84be6d634a",
   "metadata": {},
   "outputs": [
    {
     "name": "stdout",
     "output_type": "stream",
     "text": [
      "{1, 2, 3, 4, 5}\n"
     ]
    }
   ],
   "source": [
    "'''43. Remove duplicates from a list using sets.'''\n",
    "\n",
    "list1 = [1,1,2,2,3,3,4,4,5,5]\n",
    "\n",
    "set1 = set(list1)\n",
    "\n",
    "print(set1)\n"
   ]
  },
  {
   "cell_type": "code",
   "execution_count": 37,
   "id": "52221106-a5cc-4354-bd3b-4228830f76ac",
   "metadata": {},
   "outputs": [
    {
     "name": "stdout",
     "output_type": "stream",
     "text": [
      "Both sets having few same element\n"
     ]
    }
   ],
   "source": [
    "'''44. Check if two sets have the same elements, regardless of their count.'''\n",
    "\n",
    "set1 = {1,2,3,4,5,6}\n",
    "set2 = {6,7,8}\n",
    "\n",
    "is_intersection = set1.intersection(set2)\n",
    "\n",
    "if len(is_intersection) > 0:\n",
    "    print('Both sets having few same element')\n",
    "else:\n",
    "    print('Both sets having no any same element')"
   ]
  },
  {
   "cell_type": "code",
   "execution_count": 38,
   "id": "bc6b5a29-8344-4193-ad1a-a778ce18ac8e",
   "metadata": {},
   "outputs": [
    {
     "name": "stdout",
     "output_type": "stream",
     "text": [
      "{1, 2, 4, 8, 16}\n"
     ]
    }
   ],
   "source": [
    "'''45. Create a set of the first n powers of 2'''\n",
    "\n",
    "n = 5\n",
    "\n",
    "set1 = set()\n",
    "\n",
    "for i in range(n):\n",
    "    set1.add(2**i)\n",
    "    \n",
    "print(set1)"
   ]
  },
  {
   "cell_type": "code",
   "execution_count": 42,
   "id": "3a640bc1-1682-4566-8ff3-1f9f6851c9a0",
   "metadata": {},
   "outputs": [
    {
     "name": "stdout",
     "output_type": "stream",
     "text": [
      "Common elements between a set and a list are : {6}\n"
     ]
    }
   ],
   "source": [
    "'''46. Find the common elements between a set and a list.'''\n",
    "\n",
    "\n",
    "set1 = {1,2,3,4,5,6}\n",
    "set2 = [6,7,8]\n",
    "\n",
    "is_intersection = set1.intersection(set(set2))\n",
    "\n",
    "if len(is_intersection) > 0:\n",
    "    print('Common elements between a set and a list are :', is_intersection)\n",
    "else:\n",
    "    print('There are no common elements between given  set and list')\n",
    "    "
   ]
  },
  {
   "cell_type": "code",
   "execution_count": 50,
   "id": "067df143-40c9-4063-a5a5-b2f6209589d2",
   "metadata": {},
   "outputs": [
    {
     "name": "stdout",
     "output_type": "stream",
     "text": [
      "{1, 10, 3, 6}\n"
     ]
    }
   ],
   "source": [
    "'''47. Create a set of the first n triangular numbers.:'''\n",
    "# 0, 1, 3, 6, 10, 15, 21, 28, 36, 45, 55, 66,........,n\n",
    "\n",
    "n = 5\n",
    "\n",
    "set1 = set()\n",
    "\n",
    "for i in range(1, n):\n",
    "    \n",
    "    trinum = i * (i+1)//2\n",
    "    \n",
    "    set1.add(trinum)\n",
    "    \n",
    "print(set1)\n"
   ]
  },
  {
   "cell_type": "code",
   "execution_count": 55,
   "id": "5fcba602-c3a4-46ea-89bc-2d0db5987683",
   "metadata": {},
   "outputs": [
    {
     "name": "stdout",
     "output_type": "stream",
     "text": [
      "Set1 contains another Set2 as a subset.\n"
     ]
    }
   ],
   "source": [
    "'''48. Check if a set contains another set as a subset.'''\n",
    "\n",
    "set1 = {6,7,8}\n",
    "set2 = {1,2,3,4,5,6,7,8}\n",
    "\n",
    "\n",
    "is_subset = set1.issubset(set2)\n",
    "\n",
    "if is_subset == True:\n",
    "    print('Set1 contains another Set2 as a subset.')\n",
    "else:\n",
    "    print('Set1 does not contain another Set2 as a subset.')\n"
   ]
  },
  {
   "cell_type": "code",
   "execution_count": 59,
   "id": "4f849c1f-e08a-46b8-965c-45e042c88f00",
   "metadata": {},
   "outputs": [
    {
     "data": {
      "text/plain": [
       "{0, 1}"
      ]
     },
     "execution_count": 59,
     "metadata": {},
     "output_type": "execute_result"
    }
   ],
   "source": [
    "'''49. Create a set of alternating 1s and 0s of length n.'''\n",
    "\n",
    "set1 = set()\n",
    "\n",
    "for i in range(10):\n",
    "    if i%2 ==0:\n",
    "        set1.add(0)\n",
    "    elif i%2 !=0:\n",
    "        set1.add(1)\n",
    "        \n",
    "set1"
   ]
  },
  {
   "cell_type": "code",
   "execution_count": 64,
   "id": "e10604d4-d4c1-4b29-b9ec-83ad1fffcf3c",
   "metadata": {},
   "outputs": [
    {
     "name": "stdout",
     "output_type": "stream",
     "text": [
      "{1, 2, 3, 4, 5, 6, 7}\n"
     ]
    }
   ],
   "source": [
    "'''50. Merge multiple sets into one.'''\n",
    "\n",
    "set1 = {1,2,3,4}\n",
    "set2 = {2,3,4,5}\n",
    "set3 = {5,6,7}\n",
    "\n",
    "set3 = set1.union(set2 , set3)\n",
    "\n",
    "print(set3)"
   ]
  }
 ],
 "metadata": {
  "kernelspec": {
   "display_name": "Python 3 (ipykernel)",
   "language": "python",
   "name": "python3"
  },
  "language_info": {
   "codemirror_mode": {
    "name": "ipython",
    "version": 3
   },
   "file_extension": ".py",
   "mimetype": "text/x-python",
   "name": "python",
   "nbconvert_exporter": "python",
   "pygments_lexer": "ipython3",
   "version": "3.10.8"
  }
 },
 "nbformat": 4,
 "nbformat_minor": 5
}

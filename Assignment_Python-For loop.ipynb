{
 "cells": [
  {
   "cell_type": "code",
   "execution_count": 1,
   "id": "798f5bd5-05f7-4fa3-8ff5-5f806cce43a4",
   "metadata": {},
   "outputs": [
    {
     "data": {
      "text/plain": [
       "'Basic Level:'"
      ]
     },
     "execution_count": 1,
     "metadata": {},
     "output_type": "execute_result"
    }
   ],
   "source": [
    "'''Basic Level:'''"
   ]
  },
  {
   "cell_type": "code",
   "execution_count": null,
   "id": "cc60d17d-8a73-4ada-a3d2-8f1472eacfa9",
   "metadata": {},
   "outputs": [],
   "source": [
    "'''1. Write a Python program to print the numbers from 1 to 10 using a `for` loop.'''\n",
    "\n",
    "for i in range(1,11):\n",
    "    print(i)"
   ]
  },
  {
   "cell_type": "code",
   "execution_count": 1,
   "id": "0c4193b5-5fe9-49c5-ac0e-d49a2a88f93e",
   "metadata": {},
   "outputs": [
    {
     "data": {
      "text/plain": [
       "29"
      ]
     },
     "execution_count": 1,
     "metadata": {},
     "output_type": "execute_result"
    }
   ],
   "source": [
    "'''2. Create a program that calculates the sum of all numbers in a list using a `for` loop.'''\n",
    "def sum_list(num):\n",
    "    j = 0\n",
    "    for i in num:\n",
    "        j = j+i        \n",
    "    \n",
    "    return j\n",
    "\n",
    "\n",
    "#Driver code\n",
    "\n",
    "num = [1,2,3,4,5,6,8]\n",
    "\n",
    "sum_list(num)"
   ]
  },
  {
   "cell_type": "code",
   "execution_count": 13,
   "id": "dc6ab554-98e9-4a13-8c23-77c7c7b6dcee",
   "metadata": {},
   "outputs": [
    {
     "name": "stdout",
     "output_type": "stream",
     "text": [
      "h\n",
      "s\n",
      "a\n",
      "k\n",
      "a\n",
      "r\n",
      "P\n"
     ]
    }
   ],
   "source": [
    "'''3. Write a program to print the characters of a string in reverse order using a `for` loop.'''\n",
    "\n",
    "def rev_chr_str(string):\n",
    "    \n",
    "    for char in string[::-1]:\n",
    "        print(char)\n",
    "\n",
    "#Driver code\n",
    "\n",
    "string = \"Prakash\"\n",
    "\n",
    "rev_chr_str(string)"
   ]
  },
  {
   "cell_type": "code",
   "execution_count": 29,
   "id": "9d27d275-1fb1-4691-9af7-cf5487dff403",
   "metadata": {},
   "outputs": [
    {
     "data": {
      "text/plain": [
       "120"
      ]
     },
     "execution_count": 29,
     "metadata": {},
     "output_type": "execute_result"
    }
   ],
   "source": [
    "'''4. Develop a program that finds the factorial of a given number using a `for` loop.'''\n",
    "def check_factorial(n):\n",
    "    \n",
    "    factorial = 1\n",
    "    for i in range(1, n+1):\n",
    "        factorial = factorial*i\n",
    "        \n",
    "    return factorial\n",
    "\n",
    "#Driver code\n",
    "\n",
    "n = 5\n",
    "\n",
    "check_factorial(n)"
   ]
  },
  {
   "cell_type": "code",
   "execution_count": 49,
   "id": "847d190d-bec7-4233-8fa9-2fc8bd004ced",
   "metadata": {},
   "outputs": [
    {
     "name": "stdout",
     "output_type": "stream",
     "text": [
      "3 x 1 = 3\n",
      "3 x 2 = 6\n",
      "3 x 3 = 9\n",
      "3 x 4 = 12\n",
      "3 x 5 = 15\n",
      "3 x 6 = 18\n",
      "3 x 7 = 21\n",
      "3 x 8 = 24\n",
      "3 x 9 = 27\n",
      "3 x 10 = 30\n"
     ]
    }
   ],
   "source": [
    "'''5. Create a program to print the multiplication table of a given number using a `for` loop.'''\n",
    "def create_table(n):\n",
    "    \n",
    "    for i in range(1,11):\n",
    "        print(f\"{n} x {i} = {n*i}\")\n",
    "\n",
    "\n",
    "#Driver code\n",
    "n = 3\n",
    "\n",
    "create_table(n)"
   ]
  },
  {
   "cell_type": "code",
   "execution_count": 56,
   "id": "c80679da-a7c1-4aa8-8922-ff9595033e12",
   "metadata": {},
   "outputs": [
    {
     "data": {
      "text/plain": [
       "'Odd numbers are :- [1, 3, 5, 7, 9], Even numbers are :- [2, 4, 6, 8, 10]'"
      ]
     },
     "execution_count": 56,
     "metadata": {},
     "output_type": "execute_result"
    }
   ],
   "source": [
    "'''6. Write a program that counts the number of even and odd numbers in a list using a `for` loop.'''\n",
    "\n",
    "def check_odd_even(list_1):\n",
    "    \n",
    "    odd = []\n",
    "    even = []\n",
    "    \n",
    "    for num in list_1:\n",
    "        if num%2 == 0:\n",
    "            even.append(num)\n",
    "        else:\n",
    "            odd.append(num)\n",
    "    \n",
    "    return (f\"Odd numbers are :- {odd}, Even numbers are :- {even}\")\n",
    "\n",
    "\n",
    "#Driver code\n",
    "\n",
    "list_1 = [1,2,3,4,5,6,7,8,9,10]\n",
    "\n",
    "check_odd_even(list_1)"
   ]
  },
  {
   "cell_type": "code",
   "execution_count": 7,
   "id": "1bd8ba48-d31b-48b8-840a-380027895cfc",
   "metadata": {},
   "outputs": [
    {
     "data": {
      "text/plain": [
       "[1, 4, 9, 16, 25]"
      ]
     },
     "execution_count": 7,
     "metadata": {},
     "output_type": "execute_result"
    }
   ],
   "source": [
    "'''7. Develop a program that prints the squares of numbers from 1 to 5 using a `for` loop.'''\n",
    "\n",
    "def square_num(n):\n",
    "    \n",
    "    list1 = []\n",
    "    \n",
    "    for i in range(1, n+1):\n",
    "        list1.append(i**2)\n",
    "    \n",
    "    return list1\n",
    "\n",
    "#Driver code\n",
    "\n",
    "n = 5\n",
    "square_num(n)\n"
   ]
  },
  {
   "cell_type": "code",
   "execution_count": 10,
   "id": "78829417-0a91-47df-870d-e9bfc5a0fa60",
   "metadata": {},
   "outputs": [
    {
     "data": {
      "text/plain": [
       "7"
      ]
     },
     "execution_count": 10,
     "metadata": {},
     "output_type": "execute_result"
    }
   ],
   "source": [
    "'''8. Create a program to find the length of a string without using the `len()` function.'''\n",
    "\n",
    "def length_str(str1):\n",
    "    length = 0\n",
    "    \n",
    "    for num in str1:\n",
    "        length += 1\n",
    "    \n",
    "    return length\n",
    "\n",
    "#Driver code\n",
    "str1 = 'Prakash'\n",
    "\n",
    "length_str(str1)"
   ]
  },
  {
   "cell_type": "code",
   "execution_count": 2,
   "id": "9db104a4-d93e-48c7-b573-3a31ba9181ab",
   "metadata": {},
   "outputs": [
    {
     "data": {
      "text/plain": [
       "3.0"
      ]
     },
     "execution_count": 2,
     "metadata": {},
     "output_type": "execute_result"
    }
   ],
   "source": [
    "'''9. Write a program that calculates the average of a list of numbers using a `for` loop.'''\n",
    "\n",
    "def average_list(list1):\n",
    "    average = 0\n",
    "    \n",
    "    for i in list1:\n",
    "        average += i\n",
    "    \n",
    "    return average/len(list1)\n",
    "\n",
    "\n",
    "list1 = [1,2,3,4,5]\n",
    "\n",
    "average_list(list1)"
   ]
  },
  {
   "cell_type": "code",
   "execution_count": 20,
   "id": "3fc49256-bd1e-4312-97db-4207a1f69986",
   "metadata": {},
   "outputs": [
    {
     "data": {
      "text/plain": [
       "[1, 2, 3, 5, 8, 13, 21, 34, 55, 89, 144]"
      ]
     },
     "execution_count": 20,
     "metadata": {},
     "output_type": "execute_result"
    }
   ],
   "source": [
    "'''10. Develop a program that prints the first `n` Fibonacci numbers using a `for` loop.'''\n",
    "\n",
    "def fib_series(n):\n",
    "    fib_list = [1, 2]\n",
    "    \n",
    "    for i in range(1, n+1):\n",
    "        if i > 1:\n",
    "            j = fib_list[i-1] + fib_list[i-2]\n",
    "            fib_list.append(j)\n",
    "        \n",
    "    return fib_list\n",
    "\n",
    "#Driver code\n",
    "n = 10\n",
    "fib_series(n)"
   ]
  },
  {
   "cell_type": "code",
   "execution_count": 21,
   "id": "3f32d5af-b55d-45b7-b718-dc37563de2fa",
   "metadata": {},
   "outputs": [
    {
     "data": {
      "text/plain": [
       "'Intermediate Level:'"
      ]
     },
     "execution_count": 21,
     "metadata": {},
     "output_type": "execute_result"
    }
   ],
   "source": [
    "'''Intermediate Level:'''"
   ]
  },
  {
   "cell_type": "code",
   "execution_count": 9,
   "id": "5365ab41-c7ab-4ec1-8af3-6f906e0e0527",
   "metadata": {},
   "outputs": [
    {
     "data": {
      "text/plain": [
       "'List contains a duplicate character'"
      ]
     },
     "execution_count": 9,
     "metadata": {},
     "output_type": "execute_result"
    }
   ],
   "source": [
    "'''11. Write a program to check if a given list contains any duplicates using a `for` loop.'''\n",
    "def check_duplicate(list1):\n",
    "    \n",
    "    set1 = set()\n",
    "    \n",
    "    for i in list1:\n",
    "        set1.add(i)\n",
    "    if len(set1) == len(list1):\n",
    "        return 'List does not contains any duplicate character'\n",
    "    else:\n",
    "        return 'List contains a duplicate character'\n",
    "    \n",
    "\n",
    "\n",
    "#Driver code\n",
    "list1 = [1,2,3,4,5,6,6]\n",
    "\n",
    "check_duplicate(list1)"
   ]
  },
  {
   "cell_type": "code",
   "execution_count": 15,
   "id": "01287f72-7269-4454-bc91-b874aaa2a8c4",
   "metadata": {},
   "outputs": [
    {
     "data": {
      "text/plain": [
       "[1, 2, 3, 5, 7]"
      ]
     },
     "execution_count": 15,
     "metadata": {},
     "output_type": "execute_result"
    }
   ],
   "source": [
    "'''12. Create a program that prints the prime numbers in a given range using a `for` loop.'''\n",
    "\n",
    "def check_prime(range1):\n",
    "    \n",
    "    prime_numbers = [1 ]\n",
    "    for num in range(2, range1):\n",
    "        prime = True\n",
    "        for i in range(2, num):\n",
    "            if (num%i == 0):\n",
    "                prime = False\n",
    "                \n",
    "        if prime == True:\n",
    "            prime_numbers.append(num)\n",
    "    \n",
    "    return prime_numbers\n",
    "\n",
    "#Driver code\n",
    "range1 = 10 \n",
    "\n",
    "check_prime(range1)\n"
   ]
  },
  {
   "cell_type": "code",
   "execution_count": 19,
   "id": "ff6898a8-8feb-42ce-8efa-dca57f840d9d",
   "metadata": {},
   "outputs": [
    {
     "data": {
      "text/plain": [
       "3"
      ]
     },
     "execution_count": 19,
     "metadata": {},
     "output_type": "execute_result"
    }
   ],
   "source": [
    "'''13. Develop a program that counts the number of vowels in a string using a `for` loop.'''\n",
    "\n",
    "def count_vowels(string1):\n",
    "    vowels_list = ['a','e','i','o','u']\n",
    "    vowels_count = 0\n",
    "    \n",
    "    for i in string1:\n",
    "        if i in vowels_list:\n",
    "            vowels_count += 1\n",
    "    \n",
    "    return vowels_count\n",
    "\n",
    "#Driver code\n",
    "string1 = 'Prakash Singh'\n",
    "\n",
    "count_vowels(string1)\n"
   ]
  },
  {
   "cell_type": "code",
   "execution_count": 23,
   "id": "f3113eba-65df-496c-8784-c60410e23405",
   "metadata": {},
   "outputs": [
    {
     "data": {
      "text/plain": [
       "10"
      ]
     },
     "execution_count": 23,
     "metadata": {},
     "output_type": "execute_result"
    }
   ],
   "source": [
    "'''14. Write a program to find the maximum element in a 2D list using a nested `for` loop.'''\n",
    "\n",
    "def max_elem(list_2D):\n",
    "    \n",
    "    max_elem = 0\n",
    "    \n",
    "    for i in list_2D:\n",
    "        for j in i:\n",
    "            if max_elem < j:\n",
    "                max_elem = j\n",
    "    \n",
    "    return max_elem\n",
    "    \n",
    "\n",
    "#Driver code\n",
    "list_2D = [[1,2,3], [2,3,4,5,10]]\n",
    "\n",
    "max_elem(list_2D)"
   ]
  },
  {
   "cell_type": "code",
   "execution_count": 26,
   "id": "00abfd64-5365-4fb2-9e63-341d2fa4710d",
   "metadata": {},
   "outputs": [
    {
     "data": {
      "text/plain": [
       "[1, 2, 3, 4, 1, 2, 3, 4]"
      ]
     },
     "execution_count": 26,
     "metadata": {},
     "output_type": "execute_result"
    }
   ],
   "source": [
    "'''15. Create a program that removes all occurrences of a specific element from a list using a `for` loop.'''\n",
    "\n",
    "def remove_sepecific_element(list1, specific_element):\n",
    "    \n",
    "    for elem in list1:\n",
    "        if elem == specific_element:\n",
    "            list1.remove(elem)\n",
    "            \n",
    "    return list1\n",
    "    \n",
    "\n",
    "#Drive code\n",
    "\n",
    "list1 = [1,2,3,4,5,1,2,3,4,5]\n",
    "specific_element = 5\n",
    "\n",
    "remove_sepecific_element(list1, specific_element)"
   ]
  },
  {
   "cell_type": "code",
   "execution_count": 8,
   "id": "b4ca076a-b898-41f0-a1f3-6d3e92f437b9",
   "metadata": {},
   "outputs": [
    {
     "name": "stdout",
     "output_type": "stream",
     "text": [
      "Multiplication table for 1: \n",
      "1 x 1 = 1\n",
      "1 x 2 = 2\n",
      "1 x 3 = 3\n",
      "1 x 4 = 4\n",
      "1 x 5 = 5\n",
      "1 x 6 = 6\n",
      "1 x 7 = 7\n",
      "1 x 8 = 8\n",
      "1 x 9 = 9\n",
      "1 x 10 = 10\n",
      "\n",
      "Multiplication table for 2: \n",
      "2 x 1 = 2\n",
      "2 x 2 = 4\n",
      "2 x 3 = 6\n",
      "2 x 4 = 8\n",
      "2 x 5 = 10\n",
      "2 x 6 = 12\n",
      "2 x 7 = 14\n",
      "2 x 8 = 16\n",
      "2 x 9 = 18\n",
      "2 x 10 = 20\n",
      "\n",
      "Multiplication table for 3: \n",
      "3 x 1 = 3\n",
      "3 x 2 = 6\n",
      "3 x 3 = 9\n",
      "3 x 4 = 12\n",
      "3 x 5 = 15\n",
      "3 x 6 = 18\n",
      "3 x 7 = 21\n",
      "3 x 8 = 24\n",
      "3 x 9 = 27\n",
      "3 x 10 = 30\n",
      "\n",
      "Multiplication table for 4: \n",
      "4 x 1 = 4\n",
      "4 x 2 = 8\n",
      "4 x 3 = 12\n",
      "4 x 4 = 16\n",
      "4 x 5 = 20\n",
      "4 x 6 = 24\n",
      "4 x 7 = 28\n",
      "4 x 8 = 32\n",
      "4 x 9 = 36\n",
      "4 x 10 = 40\n",
      "\n",
      "Multiplication table for 5: \n",
      "5 x 1 = 5\n",
      "5 x 2 = 10\n",
      "5 x 3 = 15\n",
      "5 x 4 = 20\n",
      "5 x 5 = 25\n",
      "5 x 6 = 30\n",
      "5 x 7 = 35\n",
      "5 x 8 = 40\n",
      "5 x 9 = 45\n",
      "5 x 10 = 50\n",
      "\n"
     ]
    }
   ],
   "source": [
    "'''16. Develop a program that generates a multiplication table for numbers from 1 to 5 using a nested `for` loop.'''\n",
    "\n",
    "def generte_table(n):\n",
    "    \n",
    "    for i in range(1 , n+1):\n",
    "        print(f\"Multiplication table for {i}: \")\n",
    "        for j in range(1, 11):\n",
    "            print(f\"{i} x {j} = {i*j}\")\n",
    "        print()\n",
    "\n",
    "#Driver code\n",
    "n = 5\n",
    "generte_table(n)\n"
   ]
  },
  {
   "cell_type": "code",
   "execution_count": 33,
   "id": "0cc502dd-6ddf-4611-a5d3-60984079ae5f",
   "metadata": {},
   "outputs": [
    {
     "data": {
      "text/plain": [
       "('Tempreatures in Celsious are: ', [0.0, 20.0, 32.22222222222222, 40.0, 100.0])"
      ]
     },
     "execution_count": 33,
     "metadata": {},
     "output_type": "execute_result"
    }
   ],
   "source": [
    "'''17. Write a program that converts a list of Fahrenheit temperatures to Celsius using a `for` loop.'''\n",
    "\n",
    "def FarenTOcelsius(temp_Farenhite):\n",
    "    temp_celsius = []\n",
    "    \n",
    "    for tempF in temp_Farenhite:\n",
    "        tempC = (5/9) * (tempF - 32)\n",
    "        temp_celsius.append(tempC)\n",
    "    return (\"Tempreatures in Celsious are: \", temp_celsius)\n",
    "\n",
    "#Driver code\n",
    "temp_Farenhite = [32, 68, 90, 104, 212]\n",
    "\n",
    "FarenTOcelsius(temp_Farenhite)"
   ]
  },
  {
   "cell_type": "code",
   "execution_count": 3,
   "id": "a2456e05-7c83-4401-8934-b852e56d7958",
   "metadata": {},
   "outputs": [
    {
     "data": {
      "text/plain": [
       "[104]"
      ]
     },
     "execution_count": 3,
     "metadata": {},
     "output_type": "execute_result"
    }
   ],
   "source": [
    "'''18. Create a program to print the common elements from two lists using a `for` loop.'''\n",
    "\n",
    "def compare_list(list1, list2):\n",
    "    \n",
    "    common_list = []\n",
    "    \n",
    "    for i in list1:\n",
    "        if i in list2:\n",
    "            common_list.append(i)\n",
    "    \n",
    "    return common_list\n",
    "    \n",
    "    \n",
    "\n",
    "#Driver code\n",
    "list1 = [32, 68, 90, 104, 212]\n",
    "list2 = [2, 8, 9, 104, 13]\n",
    "\n",
    "\n",
    "compare_list(list1,list2)"
   ]
  },
  {
   "cell_type": "code",
   "execution_count": 14,
   "id": "18eae9cc-de0f-4f5b-8044-bddda36ffc89",
   "metadata": {},
   "outputs": [
    {
     "name": "stdout",
     "output_type": "stream",
     "text": [
      "* \n",
      "* * \n",
      "* * * \n",
      "* * * * \n",
      "* * * * * \n",
      "* * * * * * \n",
      "* * * * * * * \n",
      "* * * * * * * * \n",
      "* * * * * * * * * \n"
     ]
    }
   ],
   "source": [
    "'''19. Develop a program that prints the pattern of right-angled triangles using a `for` loop. Use ‘*’ to draw them pattern'''\n",
    "\n",
    "for i in range(1,10):\n",
    "    for j in range(1, i+1):\n",
    "        print('*', end=' ')\n",
    "    print()"
   ]
  },
  {
   "cell_type": "code",
   "execution_count": 4,
   "id": "f82a7465-c077-4410-a8fa-003a9c7d1e85",
   "metadata": {},
   "outputs": [
    {
     "data": {
      "text/plain": [
       "111"
      ]
     },
     "execution_count": 4,
     "metadata": {},
     "output_type": "execute_result"
    }
   ],
   "source": [
    "'''20. Write a program to find the greatest common divisor (GCD) of two numbers using a `for` loop.'''\n",
    "def find_GCD(n1,n2):\n",
    "    \n",
    "    if n1 > n2:\n",
    "        smaller = n2\n",
    "    else:\n",
    "        smaller = n1\n",
    "        \n",
    "    for i in range(1, smaller+1):\n",
    "        if n1%i == 0 and n2%i == 0:\n",
    "            gcd = i\n",
    "        \n",
    "    return gcd\n",
    "    \n",
    "\n",
    "#Driver code\n",
    "\n",
    "n1 = 555\n",
    "n2 = 999\n",
    "\n",
    "find_GCD(n1, n2)"
   ]
  },
  {
   "cell_type": "code",
   "execution_count": 5,
   "id": "5580c416-1cfc-473b-ae41-f9c0cf5ca387",
   "metadata": {},
   "outputs": [
    {
     "data": {
      "text/plain": [
       "'Advanced Level:'"
      ]
     },
     "execution_count": 5,
     "metadata": {},
     "output_type": "execute_result"
    }
   ],
   "source": [
    "'''Advanced Level:'''"
   ]
  },
  {
   "cell_type": "code",
   "execution_count": null,
   "id": "5399bc45-7917-47d0-b8e4-a6cf41f24b6a",
   "metadata": {},
   "outputs": [],
   "source": [
    "'''21. Create a program that calculates the sum of the digits of numbers in a list using a list comprehension.'''\n",
    "\n",
    "def add_digits(number):\n",
    "    sum_of_digit = sum (int(i) for i in str(number))\n",
    "    return sum_of_digit\n",
    "\n",
    "\n",
    "list1 = [12,35,55]\n",
    "\n",
    "sum_of_list1 = [add_digits(i) for i in list1]\n",
    "sum_of_list1"
   ]
  },
  {
   "cell_type": "code",
   "execution_count": 4,
   "id": "bc760624-293d-4362-9a8a-2267d99f4c86",
   "metadata": {},
   "outputs": [
    {
     "name": "stdout",
     "output_type": "stream",
     "text": [
      "[5, 11]\n"
     ]
    }
   ],
   "source": [
    "'''22. Write a program to find the prime factors of a given number using a `for` loop and list comprehension.'''\n",
    "\n",
    "number = 55\n",
    "factor = []\n",
    "\n",
    "while number%2 == 0:\n",
    "    factor.append(2)\n",
    "    number//= 2\n",
    "    \n",
    "\n",
    "for i in range(3, int(number**0.5) + 1, 2):\n",
    "    while number % i == 0:\n",
    "        factor.append(i)\n",
    "        number //= i\n",
    "if number > 2:\n",
    "    factor.append(number)\n",
    "        \n",
    "print(factor)"
   ]
  },
  {
   "cell_type": "code",
   "execution_count": 7,
   "id": "e21e2763-55a0-4959-a20e-4db78f7b6d81",
   "metadata": {},
   "outputs": [
    {
     "name": "stdout",
     "output_type": "stream",
     "text": [
      "Old List: [1, 2, 3, 4, 4, 5, 6, 6, 7, 8, 8, 9, 9]\n",
      "Unique Elements List: [1, 2, 3, 4, 5, 6, 7, 8, 9]\n"
     ]
    }
   ],
   "source": [
    "'''23. Develop a program that extracts unique elements from a list and stores them in a new list using a list comprehension.'''\n",
    "\n",
    "\n",
    "old_list = [1, 2, 3, 4, 4, 5, 6, 6, 7, 8, 8, 9, 9]\n",
    "\n",
    "unique_list = list(set(old_list))\n",
    "\n",
    "print(\"Old List:\", old_list)\n",
    "print(\"Unique Elements List:\", unique_list)\n",
    "\n"
   ]
  },
  {
   "cell_type": "code",
   "execution_count": 11,
   "id": "e71a7b8b-abb3-41f3-ab48-bc90b3178d42",
   "metadata": {},
   "outputs": [
    {
     "name": "stdout",
     "output_type": "stream",
     "text": [
      "[0, 1, 2, 3, 4, 5, 6, 7, 8, 9, 11, 22, 33, 44, 55, 66, 77, 88, 99]\n"
     ]
    }
   ],
   "source": [
    "'''24. Create a program that generates a list of all palindromic numbers up to a specified limit using a list comprehension.'''\n",
    "\n",
    "specified_limit = 100\n",
    "\n",
    "palindromic_list = [i for i in range(specified_limit) if str(i) == str(i)[::-1]]\n",
    "\n",
    "print(palindromic_list)"
   ]
  },
  {
   "cell_type": "code",
   "execution_count": 13,
   "id": "838d4ac2-8a43-4dfa-b600-1b565550f382",
   "metadata": {},
   "outputs": [
    {
     "name": "stdout",
     "output_type": "stream",
     "text": [
      "[1, 2, 3, 4, 5, 6, 7, 8, 9]\n"
     ]
    }
   ],
   "source": [
    "'''25. Write a program to flatten a nested list using list comprehension.'''\n",
    "\n",
    "nested_list = [[1,2,3],[4,5,6],[7,8,9]]\n",
    "\n",
    "flatten_list = [j for i in nested_list for j in i]\n",
    "\n",
    "print(flatten_list)\n"
   ]
  },
  {
   "cell_type": "code",
   "execution_count": 21,
   "id": "e12a374a-c0c4-4176-8cf7-35ad618922b1",
   "metadata": {},
   "outputs": [
    {
     "name": "stdout",
     "output_type": "stream",
     "text": [
      "Sum of even numbers: 30\n",
      "Sum of odd numbers: 25\n"
     ]
    }
   ],
   "source": [
    "'''26. Develop a program that computes the sum of even and odd numbers in a list separately using list comprehension.'''\n",
    "\n",
    "mixed_list = [1,2,3,4,5,6,7,8,9,10]\n",
    "even = 0\n",
    "odd = 0\n",
    "\n",
    "even_list = sum([ i for i in mixed_list if i%2 == 0 ])\n",
    "odd_list = sum([i for i in mixed_list if i%2 != 0])\n",
    "\n",
    "\n",
    "print(\"Sum of even numbers:\", even_list)\n",
    "print(\"Sum of odd numbers:\", odd_list)"
   ]
  },
  {
   "cell_type": "code",
   "execution_count": 2,
   "id": "c5be1559-3f12-4c13-b4f9-52c358484302",
   "metadata": {},
   "outputs": [
    {
     "name": "stdout",
     "output_type": "stream",
     "text": [
      "[1, 9, 25, 49, 81]\n"
     ]
    }
   ],
   "source": [
    "'''27. Create a program that generates a list of squares of odd numbers between 1 and 10 using list comprehension.'''\n",
    "\n",
    "list_sq = [i**2 for i in range(10) if i%2!=0]\n",
    "\n",
    "print(list_sq)\n"
   ]
  },
  {
   "cell_type": "code",
   "execution_count": 6,
   "id": "b168286b-30a7-47fc-b754-ddd3a5ac879b",
   "metadata": {},
   "outputs": [
    {
     "name": "stdout",
     "output_type": "stream",
     "text": [
      "{'key': 'pair', 'Name': 'Prakash'}\n"
     ]
    }
   ],
   "source": [
    "'''28. Write a program that combines two lists into a dictionary using list comprehension.'''\n",
    "\n",
    "list1 = ['key', 'Name']\n",
    "list2 = ['pair', 'Prakash']\n",
    "\n",
    "dictionary = {k: v for k, v in zip(list1, list2)}\n",
    "\n",
    "print(dictionary)"
   ]
  },
  {
   "cell_type": "code",
   "execution_count": 29,
   "id": "ec6a709e-44ec-45ae-949d-ea6bc7cf8408",
   "metadata": {},
   "outputs": [
    {
     "name": "stdin",
     "output_type": "stream",
     "text": [
      "Enter the string:  I am Prakash Singh\n"
     ]
    },
    {
     "name": "stdout",
     "output_type": "stream",
     "text": [
      "['I', 'a', 'a', 'a', 'i']\n"
     ]
    }
   ],
   "source": [
    "'''29. Develop a program that extracts the vowels from a string and stores them in a list using list comprehension.'''\n",
    "\n",
    "string1 = (input('Enter the string: '))\n",
    "vowels = 'aeiouAEIOU'\n",
    "\n",
    "vowel_list = [i for i in string1 if i in vowels ]\n",
    "\n",
    "print(vowel_list)"
   ]
  },
  {
   "cell_type": "code",
   "execution_count": 3,
   "id": "bbffa5fc-ccc0-420e-9106-c2c168b79d18",
   "metadata": {},
   "outputs": [
    {
     "name": "stdout",
     "output_type": "stream",
     "text": [
      "[1, 2, 3, 4]\n"
     ]
    }
   ],
   "source": [
    "'''30. Create a program that removes all non-numeric characters from a list of strings using list comprehension.'''\n",
    "\n",
    "list1 = [1, 2, 3, 4, 'Prakash', 'Singh']\n",
    "\n",
    "numericlist = [i for i in list1 if isinstance(i, (int))  ]\n",
    "\n",
    "print(numericlist)"
   ]
  },
  {
   "cell_type": "code",
   "execution_count": 9,
   "id": "c5edd3a9-ed56-4280-a32d-fa8a0d64bb3f",
   "metadata": {},
   "outputs": [
    {
     "name": "stdin",
     "output_type": "stream",
     "text": [
      "Enter the upper limit:  50\n"
     ]
    },
    {
     "name": "stdout",
     "output_type": "stream",
     "text": [
      "[2, 3, 5, 7, 11, 13, 17, 19, 23, 29, 31, 37, 41, 43, 47]\n"
     ]
    }
   ],
   "source": [
    "'''31. Write a program to generate a list of prime numbers using the Sieve of Eratosthenes algorithm and list comprehension.'''\n",
    "\n",
    "limit = int(input(\"Enter the upper limit: \"))\n",
    "\n",
    "sieve = [True] * (limit + 1)\n",
    "sieve[0] = sieve[1] = False  \n",
    "\n",
    "\n",
    "for i in range(2, int(limit ** 0.5) + 1):\n",
    "    if sieve[i]:\n",
    "        sieve[i*i:limit+1:i] = [False] * len(sieve[i*i:limit+1:i])\n",
    "\n",
    "\n",
    "prime_numbers = [num for num in range(2, limit+1) if sieve[num]]\n",
    "\n",
    "\n",
    "print(prime_numbers)\n"
   ]
  },
  {
   "cell_type": "code",
   "execution_count": 3,
   "id": "d84f9e0f-7499-407c-8e7c-b165171bb4e1",
   "metadata": {},
   "outputs": [
    {
     "name": "stdout",
     "output_type": "stream",
     "text": [
      "[(1, 4), (1, 5), (1, 6), (2, 4), (2, 5), (2, 6), (3, 4), (3, 5), (3, 6)]\n"
     ]
    }
   ],
   "source": [
    "'''33. Develop a program that generates a list of all possible combinations of two lists using list comprehension.'''\n",
    "\n",
    "list1 = [1,2,3]\n",
    "list2 = [4,5,6]\n",
    "\n",
    "all_combi = [(i,j) for i in list1 for j in list2]\n",
    "\n",
    "print(all_combi)"
   ]
  },
  {
   "cell_type": "code",
   "execution_count": 11,
   "id": "622457d6-7674-4268-92ed-7302725d0df4",
   "metadata": {},
   "outputs": [
    {
     "name": "stdout",
     "output_type": "stream",
     "text": [
      "Mean: 5.0\n",
      "Median: 5.0\n",
      "Mode: [5]\n"
     ]
    }
   ],
   "source": [
    "'''34. Write a program that calculates the mean, median, and mode of a list of numbers using list comprehension.'''\n",
    "\n",
    "def calculate_mean(numbers):\n",
    "    return sum(numbers) / len(numbers)\n",
    "\n",
    "def calculate_median(numbers):\n",
    "    sorted_numbers = sorted(numbers)\n",
    "    n = len(sorted_numbers)\n",
    "    if n % 2 == 0:\n",
    "        return (sorted_numbers[n//2 - 1] + sorted_numbers[n//2]) / 2\n",
    "    else:\n",
    "        return sorted_numbers[n//2]\n",
    "\n",
    "def calculate_mode(numbers):\n",
    "    count_dict = {num: numbers.count(num) for num in numbers}\n",
    "    max_occurrences = max(count_dict.values())\n",
    "    mode = [num for num, count in count_dict.items() if count == max_occurrences]\n",
    "    return mode\n",
    "\n",
    "# Driver code:\n",
    "number_list = [1, 2, 3, 4, 5, 5, 6, 7, 8, 9]\n",
    "mean = calculate_mean(number_list)\n",
    "median = calculate_median(number_list)\n",
    "mode = calculate_mode(number_list)\n",
    "\n",
    "print(f\"Mean: {mean}\")\n",
    "print(f\"Median: {median}\")\n",
    "print(f\"Mode: {mode}\")\n"
   ]
  },
  {
   "cell_type": "code",
   "execution_count": 20,
   "id": "93c97e82-d579-455e-bb3d-2161812c1c51",
   "metadata": {},
   "outputs": [
    {
     "name": "stdout",
     "output_type": "stream",
     "text": [
      "              1               \n",
      "             1 1              \n",
      "            1 2 1             \n",
      "           1 3 3 1            \n",
      "          1 4 6 4 1           \n",
      "        1 5 10 10 5 1         \n",
      "       1 6 15 20 15 6 1       \n",
      "     1 7 21 35 35 21 7 1      \n",
      "    1 8 28 56 70 56 28 8 1    \n",
      " 1 9 36 84 126 126 84 36 9 1  \n"
     ]
    }
   ],
   "source": [
    "'''35. Create a program that generates Pascal's triangle up to a specified number of rows using list comprehension.'''\n",
    "\n",
    "num_rows = 10\n",
    "triangle = [[1]]\n",
    "\n",
    "for i in range(1, num_rows):\n",
    "    row = [1] + [triangle[i-1][j] + triangle[i-1][j+1] for j in range(i-1)] + [1]\n",
    "    \n",
    "    triangle.append(row)\n",
    "\n",
    "for row in triangle:\n",
    "    print(' '.join(map(str, row)).center(num_rows*3))\n"
   ]
  },
  {
   "cell_type": "code",
   "execution_count": 38,
   "id": "9c65658f-e4c6-4fb0-aeda-82e3783348f6",
   "metadata": {},
   "outputs": [
    {
     "name": "stdout",
     "output_type": "stream",
     "text": [
      "873\n"
     ]
    }
   ],
   "source": [
    "'''36. Develop a program that calculates the sum of the digits of a factorial of numbers from 1 to 5 using list comprehension.'''\n",
    "n = 6\n",
    "def calc_fact(n):\n",
    "    factorial = 1\n",
    "    for i in range(1, n+1):\n",
    "        factorial = i * factorial\n",
    "    return factorial\n",
    "    \n",
    "sum_of_the_digits = sum([calc_fact(i) for i in range(1,n+1)])\n",
    "\n",
    "print(sum_of_the_digits)"
   ]
  },
  {
   "cell_type": "code",
   "execution_count": 61,
   "id": "be163146-b411-4c7d-8bf2-e4d39db9f071",
   "metadata": {},
   "outputs": [
    {
     "name": "stdout",
     "output_type": "stream",
     "text": [
      "['Prakash']\n"
     ]
    }
   ],
   "source": [
    "'''37. Write a program that finds the longest word in a sentence using list comprehension.'''\n",
    "\n",
    "sentence = 'I am Prakash Singh '\n",
    "\n",
    "longest_word = [ max(sentence.split(' '), key = len)]\n",
    "\n",
    "print(longest_word)\n",
    "\n"
   ]
  },
  {
   "cell_type": "code",
   "execution_count": 15,
   "id": "04941d9c-8d15-4157-9f17-5ce2e8b03b8e",
   "metadata": {},
   "outputs": [
    {
     "name": "stdout",
     "output_type": "stream",
     "text": [
      "['gooood', 'leeearning']\n"
     ]
    }
   ],
   "source": [
    "'''38. Create a program that filters a list of strings to include only those with more than three vowels using list comprehension.'''\n",
    "\n",
    "strings = [\"hello\", \"world\", \"Pwskills\", \"gooood\", \"programming\", \"leeearning\"]\n",
    "\n",
    "def count_vowels(string):\n",
    "    vowels = \"aeiouAEIOU\"\n",
    "    return sum(1 for char in string if char in vowels)\n",
    "\n",
    "filtered_list = [ string for string in strings if count_vowels(string)>3]\n",
    "\n",
    "print(filtered_list)\n"
   ]
  },
  {
   "cell_type": "code",
   "execution_count": 7,
   "id": "e808f8a6-7973-46b5-a778-8fdbf57937ec",
   "metadata": {},
   "outputs": [
    {
     "name": "stdout",
     "output_type": "stream",
     "text": [
      "500500\n"
     ]
    }
   ],
   "source": [
    "'''39. Develop a program that calculates the sum of the digits of numbers from 1 to 1000 using list comprehension.'''\n",
    "n = 1000\n",
    "\n",
    "sum_of_digits = sum([ i for i in range(1,n+1) ])\n",
    "\n",
    "print(sum_of_digits)"
   ]
  },
  {
   "cell_type": "code",
   "execution_count": 11,
   "id": "4cbbd71e-1dbc-4e3f-be38-b25d4c34faa9",
   "metadata": {},
   "outputs": [
    {
     "name": "stdin",
     "output_type": "stream",
     "text": [
      "Enter the upper limit:  500\n"
     ]
    },
    {
     "name": "stdout",
     "output_type": "stream",
     "text": [
      "List of prime palindromic numbers up to 500 : [2, 3, 5, 7, 11, 101, 131, 151, 181, 191, 313, 353, 373, 383]\n"
     ]
    }
   ],
   "source": [
    "'''40. Write a program that generates a list of prime palindromic numbers using list comprehension.'''\n",
    "\n",
    "def is_prime(n):\n",
    "    return n > 1 and all(n % i != 0 for i in range(2, int(n**0.5) + 1))\n",
    "\n",
    "def is_palindrome(n):\n",
    "    return str(n) == str(n)[::-1]\n",
    "\n",
    "limit = int(input(\"Enter the upper limit: \"))\n",
    "\n",
    "prime_palindromes = [num for num in range(2, limit + 1) if is_prime(num) and is_palindrome(num)]\n",
    "\n",
    "print(\"List of prime palindromic numbers up to\", limit, \":\", prime_palindromes)\n"
   ]
  },
  {
   "cell_type": "code",
   "execution_count": null,
   "id": "8271e91e-86a9-4691-b440-f57e9dbe1106",
   "metadata": {},
   "outputs": [],
   "source": []
  }
 ],
 "metadata": {
  "kernelspec": {
   "display_name": "Python 3 (ipykernel)",
   "language": "python",
   "name": "python3"
  },
  "language_info": {
   "codemirror_mode": {
    "name": "ipython",
    "version": 3
   },
   "file_extension": ".py",
   "mimetype": "text/x-python",
   "name": "python",
   "nbconvert_exporter": "python",
   "pygments_lexer": "ipython3",
   "version": "3.10.8"
  }
 },
 "nbformat": 4,
 "nbformat_minor": 5
}

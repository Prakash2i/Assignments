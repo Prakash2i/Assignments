{
 "cells": [
  {
   "cell_type": "code",
   "execution_count": 1,
   "id": "1d1e610f-447f-45cb-9c0e-64c2a694e7f2",
   "metadata": {},
   "outputs": [
    {
     "data": {
      "text/plain": [
       "'Problem 1: Bank Account Create a class representing a bank account with attributes like account number, \\naccount holder name, and balance. Implement methods to deposit and withdraw money from the account'"
      ]
     },
     "execution_count": 1,
     "metadata": {},
     "output_type": "execute_result"
    }
   ],
   "source": [
    "'''Problem 1: Bank Account Create a class representing a bank account with attributes like account number, \n",
    "account holder name, and balance. Implement methods to deposit and withdraw money from the account'''"
   ]
  },
  {
   "cell_type": "code",
   "execution_count": 12,
   "id": "23a2bd79-71ab-4dda-9a5a-1d36d24fba90",
   "metadata": {},
   "outputs": [],
   "source": [
    "class bankaccount:\n",
    "    \n",
    "    def __init__(self, account_number, holder_name, balance):\n",
    "        self.account_number = account_number\n",
    "        self.holder_name = holder_name\n",
    "        self.balance = balance\n",
    "        \n",
    "    def deposits(self, amount):\n",
    "        final_amount = self.balance + amount\n",
    "        print(f'Account balance after deposition of {amount} is', final_amount)\n",
    "        self.balance = final_amount\n",
    "        \n",
    "    def withdraw(self, amount):\n",
    "        final_amount = self.balance - amount\n",
    "        print(f'Account balance after withdraw of {amount} is', final_amount)\n",
    "        self.balance = final_amount\n",
    "    "
   ]
  },
  {
   "cell_type": "code",
   "execution_count": 13,
   "id": "e4eb31de-83f6-4cb2-b0aa-b1e03fcfd4a7",
   "metadata": {},
   "outputs": [],
   "source": [
    "mukesh = bankaccount(12345, 'Mukesh' , 3500)"
   ]
  },
  {
   "cell_type": "code",
   "execution_count": 14,
   "id": "288bf9bf-65ff-4621-8c6e-34b1bab65c34",
   "metadata": {},
   "outputs": [
    {
     "name": "stdout",
     "output_type": "stream",
     "text": [
      "Account balance after deposition of 5000 is 8500\n"
     ]
    }
   ],
   "source": [
    "mukesh.deposits(5000)"
   ]
  },
  {
   "cell_type": "code",
   "execution_count": 16,
   "id": "a5dd57d8-3d21-4d99-beb9-42210b4748d8",
   "metadata": {},
   "outputs": [
    {
     "name": "stdout",
     "output_type": "stream",
     "text": [
      "Account balance after withdraw of 1000 is 7500\n"
     ]
    },
    {
     "data": {
      "text/plain": [
       "7500"
      ]
     },
     "execution_count": 16,
     "metadata": {},
     "output_type": "execute_result"
    }
   ],
   "source": [
    "mukesh.withdraw(1000)"
   ]
  },
  {
   "cell_type": "code",
   "execution_count": 17,
   "id": "2a7b1918-3098-443f-ae09-74a85b6c05c7",
   "metadata": {},
   "outputs": [
    {
     "data": {
      "text/plain": [
       "'Problem 2: Employee Management Create a class representing an employee with attributes like employee ID, name, and salary. \\nImplement methods to calculate the yearly bonus and display employee details.'"
      ]
     },
     "execution_count": 17,
     "metadata": {},
     "output_type": "execute_result"
    }
   ],
   "source": [
    "'''Problem 2: Employee Management Create a class representing an employee with attributes like employee ID, name, and salary. \n",
    "Implement methods to calculate the yearly bonus and display employee details.'''"
   ]
  },
  {
   "cell_type": "code",
   "execution_count": 25,
   "id": "c1704912-0b58-49c2-9996-7c1b3bc24c1f",
   "metadata": {},
   "outputs": [],
   "source": [
    "class employee:\n",
    "    \n",
    "    def __init__(self, employeeID, name, salary):\n",
    "        self.employeeID = employeeID\n",
    "        self.name = name\n",
    "        self.salary = salary\n",
    "        \n",
    "    def bonus(self):\n",
    "        bonus = (self.salary*0.1)\n",
    "        print('Your bonus shall be', bonus)\n",
    "        \n",
    "    def emp_details(self):\n",
    "        print('Employee name is:' , self.name)\n",
    "        print('Employee ID is:', self.employeeID)\n",
    "        print('Employee salary is:' , self.salary)"
   ]
  },
  {
   "cell_type": "code",
   "execution_count": 26,
   "id": "7c5da6c5-cce3-40e1-a751-3474bc561427",
   "metadata": {},
   "outputs": [],
   "source": [
    "Prakash = employee('E117' , 'Prakash Singh' , 35000)"
   ]
  },
  {
   "cell_type": "code",
   "execution_count": 28,
   "id": "cdf600df-950b-494f-b267-5a5cf8c17c9b",
   "metadata": {},
   "outputs": [
    {
     "name": "stdout",
     "output_type": "stream",
     "text": [
      "Your bonus shall be 3500.0\n",
      "Employee name is: Prakash Singh\n",
      "Employee ID is: E117\n",
      "Employee salary is: 35000\n"
     ]
    }
   ],
   "source": [
    "Prakash.bonus()\n",
    "Prakash.emp_details()"
   ]
  },
  {
   "cell_type": "code",
   "execution_count": null,
   "id": "8d4735c6-3538-4b22-aca0-fe63dfdd5988",
   "metadata": {},
   "outputs": [],
   "source": [
    "'''Problem 3: Vehicle Rental Create a class representing a vehicle rental system. \n",
    "Implement methods to rent a vehicle, return a vehicle, and display available vehicles.'''"
   ]
  },
  {
   "cell_type": "code",
   "execution_count": 23,
   "id": "2cb08f7f-f0d3-41d5-bddc-36c19596cf8e",
   "metadata": {},
   "outputs": [],
   "source": [
    "class vehicle_rental:\n",
    "    \n",
    "    def __init__(self, vehicletype, quantity):\n",
    "        self.vehicletype  = vehicletype\n",
    "        self.quantity = quantity\n",
    "        \n",
    "    def rentvehicle(self):\n",
    "        vehiclerented = input('Enter the name of vehicle to rent')\n",
    "        bookedquantity = int(input('Enter the number of vehicle to rent'))\n",
    "        if vehiclerented == self.vehicletype:\n",
    "            if bookedquantity > self.quantity:\n",
    "                print('The quantity can not be fullfill at this time, please reduce the quantity')\n",
    "            else:\n",
    "                remaining_quantity = self.quantity - bookedquantity\n",
    "                self.quantity = remaining_quantity\n",
    "                print('You have successfully boked', str(bookedquantity) , 'of', vehiclerented)\n",
    "        else:\n",
    "            print('Vehicle is not available.')\n",
    "    \n",
    "    def returnvehicle(self):\n",
    "        vehiclereturn = input('Enter the name of vehicle to return')\n",
    "        returnquantity = int(input('Enter the number of vehicle to rent'))\n",
    "        if vehiclereturn == self.vehicletype:\n",
    "            finalquantity = self.quantity + returnquantity\n",
    "            print('You have successfully returned', str(returnquantity) , 'of', vehiclereturn)\n",
    "        else:\n",
    "            print('This vehicle does not belong to us')\n",
    "    \n",
    "    \n",
    "    def availablevehicle(self):\n",
    "        if self.quantity > 0:\n",
    "            print('Avaialable vehicle is:', self.vehicletype)\n",
    "            print('Available vehicle quantity is:' , self.quantity)\n",
    "        \n",
    "       "
   ]
  },
  {
   "cell_type": "code",
   "execution_count": 24,
   "id": "a5380b5a-a87d-43d1-9c81-d74828306ab3",
   "metadata": {},
   "outputs": [],
   "source": [
    "vehicle1 = vehicle_rental('Swift', 5)"
   ]
  },
  {
   "cell_type": "code",
   "execution_count": 20,
   "id": "8b88999e-f84a-4801-82c4-32535a89a527",
   "metadata": {},
   "outputs": [
    {
     "name": "stdin",
     "output_type": "stream",
     "text": [
      "Enter the name of vehicle to rent 5\n",
      "Enter the number of vehicle to rent 5\n"
     ]
    },
    {
     "name": "stdout",
     "output_type": "stream",
     "text": [
      "Vehicle is not available.\n"
     ]
    }
   ],
   "source": [
    "vehicle1.rentvehicle()"
   ]
  },
  {
   "cell_type": "code",
   "execution_count": 21,
   "id": "061860ce-9b64-4606-8ecf-ad83b0bab1c5",
   "metadata": {},
   "outputs": [
    {
     "name": "stdout",
     "output_type": "stream",
     "text": [
      "Avaialable vehicle is: Swift\n",
      "Available vehicle quantity is: 5\n"
     ]
    }
   ],
   "source": [
    "vehicle1.availablevehicle()"
   ]
  },
  {
   "cell_type": "code",
   "execution_count": 25,
   "id": "0385d502-b7e2-4c21-b072-d7ed6becc54e",
   "metadata": {},
   "outputs": [
    {
     "name": "stdin",
     "output_type": "stream",
     "text": [
      "Enter the name of vehicle to return Swift\n",
      "Enter the number of vehicle to rent 5\n"
     ]
    },
    {
     "name": "stdout",
     "output_type": "stream",
     "text": [
      "You have successfully returned 5 of Swift\n"
     ]
    }
   ],
   "source": [
    "vehicle1.returnvehicle()"
   ]
  },
  {
   "cell_type": "code",
   "execution_count": null,
   "id": "6eac9a91-815d-41ea-bbff-f002b8758d89",
   "metadata": {},
   "outputs": [],
   "source": [
    "'''Problem 4: Library Catalog Create classes representing a library and a book. \n",
    "Implement methods to add books to the library, borrow books, and display available books.'''"
   ]
  },
  {
   "cell_type": "code",
   "execution_count": 204,
   "id": "7c7b8eea-a4fc-4421-a758-eb6c37e4cb9b",
   "metadata": {},
   "outputs": [],
   "source": [
    "class library:\n",
    "    \n",
    "    def __init__(self):\n",
    "        self.book_name = input('Enter the the first book to add.')\n",
    "        self.book_quantity = int(input(\"Enter the the first book's quantity.\"))\n",
    "        self.books = {self.book_name:self.book_quantity}\n",
    "                                 \n",
    "    def add_book(self):\n",
    "        add_book_name = input('Enter the name of book to add.')\n",
    "        add_book_quantity = int(input('Enter the quantity of book to add'))\n",
    "        \n",
    "        if self.book_name == add_book_name:\n",
    "            self.books[self.book_name] += add_book_quantity\n",
    "        else:\n",
    "            print(f'{add_book_name} is added into the library and the quantity of it is {add_book_quantity}')\n",
    "            self.books[add_book_name] = add_book_quantity\n",
    "        \n",
    "    def borrow_book(self):\n",
    "        borrow_book_name = input('Enter the name of book to borrow.')\n",
    "        borrow_book_quantity = int(input('Enter the quantity of book to borrow'))\n",
    "        \n",
    "        if borrow_book_name in self.books.keys():\n",
    "            \n",
    "            for key in self.books:\n",
    "                if key == borrow_book_name and self.books[key] >= borrow_book_quantity :\n",
    "                    print(f\"The book '{borrow_book_name}' is present in the dictionary, Library is isseuing the book.\")\n",
    "                    self.books[key] -= borrow_book_quantity\n",
    "                elif key == borrow_book_name and self.books[key] < borrow_book_quantity :\n",
    "                    print('The book quantity is less than requirment')\n",
    "        else:\n",
    "            print(f\"The value '{borrow_book_name}' is not present in the dictionary or quantity is less.\")           \n",
    "             \n",
    "    def available_book(self): \n",
    "        print(f' Available books are {self.books}.')\n",
    "        "
   ]
  },
  {
   "cell_type": "code",
   "execution_count": 205,
   "id": "b297e668-f0fc-42e1-a01b-907ff76f3d94",
   "metadata": {},
   "outputs": [
    {
     "name": "stdin",
     "output_type": "stream",
     "text": [
      "Enter the the first book to add. a\n",
      "Enter the the first book's quantity. 10\n"
     ]
    }
   ],
   "source": [
    "lib1 = library()"
   ]
  },
  {
   "cell_type": "code",
   "execution_count": 206,
   "id": "b435dbae-9592-484f-ad87-d5fc3b9a8fb8",
   "metadata": {},
   "outputs": [
    {
     "name": "stdin",
     "output_type": "stream",
     "text": [
      "Enter the name of book to add. b\n",
      "Enter the quantity of book to add 20\n"
     ]
    },
    {
     "name": "stdout",
     "output_type": "stream",
     "text": [
      "b is added into the library and the quantity of it is 20\n"
     ]
    }
   ],
   "source": [
    "lib1.add_book()\n"
   ]
  },
  {
   "cell_type": "code",
   "execution_count": 200,
   "id": "982a1ee2-fc4b-492b-ac0b-ab4a6ed3acc3",
   "metadata": {},
   "outputs": [
    {
     "data": {
      "text/plain": [
       "{'a': 10, 'b': 20}"
      ]
     },
     "execution_count": 200,
     "metadata": {},
     "output_type": "execute_result"
    }
   ],
   "source": [
    "lib1.books"
   ]
  },
  {
   "cell_type": "code",
   "execution_count": 201,
   "id": "814a528a-e083-4e32-9c39-7113167535be",
   "metadata": {},
   "outputs": [
    {
     "name": "stdin",
     "output_type": "stream",
     "text": [
      "Enter the name of book to borrow. b\n",
      "Enter the quantity of book to borrow 20\n"
     ]
    },
    {
     "name": "stdout",
     "output_type": "stream",
     "text": [
      "The book 'b' is present in the dictionary, Library is isseuing the book.\n"
     ]
    }
   ],
   "source": [
    "lib1.borrow_book()"
   ]
  },
  {
   "cell_type": "code",
   "execution_count": 202,
   "id": "7cd32b46-8985-4566-ada4-4e1e96a220d8",
   "metadata": {},
   "outputs": [
    {
     "data": {
      "text/plain": [
       "{'a': 10, 'b': 0}"
      ]
     },
     "execution_count": 202,
     "metadata": {},
     "output_type": "execute_result"
    }
   ],
   "source": [
    "lib1.books"
   ]
  },
  {
   "cell_type": "code",
   "execution_count": 207,
   "id": "df8b68a4-cea4-471b-a977-d413391114a9",
   "metadata": {},
   "outputs": [
    {
     "name": "stdout",
     "output_type": "stream",
     "text": [
      " Available books are {'a': 10, 'b': 20}.\n"
     ]
    }
   ],
   "source": [
    "lib1.available_book()"
   ]
  },
  {
   "cell_type": "code",
   "execution_count": null,
   "id": "900dabc0-3d05-4bc2-9e91-050592b9503a",
   "metadata": {},
   "outputs": [],
   "source": [
    "'''Problem 5: Product Inventory Create classes representing a product and an inventory system. \n",
    "Implement methods to add products to the inventory, update product quantity, and display available products.'''"
   ]
  },
  {
   "cell_type": "code",
   "execution_count": 14,
   "id": "14612d21-8f40-4f27-8716-9ebe35638887",
   "metadata": {},
   "outputs": [],
   "source": [
    "class product_inventry:\n",
    "    \n",
    "    def __init__(self):\n",
    "        self.product_name = input('Enter the First product in inventory.')\n",
    "        self.product_quantity = int(input('Enter the quantity of your first product'))\n",
    "        self.product = {self.product_name:self.product_quantity}\n",
    "        \n",
    "    def add_product(self):\n",
    "        add_product_name = input('Enter the name of product to add in inventory')\n",
    "        add_product_quantity = int(input('Enter the quantity of product'))\n",
    "        \n",
    "        if add_product_name in self.product.keys():\n",
    "            self.product[add_product_name] += add_product_quantity\n",
    "        else:\n",
    "            self.product[add_product_name] = add_product_quantity\n",
    "            \n",
    "    def available_product(self):\n",
    "        print(f'The product are {self.product}.')\n",
    "        \n",
    "        "
   ]
  },
  {
   "cell_type": "code",
   "execution_count": 15,
   "id": "89dd11b3-5240-46b9-b0df-79c3d4dba210",
   "metadata": {},
   "outputs": [
    {
     "name": "stdin",
     "output_type": "stream",
     "text": [
      "Enter the First product in inventory. a\n",
      "Enter the quantity of your first product 20\n"
     ]
    }
   ],
   "source": [
    "a = product_inventry()\n"
   ]
  },
  {
   "cell_type": "code",
   "execution_count": 16,
   "id": "2114d7c8-ad98-480e-8259-784a02071092",
   "metadata": {},
   "outputs": [
    {
     "name": "stdin",
     "output_type": "stream",
     "text": [
      "Enter the name of product to add in inventory b\n",
      "Enter the quantity of product 23\n"
     ]
    }
   ],
   "source": [
    "a.add_product()"
   ]
  },
  {
   "cell_type": "code",
   "execution_count": 17,
   "id": "c31ec068-e6bb-409d-aaa3-dcbc70fb34a0",
   "metadata": {},
   "outputs": [
    {
     "name": "stdout",
     "output_type": "stream",
     "text": [
      "The product are {'a': 20, 'b': 23}.\n"
     ]
    }
   ],
   "source": [
    "a.available_product()"
   ]
  },
  {
   "cell_type": "code",
   "execution_count": null,
   "id": "d0844a3b-8bc7-448f-8896-6b48b585e789",
   "metadata": {},
   "outputs": [],
   "source": [
    "'''Problem 6: Shape Calculation Create a class representing a shape with attributes like length, width, and height. \n",
    "Implement methods to calculate the area and perimeter of the shape.'''"
   ]
  },
  {
   "cell_type": "code",
   "execution_count": null,
   "id": "a94ae666-37b4-4989-961d-40591bec240a",
   "metadata": {},
   "outputs": [],
   "source": [
    "class shape:\n",
    "    \n",
    "    def __init__(self, shape):\n",
    "        self.shape_type = shape\n",
    "        \n",
    "    def area(self):\n",
    "        if self.shape_type == 'Reactangle':\n",
    "            length = int(input('Enter the length of reactangle'))\n",
    "            width = int(input('Enter the width of reactangle'))\n",
    "            \n",
    "            area = length = width\n",
    "            perimeter = 2 * length * width\n",
    "            \n",
    "            return 'Area is' , area , 'Perimeter is' , perimeter"
   ]
  },
  {
   "cell_type": "code",
   "execution_count": null,
   "id": "562d47e7-feac-48e4-9a30-9e292f6845af",
   "metadata": {},
   "outputs": [],
   "source": [
    "a = shape('Reactangle')"
   ]
  },
  {
   "cell_type": "code",
   "execution_count": null,
   "id": "9b40a9f7-02c5-4408-b4ee-56daa47cd1db",
   "metadata": {},
   "outputs": [],
   "source": [
    "a.shape_type"
   ]
  },
  {
   "cell_type": "code",
   "execution_count": null,
   "id": "d25d3b9d-463d-4e92-a05c-337c9e909936",
   "metadata": {},
   "outputs": [],
   "source": [
    "a.area()"
   ]
  },
  {
   "cell_type": "code",
   "execution_count": null,
   "id": "bf386567-2cf8-4262-8d33-a337a559ca4c",
   "metadata": {},
   "outputs": [],
   "source": [
    "'''Problem 7: Student Management Create a class representing a student with attributes like student ID, name, and grades.\n",
    "Implement methods to calculate the average grade and display student details.'''\n"
   ]
  },
  {
   "cell_type": "code",
   "execution_count": 22,
   "id": "fad60fcc-0045-44c5-91a9-76a1bae9adf6",
   "metadata": {},
   "outputs": [],
   "source": [
    "class Student_management:\n",
    "    \n",
    "    def __init__(self):\n",
    "        self.student_id = input('Enter the student id')\n",
    "        self.student_name = input('Enter the student name')\n",
    "        self.student_grades = input ('Enter the student grades separating by space')\n",
    "        \n",
    "    def average_grade(self):\n",
    "        self.student_grade_list = self.student_grades.split()\n",
    "        grade_list = []\n",
    "        for i in self.student_grade_list:\n",
    "            grade_list.append(int(i))\n",
    "            \n",
    "        average = sum(grade_list) / int(len(self.student_grade_list))\n",
    "        \n",
    "        return average\n",
    "    \n",
    "    def student_detail(self):\n",
    "        \n",
    "        print('Student name is:', self.student_name )\n",
    "        print('Student ID is:' , self.student_id) \n",
    "    "
   ]
  },
  {
   "cell_type": "code",
   "execution_count": 24,
   "id": "7794670c-e700-44c3-8b17-e63fc5ce38ba",
   "metadata": {},
   "outputs": [
    {
     "name": "stdin",
     "output_type": "stream",
     "text": [
      "Enter the student id 117\n",
      "Enter the student name Mukesh Singh\n",
      "Enter the student grades separating by space 20 30 40 50 60 70 \n"
     ]
    }
   ],
   "source": [
    "muk = Student_management()"
   ]
  },
  {
   "cell_type": "code",
   "execution_count": 25,
   "id": "19a6c9d4-1e48-4105-bb3e-4643843ac18c",
   "metadata": {},
   "outputs": [
    {
     "name": "stdout",
     "output_type": "stream",
     "text": [
      "Student name is: Mukesh Singh\n",
      "Student ID is: 117\n"
     ]
    }
   ],
   "source": [
    "muk.student_detail()"
   ]
  },
  {
   "cell_type": "code",
   "execution_count": 15,
   "id": "0329408a-5751-4e3f-85ea-672aa52c1952",
   "metadata": {},
   "outputs": [
    {
     "data": {
      "text/plain": [
       "[20, 30, 40, 50, 60]"
      ]
     },
     "execution_count": 15,
     "metadata": {},
     "output_type": "execute_result"
    }
   ],
   "source": [
    "'''Problem 8: Email Management Create a class representing an email with attributes like sender, recipient, and subject.\n",
    "Implement methods to send an email and display email details'''"
   ]
  },
  {
   "cell_type": "code",
   "execution_count": 26,
   "id": "e7d560e0-bfdb-4d27-a539-583dac865ddb",
   "metadata": {},
   "outputs": [],
   "source": [
    "class email:\n",
    "    \n",
    "    def __init__(self):\n",
    "        self.sender = input('Enter your name')\n",
    "        self.recipient = input('Enter the name of sender to send mail')\n",
    "        self.subject = input('Enter the subject name of email')\n",
    "        self.content = input('Enter the content of email')\n",
    "        \n",
    "    def send_email(self):\n",
    "        \n",
    "        print(f' Your mail has been sent to the {self.recipient}')\n",
    "        \n",
    "    def display_email(self):\n",
    "        print(f'Mail was sent by: {self.sender}')\n",
    "        print(f'Recipient of email was: {self.recipient}')\n",
    "        print(f'Subject of mail was: {self.subject}')\n",
    "        print(f'Content of mail was: {self.content}')"
   ]
  },
  {
   "cell_type": "code",
   "execution_count": 27,
   "id": "195818e3-04d5-4688-bc2c-2b71bb87154e",
   "metadata": {},
   "outputs": [
    {
     "name": "stdin",
     "output_type": "stream",
     "text": [
      "Enter your name Prakash Singh\n",
      "Enter the name of sender to send mail Mukesh singh\n",
      "Enter the subject name of email Greeting!\n",
      "Enter the content of email Hi how are you? I hope you are fine.\n"
     ]
    }
   ],
   "source": [
    "firstemail = email()\n"
   ]
  },
  {
   "cell_type": "code",
   "execution_count": 29,
   "id": "1677e2ec-4062-43d1-b61a-18fa6609ffe3",
   "metadata": {},
   "outputs": [
    {
     "name": "stdout",
     "output_type": "stream",
     "text": [
      " Your mail has been sent to the Mukesh singh\n"
     ]
    }
   ],
   "source": [
    "firstemail.send_email()"
   ]
  },
  {
   "cell_type": "code",
   "execution_count": 32,
   "id": "5bdc3d98-83f3-4a92-8611-e01e3539e833",
   "metadata": {},
   "outputs": [
    {
     "name": "stdout",
     "output_type": "stream",
     "text": [
      "Mail was sent by: Prakash Singh\n",
      "Recipient of email was: Mukesh singh\n",
      "Subject of mail was: Greeting!\n",
      "Content of mail was: Hi how are you? I hope you are fine.\n"
     ]
    }
   ],
   "source": [
    "firstemail.display_email()"
   ]
  },
  {
   "cell_type": "code",
   "execution_count": null,
   "id": "3855ca75-57fc-4733-ac44-7cf4c73ab18e",
   "metadata": {},
   "outputs": [],
   "source": [
    "'''Problem 9: Social Media Profile Create a class representing a social media profile with attributes like username and posts. \n",
    "Implement methods to add posts, display posts, and search for posts by keyword.'''"
   ]
  },
  {
   "cell_type": "code",
   "execution_count": 53,
   "id": "4ae49b5f-ebb8-4bfd-a6fb-896f667352b2",
   "metadata": {},
   "outputs": [],
   "source": [
    "class social_media:\n",
    "    \n",
    "    def __init__(self):\n",
    "        self.username = input('Enter the username')\n",
    "        self.post_key = input('Enter the keyword for your first post')\n",
    "        self.post = input('Enter your first post')\n",
    "        self.posts_dict = {self.post_key:self.post}\n",
    "    \n",
    "    def add_post(self):\n",
    "        post_key = input('Enter the post key')\n",
    "        post = input('Enter the post')\n",
    "        \n",
    "        self.posts_dict[post_key] = post\n",
    "        \n",
    "    def display_post(self):\n",
    "        print('Your all posts are :', self.posts_dict )\n",
    "        \n",
    "    def serch_post(self):\n",
    "        searchPost = input('Enter the keyward of post to search')\n",
    "        \n",
    "        if searchPost in self.posts_dict:\n",
    "            print('The post was:', self.posts_dict[searchPost])\n",
    "        else:\n",
    "            print('Post does not found in user account')\n",
    "        "
   ]
  },
  {
   "cell_type": "code",
   "execution_count": 54,
   "id": "55d3cd14-5764-4b92-949a-5627b455d7f9",
   "metadata": {},
   "outputs": [
    {
     "name": "stdin",
     "output_type": "stream",
     "text": [
      "Enter the username 1\n",
      "Enter the keyword for your first post 1\n",
      "Enter your first post 1\n"
     ]
    }
   ],
   "source": [
    "a = social_media()"
   ]
  },
  {
   "cell_type": "code",
   "execution_count": 55,
   "id": "da128cbe-fac2-4667-b5e7-8648ce6f340d",
   "metadata": {},
   "outputs": [
    {
     "name": "stdin",
     "output_type": "stream",
     "text": [
      "Enter the post key 2\n",
      "Enter the post 2\n"
     ]
    }
   ],
   "source": [
    "a.add_post()"
   ]
  },
  {
   "cell_type": "code",
   "execution_count": 56,
   "id": "4762272c-2702-499d-93d6-7d46decb623d",
   "metadata": {},
   "outputs": [
    {
     "name": "stdout",
     "output_type": "stream",
     "text": [
      "Your all posts are : {'1': '1', '2': '2'}\n"
     ]
    }
   ],
   "source": [
    "a.display_post()"
   ]
  },
  {
   "cell_type": "code",
   "execution_count": 57,
   "id": "cc0522ed-0324-4ae9-82b8-42dfcaf93ec7",
   "metadata": {},
   "outputs": [
    {
     "name": "stdin",
     "output_type": "stream",
     "text": [
      "Enter the keyward of post to search 1\n"
     ]
    },
    {
     "name": "stdout",
     "output_type": "stream",
     "text": [
      "The post was: 1\n"
     ]
    }
   ],
   "source": [
    "a.serch_post()"
   ]
  },
  {
   "cell_type": "code",
   "execution_count": null,
   "id": "68e05d18-b969-454e-ab5c-0657821b5828",
   "metadata": {},
   "outputs": [],
   "source": [
    "'''Problem 10: ToDo List Create a class representing a ToDo list with attributes like tasks and due dates.\n",
    "Implement methods to add tasks, mark tasks as completed, and display pending tasks.'''"
   ]
  },
  {
   "cell_type": "code",
   "execution_count": 70,
   "id": "f72bd5f6-dd06-4a53-bb6f-12b7ead2f5b0",
   "metadata": {},
   "outputs": [],
   "source": [
    "class ToDo:\n",
    "    \n",
    "    def __init__(self):\n",
    "        self.task = input('Enter your first task detail')\n",
    "        self.due_date = input('Enter the due date in DD/MM/YY format.')\n",
    "        self.task_dict = {self.task:self.due_date}\n",
    "        \n",
    "    def addTask(self):\n",
    "        task = input('Enter the task to add.')\n",
    "        duedate = input('Enter the due date in DD/MM/YY format.')\n",
    "        \n",
    "        self.task_dict[task] = duedate\n",
    "        \n",
    "    def complete_task(self):\n",
    "        task = input('Enter the task to complete.')\n",
    "        \n",
    "        if task in self.task_dict:\n",
    "            self.task_dict.pop(task)\n",
    "            print('The remaining task are' , self.task_dict)\n",
    "        else:\n",
    "            print('The task has been completed or belong from other ToDo list')\n",
    "            \n",
    "    def displaytask(self):\n",
    "        print('The available tasks are:', self.task_dict)"
   ]
  },
  {
   "cell_type": "code",
   "execution_count": 71,
   "id": "220482cf-73a7-470c-9b49-6dde43b186cf",
   "metadata": {},
   "outputs": [
    {
     "name": "stdin",
     "output_type": "stream",
     "text": [
      "Enter your first task detail Cricekt\n",
      "Enter the due date in DD/MM/YY format. 14/03/2024\n"
     ]
    }
   ],
   "source": [
    "task = ToDo()"
   ]
  },
  {
   "cell_type": "code",
   "execution_count": 72,
   "id": "3824b418-8ca6-40b7-a0ab-db669b6a8198",
   "metadata": {},
   "outputs": [
    {
     "name": "stdout",
     "output_type": "stream",
     "text": [
      "The available tasks are: {'Cricekt': '14/03/2024'}\n"
     ]
    }
   ],
   "source": [
    "task.displaytask()"
   ]
  },
  {
   "cell_type": "code",
   "execution_count": 73,
   "id": "5cac79fd-4d4b-4099-b032-9fbd55e0a450",
   "metadata": {},
   "outputs": [
    {
     "name": "stdin",
     "output_type": "stream",
     "text": [
      "Enter the task to add. Going Home\n",
      "Enter the due date in DD/MM/YY format. 01/03/2024\n"
     ]
    }
   ],
   "source": [
    "task.addTask()"
   ]
  },
  {
   "cell_type": "code",
   "execution_count": 74,
   "id": "9f7f4290-ffdd-4232-bb74-c333fd3b0cb4",
   "metadata": {},
   "outputs": [
    {
     "name": "stdout",
     "output_type": "stream",
     "text": [
      "The available tasks are: {'Cricekt': '14/03/2024', 'Going Home': '01/03/2024'}\n"
     ]
    }
   ],
   "source": [
    "task.displaytask()"
   ]
  },
  {
   "cell_type": "code",
   "execution_count": 75,
   "id": "e7e3e11a-7d7a-4f80-9b87-031586b5d57c",
   "metadata": {},
   "outputs": [
    {
     "name": "stdin",
     "output_type": "stream",
     "text": [
      "Enter the task to complete. Cricekt\n"
     ]
    },
    {
     "name": "stdout",
     "output_type": "stream",
     "text": [
      "The remaining task are {'Going Home': '01/03/2024'}\n"
     ]
    }
   ],
   "source": [
    "task.complete_task()\n"
   ]
  }
 ],
 "metadata": {
  "kernelspec": {
   "display_name": "Python 3 (ipykernel)",
   "language": "python",
   "name": "python3"
  },
  "language_info": {
   "codemirror_mode": {
    "name": "ipython",
    "version": 3
   },
   "file_extension": ".py",
   "mimetype": "text/x-python",
   "name": "python",
   "nbconvert_exporter": "python",
   "pygments_lexer": "ipython3",
   "version": "3.10.8"
  }
 },
 "nbformat": 4,
 "nbformat_minor": 5
}

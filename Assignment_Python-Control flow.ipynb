{
 "cells": [
  {
   "cell_type": "code",
   "execution_count": null,
   "id": "c611f988-5f6b-408c-8c90-d5cb19554fb5",
   "metadata": {},
   "outputs": [],
   "source": [
    "#'''Basic If-Else Statements:'''"
   ]
  },
  {
   "cell_type": "code",
   "execution_count": 4,
   "id": "412f293c-17d9-4046-a92b-607b830d2482",
   "metadata": {},
   "outputs": [
    {
     "name": "stdout",
     "output_type": "stream",
     "text": [
      "The number is negative\n"
     ]
    }
   ],
   "source": [
    "'''1. Write a Python program to check if a given number is positive or negative.'''\n",
    "\n",
    "number = -5\n",
    "\n",
    "if number < 0:\n",
    "    print('The number is negative')\n",
    "else:\n",
    "    print('The number is positive')"
   ]
  },
  {
   "cell_type": "code",
   "execution_count": null,
   "id": "6529dce5-9f16-4653-8cb5-ca7e64eeba11",
   "metadata": {},
   "outputs": [],
   "source": [
    "'''2. Create a program that determines if a person is eligible to vote based on their age.'''\n",
    "\n",
    "required_age = 18\n",
    "person_age = int(input('Enter the age of person' ))\n",
    "\n",
    "if person_age >= required_age:\n",
    "    print('The person is eligible for Vote')\n",
    "else:\n",
    "    print('The person is not eligible for voting')"
   ]
  },
  {
   "cell_type": "code",
   "execution_count": 1,
   "id": "f8d435e1-d045-43d7-99d8-24b0b6ac766d",
   "metadata": {},
   "outputs": [
    {
     "name": "stdin",
     "output_type": "stream",
     "text": [
      "Enter the first number 10\n",
      "Enter the second number 20\n"
     ]
    },
    {
     "name": "stdout",
     "output_type": "stream",
     "text": [
      "maximum of 10 and 20 is 20\n"
     ]
    }
   ],
   "source": [
    "'''3. Develop a program to find the maximum of two numbers using if-else statements.'''\n",
    "\n",
    "num1 = int(input('Enter the first number'))\n",
    "num2 = int(input('Enter the second number'))\n",
    "\n",
    "if num1 < num2:\n",
    "    print(f'maximum of {num1} and {num2} is {num2}')\n",
    "else:\n",
    "    print(f'maximum of {num1} and {num2} is {num1}')"
   ]
  },
  {
   "cell_type": "code",
   "execution_count": null,
   "id": "2ec6e856-9699-4ebf-bf98-ca1ab6c6f5b6",
   "metadata": {},
   "outputs": [],
   "source": [
    "'''4. Write a Python script to classify a given year as a leap year or not.'''\n",
    "\n",
    "year = 2024\n",
    "\n",
    "if year % 4 == 0 and year % 100 != 0:\n",
    "    print(f\"{year} is a leap year\")\n",
    "else:\n",
    "    print(f\"{year} is not a leap year\")\n"
   ]
  },
  {
   "cell_type": "code",
   "execution_count": null,
   "id": "f342e6bd-d318-413a-9d7d-e198b281d161",
   "metadata": {},
   "outputs": [],
   "source": [
    "'''5. Create a program that checks whether a character is a vowel or a consonant.'''\n",
    "\n",
    "vowel = 'aeiouAEIOU'\n",
    "character = input('enter the character to check vowel')\n",
    "\n",
    "if character in vowel:\n",
    "    print(f'{character} is a vowel')\n",
    "else:\n",
    "    print(f'{character} is a onsonant')"
   ]
  },
  {
   "cell_type": "code",
   "execution_count": null,
   "id": "d7397d56-e771-4535-bd5c-8d2e7abad368",
   "metadata": {},
   "outputs": [],
   "source": [
    "'''6. Implement a program to determine whether a given number is even or odd.'''\n",
    "number = int(input('enter the number'))\n",
    "\n",
    "if number%2 == 0:\n",
    "    print(f'{number} is even')\n",
    "else:\n",
    "    print(f'{number} is odd')"
   ]
  },
  {
   "cell_type": "code",
   "execution_count": null,
   "id": "2d549cf3-5c9c-4a43-b7c9-b85daba41d5a",
   "metadata": {},
   "outputs": [],
   "source": [
    "'''7. Write a Python function to calculate the absolute value of a number without using the `abs()` function.'''\n",
    "\n",
    "number = -5\n",
    "\n",
    "if number>0:\n",
    "    print(f'Absolute value of {number} is {number}')\n",
    "else:\n",
    "    print(f'Absloute of {number} is {-number}')"
   ]
  },
  {
   "cell_type": "code",
   "execution_count": null,
   "id": "6be4cb61-7e87-470f-be86-96e19c6746ef",
   "metadata": {},
   "outputs": [],
   "source": [
    "'''8. Develop a program that determines the largest of three given numbers using if-else statements.'''\n",
    "num1 =  int(input('enter the number1'))\n",
    "num2 =  int(input('enter the number2'))\n",
    "num3 =  int(input('enter the number3'))\n",
    "\n",
    "if num1 > num2 and num1 > num3:\n",
    "    print(f'{num1} is largest than {num2} & {num3}')\n",
    "elif num2 > num1 and num2 > num3:\n",
    "    print(f'{num2} is largest than {num1} & {num3}')\n",
    "else:\n",
    "    print(f'{num3} is largest than {num1} & {num2}')"
   ]
  },
  {
   "cell_type": "code",
   "execution_count": null,
   "id": "e25a50fd-c093-463d-8545-facdb951d1ab",
   "metadata": {},
   "outputs": [],
   "source": [
    "'''9. Create a program that checks if a given string is a palindrome.'''\n",
    "string = input('enter the string')\n",
    "string2 = string[::-1]\n",
    "if string == string2:\n",
    "    print(f'{string} is a palindrome')\n",
    "else:\n",
    "    print(f'{string} is not a palindrome')"
   ]
  },
  {
   "cell_type": "code",
   "execution_count": 3,
   "id": "bee8ae88-d7fe-4bf7-8789-c8bbcdf4e067",
   "metadata": {},
   "outputs": [
    {
     "data": {
      "text/plain": [
       "' For score 60 the grade shall be D'"
      ]
     },
     "execution_count": 3,
     "metadata": {},
     "output_type": "execute_result"
    }
   ],
   "source": [
    "'''10. Write a Python program to calculate the grade based on a student's score.'''\n",
    "\n",
    "def grade_calc(score):\n",
    "    \n",
    "    if score >= 90:\n",
    "        return(f' For score {score} the grade shall be A')\n",
    "    elif score>=80:\n",
    "        return(f' For score {Score} the grade shall be B')\n",
    "    elif score>=70:\n",
    "        return(f' For score {score} the grade shall be C')\n",
    "    elif score>=60:\n",
    "        return(f' For score {score} the grade shall be D')    \n",
    "    else:\n",
    "        return (f' For score {score} the grade shall be F')\n",
    "\n",
    "grade_calc(60)\n"
   ]
  },
  {
   "cell_type": "code",
   "execution_count": null,
   "id": "1778a5bd-8293-4791-b4c5-cf02e46cc3c4",
   "metadata": {},
   "outputs": [],
   "source": [
    "Nested If-Else Statements:'''"
   ]
  },
  {
   "cell_type": "code",
   "execution_count": 4,
   "id": "8f4d0c72-5321-4d02-a437-86b9aaecc313",
   "metadata": {},
   "outputs": [
    {
     "name": "stdin",
     "output_type": "stream",
     "text": [
      "enter the number1 10\n",
      "enter the number2 20\n",
      "entern the number3 30\n"
     ]
    },
    {
     "name": "stdout",
     "output_type": "stream",
     "text": [
      " 30 is greater than 10 and 20\n"
     ]
    }
   ],
   "source": [
    "'''11. Write a program to find the largest among three numbers using nested if-else statements.'''\n",
    "\n",
    "num1 = int(input('enter the number1'))\n",
    "num2 = int(input('enter the number2'))\n",
    "num3 = int(input('entern the number3'))\n",
    "\n",
    "if num1 > num2 and num1 > num3:\n",
    "    print(f' {num1} is greater than {num2} and {num3}')\n",
    "elif num2 > num3 and num2 > num1:\n",
    "    print(f' {num2} is greater than {num1} and {num3}')\n",
    "else:\n",
    "    print(f' {num3} is greater than {num1} and {num2}')"
   ]
  },
  {
   "cell_type": "code",
   "execution_count": 9,
   "id": "bd87b5bb-e002-42e4-935e-60120dab011d",
   "metadata": {},
   "outputs": [
    {
     "name": "stdin",
     "output_type": "stream",
     "text": [
      "Enter the length of side1 20\n",
      "Enter the length of side2 20\n",
      "Enter the length of side3 0\n"
     ]
    },
    {
     "name": "stdout",
     "output_type": "stream",
     "text": [
      "The Triangle is Isosceles\n"
     ]
    }
   ],
   "source": [
    "'''12. Implement a program to determine if a triangle is equilateral, isosceles, or scale'''\n",
    "\n",
    "side1 = int(input('Enter the length of side1'))\n",
    "side2 = int(input('Enter the length of side2'))\n",
    "side3 = int(input('Enter the length of side3'))\n",
    "\n",
    "if side1 == side2 == side3:\n",
    "    print('The Triangle is Equilateral')\n",
    "elif side1 == side2 or side2 == side3 or side1 == side3 :\n",
    "    print('The Triangle is Isosceles')\n",
    "else:\n",
    "    print('The Triangle is Scalene')\n",
    "    "
   ]
  },
  {
   "cell_type": "code",
   "execution_count": 12,
   "id": "791fcd99-b96a-45a7-b641-7aae6b21713f",
   "metadata": {},
   "outputs": [
    {
     "name": "stdin",
     "output_type": "stream",
     "text": [
      "Enter the year 2021\n"
     ]
    },
    {
     "name": "stdout",
     "output_type": "stream",
     "text": [
      "The year 2021 is neither Leap year nor Century year\n"
     ]
    }
   ],
   "source": [
    "'''13. Develop a program that checks if a year is a leap year and also if it is a century year.'''\n",
    "year = int(input('Enter the year'))\n",
    "\n",
    "if year % 4 == 0 and year % 100 != 0:\n",
    "    print(f'The year {year} is leap year')\n",
    "elif year%400 == 0 and year % 100 == 0:\n",
    "    print (f'The year {year} is Century year')\n",
    "else:\n",
    "    print(f'The year {year} is neither Leap year nor Century year')"
   ]
  },
  {
   "cell_type": "code",
   "execution_count": 14,
   "id": "11c677d0-fc3b-40b9-95a7-10d62778496b",
   "metadata": {},
   "outputs": [
    {
     "name": "stdin",
     "output_type": "stream",
     "text": [
      "Enter the number -5\n"
     ]
    },
    {
     "name": "stdout",
     "output_type": "stream",
     "text": [
      "-5 is negative\n"
     ]
    }
   ],
   "source": [
    "'''14. Write a Python script to determine if a number is positive, negative, or zero.'''\n",
    "\n",
    "number = int(input('Enter the number'))\n",
    "\n",
    "if number < 0:\n",
    "    print(f'{number} is negative')\n",
    "elif number == 0:\n",
    "    print(f'{number} is zero')\n",
    "else:\n",
    "    print(f'{number} is positive')"
   ]
  },
  {
   "cell_type": "code",
   "execution_count": 19,
   "id": "aceef35f-6727-48ee-83ee-eb5cc557f7b7",
   "metadata": {},
   "outputs": [
    {
     "name": "stdin",
     "output_type": "stream",
     "text": [
      "enter the age 20\n"
     ]
    },
    {
     "name": "stdout",
     "output_type": "stream",
     "text": [
      "Person is a not a teenager\n"
     ]
    }
   ],
   "source": [
    "'''15. Create a program to check if a person is a teenager (between 13 and 19 years old).'''\n",
    "\n",
    "age = int(input('enter the age'))\n",
    "\n",
    "if age >= 13 and age <= 19:\n",
    "    print('Person is a teenager')\n",
    "else:\n",
    "    print('Person is a not a teenager')\n",
    "          "
   ]
  },
  {
   "cell_type": "code",
   "execution_count": 24,
   "id": "f8eb8f56-cc8b-47f8-830d-8bf215f3015b",
   "metadata": {},
   "outputs": [
    {
     "name": "stdin",
     "output_type": "stream",
     "text": [
      "enter the angle in degree 0\n"
     ]
    },
    {
     "name": "stdout",
     "output_type": "stream",
     "text": [
      "The angle is Acute angle\n"
     ]
    }
   ],
   "source": [
    "'''16. Develop a program that determines the type of angle based on its measure (acute, obtuse, or right).'''\n",
    "\n",
    "angle = int(input('enter the angle in degree'))\n",
    "\n",
    "if angle == 90:\n",
    "    print('The angle is Right angle')\n",
    "elif angle < 90:\n",
    "    print('The angle is Acute angle')\n",
    "elif angle > 90 and angle <= 180:\n",
    "    print('The angle is Obtuse angle')"
   ]
  },
  {
   "cell_type": "code",
   "execution_count": 1,
   "id": "08505461-18ec-4e7e-bfbf-485ddd8e68bb",
   "metadata": {},
   "outputs": [
    {
     "name": "stdin",
     "output_type": "stream",
     "text": [
      "Enter the coefficient a:  28\n",
      "Enter the coefficient b:  12\n",
      "Enter the coefficient c:  336\n"
     ]
    },
    {
     "name": "stdout",
     "output_type": "stream",
     "text": [
      "Roots of the quadratic equation: 53320.928458902854 -53321.357030331426\n"
     ]
    }
   ],
   "source": [
    "'''17. Write a Python program to calculate the roots of a quadratic equation.'''\n",
    "\n",
    "a = float(input('Enter the coefficient a: '))\n",
    "b = float(input('Enter the coefficient b: '))\n",
    "c = float(input('Enter the coefficient c: '))\n",
    "\n",
    "discriminant = b**b -4*a*c\n",
    "if discriminant > 0:\n",
    "    root1 = (-b + discriminant**0.5) / (2*a)\n",
    "    root2 = (-b - discriminant**0.5) / (2*a)\n",
    "    print(\"Roots of the quadratic equation:\", root1, root2)\n",
    "elif discriminant == 0:\n",
    "    root1 = -b/ (2*a)\n",
    "    print(\"Roots of the quadratic equation:\", root1, root1)\n",
    "else:\n",
    "    real_part = -b / (2*a)\n",
    "    imaginary_part = cmath.sqrt(abs(discriminant**0.5)) / (2*a)\n",
    "    root1 = complex(real_part, imaginary_part)\n",
    "    root2 = complex(real_part, -imaginary_part)\n",
    "    print(\"Roots of the quadratic equation:\", root1, root2)\n",
    "    \n",
    "    "
   ]
  },
  {
   "cell_type": "code",
   "execution_count": 10,
   "id": "60ed8695-0a3b-4a39-92d4-5c0d00e6ba95",
   "metadata": {},
   "outputs": [
    {
     "name": "stdin",
     "output_type": "stream",
     "text": [
      "Enter the number to check the week day 2\n"
     ]
    },
    {
     "name": "stdout",
     "output_type": "stream",
     "text": [
      " The day for input number 2 is Tuesday\n"
     ]
    }
   ],
   "source": [
    "'''18. Implement a program to determine the day of the week based on a user-provided number (1 for Monday, 2 for Tuesday, etc.).'''\n",
    "\n",
    "provide_num = int(input('Enter the number to check the week day'))\n",
    "\n",
    "if provide_num == 1:\n",
    "    print(f' The day for input number {provide_num} is Monday')\n",
    "elif provide_num == 2:\n",
    "    print(f' The day for input number {provide_num} is Tuesday')\n",
    "elif provide_num == 3:\n",
    "    print(f' The day for input number {provide_num} is Wednesday')\n",
    "elif provide_num == 4:\n",
    "    print(f' The day for input number {provide_num} is Thursday')\n",
    "elif provide_num == 5:\n",
    "    print(f' The day for input number {provide_num} is Friday')\n",
    "elif provide_num == 6:\n",
    "    print(f' The day for input number {provide_num} is Saturday')\n",
    "elif provide_num == 7:\n",
    "    print(f' The day for input number {provide_num} is Sunday')\n",
    "else:\n",
    "    print('The index is out of range')"
   ]
  },
  {
   "cell_type": "code",
   "execution_count": 15,
   "id": "8a455865-b3ef-45b6-93f7-ff95b4712bd6",
   "metadata": {},
   "outputs": [
    {
     "name": "stdin",
     "output_type": "stream",
     "text": [
      "Enter the year to check 1600\n"
     ]
    },
    {
     "name": "stdout",
     "output_type": "stream",
     "text": [
      "This year is a leap year and also evenly divisible by 400\n"
     ]
    }
   ],
   "source": [
    "'''19. Create a program that determines if a year is a leap year and also if it is evenly divisible by 400.'''\n",
    "\n",
    "year = int(input('Enter the year to check'))\n",
    "\n",
    "if year%4 == 0 and year != 0 and year%400 == 0:\n",
    "    print('This year is a leap year and also evenly divisible by 400')\n",
    "elif year%4 == 0 and year != 0 and year%400 != 0:\n",
    "    print('This year is a leap year but not evenly divisible by 400')"
   ]
  },
  {
   "cell_type": "code",
   "execution_count": 25,
   "id": "61bfa8b6-0713-4a55-b944-077e8256cd08",
   "metadata": {},
   "outputs": [
    {
     "name": "stdout",
     "output_type": "stream",
     "text": [
      "557 is a prime number.\n"
     ]
    }
   ],
   "source": [
    "'''20. Develop a program that checks if a given number is prime or not using nested if-else statements.'''\n",
    "\n",
    "def is_prime(number):\n",
    "    if number <= 1:\n",
    "        return False\n",
    "    elif number == 2:\n",
    "        return True\n",
    "    else:\n",
    "        for i in range(2, int(number**0.5) + 1):\n",
    "            if number % i == 0:\n",
    "                return False\n",
    "        return True\n",
    "\n",
    "# Example usage:\n",
    "num = 557\n",
    "if is_prime(num):\n",
    "    print(num, \"is a prime number.\")\n",
    "else:\n",
    "    print(num, \"is not a prime number.\")\n"
   ]
  },
  {
   "cell_type": "code",
   "execution_count": null,
   "id": "991c5aea-0706-474a-a195-fa3c173f76db",
   "metadata": {},
   "outputs": [],
   "source": [
    "#Elif Statements:"
   ]
  },
  {
   "cell_type": "code",
   "execution_count": 26,
   "id": "c88431ca-24ba-412b-8fe8-cebd9200d99a",
   "metadata": {},
   "outputs": [
    {
     "data": {
      "text/plain": [
       "' For score 60 the grade shall be D'"
      ]
     },
     "execution_count": 26,
     "metadata": {},
     "output_type": "execute_result"
    }
   ],
   "source": [
    "'''21. Write a Python program to assign grades based on different ranges of scores using elif statements.'''\n",
    "\n",
    "def grade_calc(score):\n",
    "    \n",
    "    if score >= 90:\n",
    "        return(f' For score {score} the grade shall be A')\n",
    "    elif score>=80:\n",
    "        return(f' For score {Score} the grade shall be B')\n",
    "    elif score>=70:\n",
    "        return(f' For score {score} the grade shall be C')\n",
    "    elif score>=60:\n",
    "        return(f' For score {score} the grade shall be D')    \n",
    "    else:\n",
    "        return (f' For score {score} the grade shall be F')\n",
    "\n",
    "grade_calc(60)\n"
   ]
  },
  {
   "cell_type": "code",
   "execution_count": 2,
   "id": "e17ea5c4-30af-4a12-aaf5-756b781af652",
   "metadata": {},
   "outputs": [
    {
     "name": "stdin",
     "output_type": "stream",
     "text": [
      "Enter the first Angle1 60\n",
      "Enter the second Angle2 60\n",
      "Enter the third Angle3 60\n"
     ]
    },
    {
     "data": {
      "text/plain": [
       "'Equilateral Triangle'"
      ]
     },
     "execution_count": 2,
     "metadata": {},
     "output_type": "execute_result"
    }
   ],
   "source": [
    "'''22. Implement a program to determine the type of a triangle based on its angles.'''\n",
    "\n",
    "def check_triangle(angle1, angle2, angle3):\n",
    "    if angle1+ angle2 + angle3 !=180:\n",
    "        return 'Invalid Triangle'\n",
    "\n",
    "    if angle1 == angle2 == angle3 == 60:\n",
    "        return 'Equilateral Triangle'\n",
    "    elif angle1 == angle2 or angle1 == angle3 or angle2 == angle3:\n",
    "        return 'Isosceles Triangle'\n",
    "    elif angle1 == 90 or angle2 == 90 or angle3 == 90:\n",
    "        return 'Right Triangle'\n",
    "    elif angle1>90 or angle2>90 or angle3>90:\n",
    "        return 'Obtuse Triangle'\n",
    "    else:\n",
    "        return 'Acute Triangle'\n",
    "\n",
    "\n",
    "#Driver code\n",
    "angle1 = int(input('Enter the first Angle1'))\n",
    "angle2 = int(input('Enter the second Angle2'))\n",
    "angle3 = int(input('Enter the third Angle3'))\n",
    "\n",
    "check_triangle(angle1, angle2, angle3)"
   ]
  },
  {
   "cell_type": "code",
   "execution_count": null,
   "id": "f42c8b10-f100-4dda-a510-31cfe49720c7",
   "metadata": {},
   "outputs": [],
   "source": [
    "'''23. Develop a program to categorize a given person's BMI into underweight, normal, overweight, or obese using elif statements.'''\n",
    "\n",
    "under_w = 18.5\n",
    "normal_w = 24.9\n",
    "over_w = 29.9\n",
    "obese_w = 30\n",
    "\n",
    "weight = float(input('Enter the weight in Kg'))\n",
    "height = float(input('Enter the height in meter'))\n",
    "\n",
    "bmi = weight/height\n",
    "\n",
    "if bmi <= under_w:\n",
    "    print(f'BMI is {bmi:.2f} and Person is us underweight')\n",
    "elif bmi > under_w and bmi < normal_w:\n",
    "    print(f'BMI is {bmi:.2f} and Person is Normal weight')\n",
    "elif bmi > normal_w and bmi < over_w:\n",
    "    print(f'BMI is {bmi:.2f} and Person is Overweight')\n",
    "else:\n",
    "    print(f'BMI is {bmi:.2f} and Person is Obese')\n"
   ]
  },
  {
   "cell_type": "code",
   "execution_count": null,
   "id": "51d27fe1-bef8-4bfd-81cf-f086a764eedc",
   "metadata": {},
   "outputs": [],
   "source": [
    "'''24. Create a program that determines whether a given number is positive, negative, or zero using elif statements.'''\n",
    "\n",
    "number = int(input('Enter the number'))\n",
    "\n",
    "if number < 0:\n",
    "    print(f'{number} is negative')\n",
    "elif number == 0:\n",
    "    print(f'{number} is zero')\n",
    "else:\n",
    "    print(f'{number} is positive')"
   ]
  },
  {
   "cell_type": "code",
   "execution_count": 2,
   "id": "e2e8c75f-58a4-4ae3-ad1f-4e19526ff99d",
   "metadata": {},
   "outputs": [
    {
     "name": "stdin",
     "output_type": "stream",
     "text": [
      "Enter the character 1\n"
     ]
    },
    {
     "name": "stdout",
     "output_type": "stream",
     "text": [
      "Special character\n"
     ]
    }
   ],
   "source": [
    "'''25. Write a Python script to determine the type of a character (uppercase, lowercase, or special) using elif statements.'''\n",
    "\n",
    "char = input(\"Enter the character\")\n",
    "\n",
    "if char.isupper():\n",
    "    print('Uppercase')\n",
    "elif char.islower():\n",
    "    print('Lowercase')\n",
    "else:\n",
    "    print('Special character') "
   ]
  },
  {
   "cell_type": "code",
   "execution_count": 14,
   "id": "dcb8d7a8-11c1-4acf-91db-d617eae27e03",
   "metadata": {},
   "outputs": [
    {
     "name": "stdin",
     "output_type": "stream",
     "text": [
      "Enter the price: 500\n"
     ]
    },
    {
     "name": "stdout",
     "output_type": "stream",
     "text": [
      "The discounted price at the purchase of Rs.500 is Rs 500.0\n"
     ]
    }
   ],
   "source": [
    "'''26. Implement a program to calculate the discounted price based on different purchase amounts using elif statements.'''\n",
    "\n",
    "def check_discount(total_price):\n",
    "    \n",
    "    if total_price >= 1200: \n",
    "        discount = 0.1 #10% discount for purchase above 1200.\n",
    "    elif total_price < 1200 and total_price > 800:\n",
    "        discount = 0.05 #10% discount for purchase above 800.\n",
    "    else:\n",
    "        discount = 0.0 # 0% discount for purchase below 800.\n",
    "        \n",
    "    final_discount = total_price - (total_price * discount)\n",
    "    \n",
    "    print(f'The discounted price at the purchase of Rs.{total_price} is Rs', final_discount)\n",
    "        \n",
    "    \n",
    "total_price = int(input('Enter the price:'))\n",
    "\n",
    "check_discount(total_price)"
   ]
  },
  {
   "cell_type": "code",
   "execution_count": 20,
   "id": "03295cf2-1a93-4866-86b1-4c20da698ec3",
   "metadata": {},
   "outputs": [
    {
     "name": "stdin",
     "output_type": "stream",
     "text": [
      "Enter the consumption units 999\n"
     ]
    },
    {
     "name": "stdout",
     "output_type": "stream",
     "text": [
      "Your bill for consumption units 999 is: 7992\n"
     ]
    }
   ],
   "source": [
    "'''27. Develop a program to calculate the electricity bill based on different consumption slabs using elif statements.'''\n",
    "\n",
    "consumption = int(input('Enter the consumption units'))\n",
    "\n",
    "consumption_slab1, unit_prize1 = 1000, 5 #Values in unit for slab and rupee in unitprize\n",
    "consumption_slab2, unit_prize2 = 800, 8\n",
    "consumption_slab3, unit_prize3 = 500, 10\n",
    "\n",
    "if consumption >= consumption_slab1:\n",
    "    bill = consumption * unit_prize1\n",
    "elif consumption >= consumption_slab2:\n",
    "    bill = consumption * unit_prize2   \n",
    "elif consumption >= consumption_slab3:\n",
    "    bill = consumption * unit_prize3\n",
    "    \n",
    "print(f'Your bill for consumption units {consumption} is:', str(bill))"
   ]
  },
  {
   "cell_type": "code",
   "execution_count": 23,
   "id": "cdbef8a3-6fd9-4458-bb9c-3ed730d1f053",
   "metadata": {},
   "outputs": [
    {
     "name": "stdin",
     "output_type": "stream",
     "text": [
      "Enter the angle1 60\n",
      "Enter the angle2 30\n",
      "Enter the angle3 60\n",
      "Enter the angle4 30\n",
      "Enter the side1 100\n",
      "Enter the side2 100\n",
      "Enter the side3 100\n",
      "Enter the side4 100\n"
     ]
    },
    {
     "data": {
      "text/plain": [
       "'Invalid Quadrilateral'"
      ]
     },
     "execution_count": 23,
     "metadata": {},
     "output_type": "execute_result"
    }
   ],
   "source": [
    "'''28. Create a program to determine the type of quadrilateral based on its angles and sides using elif statements.'''\n",
    "\n",
    "def check_quadrilateral(angle1, angle2, angle3, angle4, side1, side2, side3, side4):\n",
    "    if angle1+angle2+angle3+angle4 != 360:\n",
    "        return('Invalid Quadrilateral')\n",
    "    \n",
    "    if angle1 == angle2 == angle3 == angle4 == 90 and side1 == side2 == side3 == side4:\n",
    "        return('The Quadrilateral is a Square')\n",
    "    elif angle1 == angle2 == angle3 == angle4 == 90 and side1 == side3 and side2 == side4:\n",
    "        return('The Quadrilateral is a Reactangle')\n",
    "    elif angle1 == angle3 and angle2 == angle4 and side1 == sdie2 == side3 == side4:\n",
    "        return('The Quadrilateral is a Rhombus')\n",
    "    elif angle1 == angle3 and angle2 == angle4 and side1 == sdie3 and side3 == side4:\n",
    "        return('The Quadrilateral is a Parallelogram')\n",
    "\n",
    "angle1 = int(input('Enter the angle1'))\n",
    "angle2 = int(input('Enter the angle2'))\n",
    "angle3 = int(input('Enter the angle3'))\n",
    "angle4 = int(input('Enter the angle4'))\n",
    "\n",
    "side1 = int(input('Enter the side1'))\n",
    "side2 = int(input('Enter the side2'))\n",
    "side3 = int(input('Enter the side3'))\n",
    "side4 = int(input('Enter the side4'))\n",
    "\n",
    "check_quadrilateral(angle1, angle2, angle3, angle4, side1, side2, side3, side4)\n"
   ]
  },
  {
   "cell_type": "code",
   "execution_count": 26,
   "id": "963408c7-5c06-4168-a152-f0d840c217ef",
   "metadata": {},
   "outputs": [
    {
     "name": "stdin",
     "output_type": "stream",
     "text": [
      "enter the month to check the season january\n"
     ]
    },
    {
     "data": {
      "text/plain": [
       "'Invalid month'"
      ]
     },
     "execution_count": 26,
     "metadata": {},
     "output_type": "execute_result"
    }
   ],
   "source": [
    "'''29. Write a Python script to determine the season based on a user-provided month using elif statements.'''\n",
    "\n",
    "def check_season(month):\n",
    "    \n",
    "    summer = ['March', 'April', 'May', 'June']\n",
    "    monsoon = ['July', 'August', 'September']\n",
    "    winter = ['October', 'November', 'December', 'January', 'February']\n",
    "\n",
    "    if month in summer:\n",
    "        return 'The season is Summer'\n",
    "    elif month in monsoon:\n",
    "        return 'The season is Monsoon'\n",
    "    elif month in winter:\n",
    "        return 'The season is Winter'\n",
    "    else:\n",
    "        return 'Invalid month'\n",
    "    \n",
    "month = input(\"enter the month to check the season\")\n",
    "\n",
    "check_season(month)"
   ]
  },
  {
   "cell_type": "code",
   "execution_count": 3,
   "id": "e267d3c6-1f07-4e31-9686-b03393be8682",
   "metadata": {},
   "outputs": [
    {
     "name": "stdin",
     "output_type": "stream",
     "text": [
      "enter the year to check the leap or common 2024\n",
      "enter the month to check for days 30 or 31 januarY\n"
     ]
    },
    {
     "name": "stdout",
     "output_type": "stream",
     "text": [
      "Year is a leap year\n",
      "The days in the january is 31\n"
     ]
    }
   ],
   "source": [
    "'''30. Implement a program to determine the type of a year (leap or common) and month (30 or 31 days) using elif statements.'''\n",
    "\n",
    "year = int(input('enter the year to check the leap or common'))\n",
    "month_cap = input('enter the month to check for days 30 or 31')\n",
    "\n",
    "month = month_cap.lower()\n",
    "\n",
    "even = ['january', 'march', 'may', 'july', 'august', 'october', 'december']\n",
    "odd = ['april', 'june', 'september', 'november']\n",
    "exception = ['february']\n",
    "\n",
    "\n",
    "\n",
    "if year % 4 == 0 and year % 100 != 0:\n",
    "    print('Year is a leap year')\n",
    "else:\n",
    "    print('Year is a comman year')\n",
    "    \n",
    "if month in even:\n",
    "    print(f'The days in the {month_cap} is 31')\n",
    "elif month in odd:\n",
    "    print(f'The days in the {month_cap} is 30')\n",
    "elif month in exception:\n",
    "    print(f'The days in the {month_cap} is 28')\n",
    "else:\n",
    "    print('The month is invalid')\n",
    "    "
   ]
  },
  {
   "cell_type": "code",
   "execution_count": 4,
   "id": "aa3a947f-7703-4d23-9c6a-2011c3ba523c",
   "metadata": {},
   "outputs": [
    {
     "data": {
      "text/plain": [
       "'Basic Level:'"
      ]
     },
     "execution_count": 4,
     "metadata": {},
     "output_type": "execute_result"
    }
   ],
   "source": [
    "#'''Basic Level:'''"
   ]
  },
  {
   "cell_type": "code",
   "execution_count": null,
   "id": "cebd5886-41da-4951-8206-31e1a4391833",
   "metadata": {},
   "outputs": [],
   "source": [
    "'''1. Write a Python program that checks if a given number is positive, negative, or zero.'''\n",
    "number = int(input('Enter the number'))\n",
    "\n",
    "if number < 0:\n",
    "    print(f'{number} is negative')\n",
    "elif number == 0:\n",
    "    print(f'{number} is zero')\n",
    "else:\n",
    "    print(f'{number} is positive')"
   ]
  },
  {
   "cell_type": "code",
   "execution_count": 6,
   "id": "2ec96409-cfa5-44e2-9342-e4da86276096",
   "metadata": {},
   "outputs": [
    {
     "name": "stdin",
     "output_type": "stream",
     "text": [
      "enter the age 18\n"
     ]
    },
    {
     "name": "stdout",
     "output_type": "stream",
     "text": [
      "Person can vote\n"
     ]
    }
   ],
   "source": [
    "'''2. Create a program to determine if a person is eligible to vote based on their age.'''\n",
    "\n",
    "person_age = int(input('enter the age'))\n",
    "\n",
    "if person_age >= 18:\n",
    "    print('Person can vote.')  \n",
    "else:\n",
    "    print('Person is underage.')"
   ]
  },
  {
   "cell_type": "code",
   "execution_count": null,
   "id": "2ddde6de-ab3d-4237-bfa0-e3680d82ffdc",
   "metadata": {},
   "outputs": [],
   "source": [
    "'''3. Write a program to find the maximum of two given numbers using conditional statements.'''\n",
    "\n",
    "num1 = int(input('Enter the first number'))\n",
    "num2 = int(input('Enter the second number'))\n",
    "\n",
    "if num1 < num2:\n",
    "    print(f'maximum of {num1} and {num2} is {num2}')\n",
    "else:\n",
    "    print(f'maximum of {num1} and {num2} is {num1}')\n"
   ]
  },
  {
   "cell_type": "code",
   "execution_count": 7,
   "id": "69371b91-baea-47d7-bd71-6291aa2a66aa",
   "metadata": {},
   "outputs": [
    {
     "data": {
      "text/plain": [
       "' For score 60 the grade shall be D'"
      ]
     },
     "execution_count": 7,
     "metadata": {},
     "output_type": "execute_result"
    }
   ],
   "source": [
    "'''4. Develop a program that calculates the grade of a student based on their exam score.'''\n",
    "\n",
    "def grade_calc(score):\n",
    "    \n",
    "    if score >= 90:\n",
    "        return(f' For score {score} the grade shall be A')\n",
    "    elif score>=80:\n",
    "        return(f' For score {Score} the grade shall be B')\n",
    "    elif score>=70:\n",
    "        return(f' For score {score} the grade shall be C')\n",
    "    elif score>=60:\n",
    "        return(f' For score {score} the grade shall be D')    \n",
    "    else:\n",
    "        return (f' For score {score} the grade shall be F')\n",
    "\n",
    "grade_calc(60)"
   ]
  },
  {
   "cell_type": "code",
   "execution_count": null,
   "id": "bea7538e-e660-4788-b895-62d135d1131e",
   "metadata": {},
   "outputs": [],
   "source": [
    "'''5. Create a program that checks if a year is a leap year or not.'''\n",
    "\n",
    "year = 2024\n",
    "\n",
    "if year % 4 == 0 and year % 100 != 0:\n",
    "    print(f\"{year} is a leap year\")\n",
    "else:\n",
    "    print(f\"{year} is not a leap year\")"
   ]
  },
  {
   "cell_type": "code",
   "execution_count": null,
   "id": "2fd89fa7-b08b-472d-b4f1-5f926cc4d3b5",
   "metadata": {},
   "outputs": [],
   "source": [
    "'''6. Write a program to classify a triangle based on its sides' lengths.'''\n",
    "\n",
    "side1 = int(input('Enter the length of side1'))\n",
    "side2 = int(input('Enter the length of side2'))\n",
    "side3 = int(input('Enter the length of side3'))\n",
    "\n",
    "if side1 == side2 == side3:\n",
    "    print('The Triangle is Equilateral')\n",
    "elif side1 == side2 or side2 == side3 or side1 == side3 :\n",
    "    print('The Triangle is Isosceles')\n",
    "else:\n",
    "    print('The Triangle is Scalene')"
   ]
  },
  {
   "cell_type": "code",
   "execution_count": 11,
   "id": "adc0e352-69e6-466b-8ca9-23211f6eb0a2",
   "metadata": {},
   "outputs": [
    {
     "name": "stdin",
     "output_type": "stream",
     "text": [
      "Enter the number 10\n",
      "Enter the number 20\n",
      "Enter the number 30\n"
     ]
    },
    {
     "name": "stdout",
     "output_type": "stream",
     "text": [
      "Third number is largest\n"
     ]
    }
   ],
   "source": [
    "'''7. Build a program that determines the largest of three given numbers.'''\n",
    "\n",
    "a,b,c = int(input('Enter the number')), int(input('Enter the number')), int(input('Enter the number'))\n",
    "\n",
    "if a > b and a > c:\n",
    "    print('First number is largest')\n",
    "elif b > a and b > c :\n",
    "    print('Second number is largest')\n",
    "else:\n",
    "    print('Third number is largest')\n"
   ]
  },
  {
   "cell_type": "code",
   "execution_count": 12,
   "id": "a2412b1a-b441-4e56-a6ed-e6186006a333",
   "metadata": {},
   "outputs": [
    {
     "name": "stdin",
     "output_type": "stream",
     "text": [
      "enter the character h\n"
     ]
    },
    {
     "name": "stdout",
     "output_type": "stream",
     "text": [
      "h is consonant\n"
     ]
    }
   ],
   "source": [
    "'''8. Develop a program that checks whether a character is a vowel or a consonant.'''\n",
    "\n",
    "character = input('enter the character')\n",
    "vowel = 'aeiou'\n",
    "\n",
    "vowel1 = vowel.lower()\n",
    "\n",
    "if character in vowel:\n",
    "    print(f'{character} is vowel')\n",
    "else:\n",
    "    print(f'{character} is consonant')\n",
    "\n"
   ]
  },
  {
   "cell_type": "code",
   "execution_count": 13,
   "id": "b89cec7b-f071-4fa6-bf7f-91146663d51d",
   "metadata": {},
   "outputs": [
    {
     "name": "stdin",
     "output_type": "stream",
     "text": [
      "Enter the price: 1200\n"
     ]
    },
    {
     "name": "stdout",
     "output_type": "stream",
     "text": [
      "The total cost of shopping card is Rs.1200 and after discout is Rs 1080.0\n"
     ]
    }
   ],
   "source": [
    "'''9. Create a program to calculate the total cost of a shopping cart based on discounts.'''\n",
    "\n",
    "def check_discount(total_price):\n",
    "    \n",
    "    if total_price >= 1200: \n",
    "        discount = 0.1 #10% discount for purchase above 1200.\n",
    "    elif total_price < 1200 and total_price > 800:\n",
    "        discount = 0.05 #10% discount for purchase above 800.\n",
    "    else:\n",
    "        discount = 0.0 # 0% discount for purchase below 800.\n",
    "        \n",
    "    final_discount = total_price - (total_price * discount)\n",
    "    \n",
    "    print(f'The total cost of shopping card is Rs.{total_price} and after discout the payment amount is Rs', final_discount)\n",
    "        \n",
    "    \n",
    "total_price = int(input('Enter the price:'))\n",
    "\n",
    "check_discount(total_price)"
   ]
  },
  {
   "cell_type": "code",
   "execution_count": 16,
   "id": "8b322411-7f5c-4afc-bffc-eb1a4b83e8aa",
   "metadata": {},
   "outputs": [
    {
     "name": "stdin",
     "output_type": "stream",
     "text": [
      "Enter the number to check 20\n"
     ]
    },
    {
     "name": "stdout",
     "output_type": "stream",
     "text": [
      "The number is even\n"
     ]
    }
   ],
   "source": [
    "'''10. Write a program that checks if a given number is even or odd.'''\n",
    "\n",
    "num  = int(input('Enter the number to check'))\n",
    "\n",
    "if num % 2 != 0:\n",
    "    print('The number is odd')\n",
    "else:\n",
    "    print('The number is even')"
   ]
  },
  {
   "cell_type": "code",
   "execution_count": null,
   "id": "ccba25b7-0d43-4d0a-ba1a-87892d38753e",
   "metadata": {},
   "outputs": [],
   "source": [
    "#'''Intermediate Level:"
   ]
  },
  {
   "cell_type": "code",
   "execution_count": null,
   "id": "277190ed-df7a-4126-a764-f2676ec21d49",
   "metadata": {},
   "outputs": [],
   "source": [
    "'''11. Write a program that calculates the roots of a quadratic equation .'''\n",
    "\n",
    "a = float(input('Enter the coefficient a: '))\n",
    "b = float(input('Enter the coefficient b: '))\n",
    "c = float(input('Enter the coefficient c: '))\n",
    "\n",
    "discriminant = b**b -4*a*c\n",
    "if discriminant > 0:\n",
    "    root1 = (-b + discriminant**0.5) / (2*a)\n",
    "    root2 = (-b - discriminant**0.5) / (2*a)\n",
    "    print(\"Roots of the quadratic equation:\", root1, root2)\n",
    "elif discriminant == 0:\n",
    "    root1 = -b/ (2*a)\n",
    "    print(\"Roots of the quadratic equation:\", root1, root1)\n",
    "else:\n",
    "    real_part = -b / (2*a)\n",
    "    imaginary_part = cmath.sqrt(abs(discriminant**0.5)) / (2*a)\n",
    "    root1 = complex(real_part, imaginary_part)\n",
    "    root2 = complex(real_part, -imaginary_part)\n",
    "    print(\"Roots of the quadratic equation:\", root1, root2)"
   ]
  },
  {
   "cell_type": "code",
   "execution_count": 17,
   "id": "898d4ad8-b242-4b7c-a1d6-d45880ae2583",
   "metadata": {},
   "outputs": [
    {
     "name": "stdin",
     "output_type": "stream",
     "text": [
      "Enter the number to check the week day 2\n"
     ]
    },
    {
     "name": "stdout",
     "output_type": "stream",
     "text": [
      " The day for input number 2 is Tuesday\n"
     ]
    }
   ],
   "source": [
    "'''12. Create a program that determines the day of the week based on the day number (1-7).'''\n",
    "\n",
    "provide_num = int(input('Enter the number to check the week day'))\n",
    "\n",
    "if provide_num == 1:\n",
    "    print(f' The day for input number {provide_num} is Monday')\n",
    "elif provide_num == 2:\n",
    "    print(f' The day for input number {provide_num} is Tuesday')\n",
    "elif provide_num == 3:\n",
    "    print(f' The day for input number {provide_num} is Wednesday')\n",
    "elif provide_num == 4:\n",
    "    print(f' The day for input number {provide_num} is Thursday')\n",
    "elif provide_num == 5:\n",
    "    print(f' The day for input number {provide_num} is Friday')\n",
    "elif provide_num == 6:\n",
    "    print(f' The day for input number {provide_num} is Saturday')\n",
    "elif provide_num == 7:\n",
    "    print(f' The day for input number {provide_num} is Sunday')\n",
    "else:\n",
    "    print('The index is out of range')"
   ]
  },
  {
   "cell_type": "code",
   "execution_count": 18,
   "id": "d97d747b-0059-4eec-8daa-713893ff0ac9",
   "metadata": {},
   "outputs": [
    {
     "name": "stdout",
     "output_type": "stream",
     "text": [
      "The factorial of 5 is: 120\n"
     ]
    }
   ],
   "source": [
    "'''13. Develop a program that calculates the factorial of a given number using recursion.'''\n",
    "\n",
    "def factorial(n):\n",
    "    if n == 0:\n",
    "        return 1\n",
    "    else:\n",
    "        return n * factorial(n - 1)\n",
    "\n",
    "number = 5\n",
    "result = factorial(number)\n",
    "print(f\"The factorial of {number} is: {result}\")\n"
   ]
  },
  {
   "cell_type": "code",
   "execution_count": null,
   "id": "202f8023-7128-4aef-afe8-2cdf5a9894b9",
   "metadata": {},
   "outputs": [],
   "source": [
    "'''14. Write a program to find the largest among three numbers without using the `max()` function.'''\n",
    "\n",
    "a,b,c = int(input('Enter the number')), int(input('Enter the number')), int(input('Enter the number'))\n",
    "\n",
    "if a > b and a > c:\n",
    "    print('First number is largest')\n",
    "elif b > a and b > c :\n",
    "    print('Second number is largest')\n",
    "else:\n",
    "    print('Third number is largest')"
   ]
  },
  {
   "cell_type": "code",
   "execution_count": 5,
   "id": "82f04806-77bb-407b-a7c5-9e3f7f10463a",
   "metadata": {},
   "outputs": [
    {
     "name": "stdout",
     "output_type": "stream",
     "text": [
      "Welcome to the ATM!\n",
      "1. Check Balance\n",
      "2. Deposit\n",
      "3. Withdraw\n",
      "4. Quit\n"
     ]
    },
    {
     "name": "stdin",
     "output_type": "stream",
     "text": [
      "Enter your choice (1-4):  1\n"
     ]
    },
    {
     "name": "stdout",
     "output_type": "stream",
     "text": [
      "Your current balance is $1000.00\n",
      "Welcome to the ATM!\n",
      "1. Check Balance\n",
      "2. Deposit\n",
      "3. Withdraw\n",
      "4. Quit\n"
     ]
    },
    {
     "name": "stdin",
     "output_type": "stream",
     "text": [
      "Enter your choice (1-4):  4\n"
     ]
    }
   ],
   "source": [
    "'''15. Create a program that simulates a basic ATM transaction menu.'''\n",
    "\n",
    "def display_menu():\n",
    "    print(\"Welcome to the ATM!\")\n",
    "    print(\"1. Check Balance\")\n",
    "    print(\"2. Deposit\")\n",
    "    print(\"3. Withdraw\")\n",
    "    print(\"4. Quit\")\n",
    "\n",
    "def check_balance(balance):\n",
    "    print(f\"Your current balance is ${balance:.2f}\")\n",
    "\n",
    "def deposit(balance):\n",
    "    amount = float(input(\"Enter the amount to deposit: $\"))\n",
    "    balance += amount\n",
    "    print(f\"Deposit of ${amount:.2f} successful.\")\n",
    "    return balance\n",
    "\n",
    "def withdraw(balance):\n",
    "    amount = float(input(\"Enter the amount to withdraw: $\"))\n",
    "    if amount > balance:\n",
    "        print(\"Insufficient funds.\")\n",
    "    else:\n",
    "        balance -= amount\n",
    "        print(f\"Withdrawal of ${amount:.2f} successful.\")\n",
    "    return balance\n",
    "\n",
    "# Example usage:\n",
    "def main():\n",
    "    balance = 1000.00  # Starting balance\n",
    "    while True:\n",
    "        display_menu()\n",
    "        choice = input(\"Enter your choice (1-4): \")\n",
    "        if choice == '1':\n",
    "            check_balance(balance)\n",
    "        elif choice == '2':\n",
    "            balance = deposit(balance)\n",
    "        elif choice == '3':\n",
    "            balance = withdraw(balance)\n",
    "        elif choice == '4':\n",
    "            break\n",
    "        else:\n",
    "            print(\"Invalid choice. Please enter a number from 1 to 4.\")\n",
    "\n",
    "if __name__ == \"__main__\":\n",
    "    main()\n",
    "\n",
    "\n"
   ]
  },
  {
   "cell_type": "code",
   "execution_count": 3,
   "id": "ac3704db-45e2-4f2c-a82a-ba55480d70ac",
   "metadata": {},
   "outputs": [
    {
     "name": "stdout",
     "output_type": "stream",
     "text": [
      "Welcome to the ATM!\n",
      "1. Check Balance\n",
      "2. Deposot\n",
      "3. Withdraw\n",
      "4. Quit\n"
     ]
    },
    {
     "name": "stdin",
     "output_type": "stream",
     "text": [
      "Enter your choice (1-4) 1\n"
     ]
    },
    {
     "name": "stdout",
     "output_type": "stream",
     "text": [
      "Your current balance is 1000.00\n",
      "Welcome to the ATM!\n",
      "1. Check Balance\n",
      "2. Deposot\n",
      "3. Withdraw\n",
      "4. Quit\n"
     ]
    },
    {
     "name": "stdin",
     "output_type": "stream",
     "text": [
      "Enter your choice (1-4) 2\n",
      "Enter the amount to deposit 1000\n"
     ]
    },
    {
     "name": "stdout",
     "output_type": "stream",
     "text": [
      "Balance after deposit is 2000.00\n",
      "Welcome to the ATM!\n",
      "1. Check Balance\n",
      "2. Deposot\n",
      "3. Withdraw\n",
      "4. Quit\n"
     ]
    },
    {
     "name": "stdin",
     "output_type": "stream",
     "text": [
      "Enter your choice (1-4) 3\n",
      "Enter the amount to withdraw: $ 500\n"
     ]
    },
    {
     "name": "stdout",
     "output_type": "stream",
     "text": [
      "Withdrawal of 500.00 successful.\n",
      "Welcome to the ATM!\n",
      "1. Check Balance\n",
      "2. Deposot\n",
      "3. Withdraw\n",
      "4. Quit\n"
     ]
    },
    {
     "name": "stdin",
     "output_type": "stream",
     "text": [
      "Enter your choice (1-4) 1\n"
     ]
    },
    {
     "name": "stdout",
     "output_type": "stream",
     "text": [
      "Your current balance is 1500.00\n",
      "Welcome to the ATM!\n",
      "1. Check Balance\n",
      "2. Deposot\n",
      "3. Withdraw\n",
      "4. Quit\n"
     ]
    },
    {
     "name": "stdin",
     "output_type": "stream",
     "text": [
      "Enter your choice (1-4) 4\n"
     ]
    }
   ],
   "source": [
    "def display_menu():\n",
    "    print('Welcome to the ATM!')\n",
    "    print('1. Check Balance')\n",
    "    print('2. Deposot')\n",
    "    print('3. Withdraw')\n",
    "    print('4. Quit')\n",
    "\n",
    "def check_balance(balance):\n",
    "    print(f'Your current balance is {balance:.2f}')\n",
    "\n",
    "def deposit(balance):\n",
    "    amount = float(input('Enter the amount to deposit'))\n",
    "    balance += amount\n",
    "    print(f'Balance after deposit is {balance:.2f}')\n",
    "    return balance\n",
    "                   \n",
    "def withdraw(balance):\n",
    "    amount = float(input(\"Enter the amount to withdraw: $\"))\n",
    "    if amount > balance:\n",
    "        print(\"Insufficient funds.\")\n",
    "    else:\n",
    "        balance -= amount\n",
    "        print(f\"Withdrawal of {amount:.2f} successful.\")\n",
    "    return balance\n",
    "\n",
    "\n",
    "#Driver code\n",
    "\n",
    "def main():\n",
    "    balance = 1000 #Starting balance\n",
    "    \n",
    "    while True:\n",
    "        display_menu()\n",
    "        choice = input('Enter your choice (1-4)')\n",
    "        \n",
    "        if choice == '1':\n",
    "            check_balance(balance)\n",
    "        elif choice == '2':\n",
    "            balance = deposit(balance)\n",
    "        elif choice == '3':\n",
    "            balance = withdraw(balance)\n",
    "        elif choice == '4':\n",
    "            break\n",
    "        else:\n",
    "            print('Invalid choice. Please enter a number from 1 to 4.')\n",
    "            \n",
    "if __name__ == \"__main__\":\n",
    "    main()\n",
    "        "
   ]
  },
  {
   "cell_type": "code",
   "execution_count": 3,
   "id": "0eca5657-2223-4473-bb68-f43d5cfd0a3d",
   "metadata": {},
   "outputs": [
    {
     "name": "stdin",
     "output_type": "stream",
     "text": [
      "enter the string to check sAs\n"
     ]
    },
    {
     "name": "stdout",
     "output_type": "stream",
     "text": [
      "The string is a palindrome\n"
     ]
    }
   ],
   "source": [
    "'''16. Build a program that checks if a given string is a palindrome or not.'''\n",
    "\n",
    "string1 = input('enter the string to check')\n",
    "string2 = string1.lower()\n",
    "\n",
    "string3 = string2[::-1]\n",
    "\n",
    "if string2 == string3:\n",
    "    print('The string is a palindrome')\n",
    "else:\n",
    "    print('The string is not a palindrome')\n"
   ]
  },
  {
   "cell_type": "code",
   "execution_count": 14,
   "id": "04855113-4b19-49d9-912f-f86df80172f9",
   "metadata": {},
   "outputs": [
    {
     "name": "stdout",
     "output_type": "stream",
     "text": [
      "The average of [1, 2, 3, 4, 6, 8, 10, 50, 60] after excluding smallest and largest values is  41.5\n"
     ]
    }
   ],
   "source": [
    "'''17. Write a program that calculates the average of a list of numbers, excluding the smallest and largest values.'''\n",
    "\n",
    "list_num = [1,2,3,4,6,8,10,50,60]\n",
    "\n",
    "list_num.sort()\n",
    "\n",
    "average = sum(list_num[1:-1]) /2\n",
    "\n",
    "print(f'The average of {list_num} after excluding smallest and largest values is ', average)"
   ]
  },
  {
   "cell_type": "code",
   "execution_count": 15,
   "id": "e51fd70c-67fa-4e48-b2bd-7a05142226c9",
   "metadata": {},
   "outputs": [
    {
     "name": "stdin",
     "output_type": "stream",
     "text": [
      "Enter the temperature in Celsius 20\n"
     ]
    },
    {
     "data": {
      "text/plain": [
       "('Tempreture in Fahrenheit is', 68.0)"
      ]
     },
     "execution_count": 15,
     "metadata": {},
     "output_type": "execute_result"
    }
   ],
   "source": [
    "'''18. Develop a program that converts a given temperature from Celsius to Fahrenheit.'''\n",
    "\n",
    "def celc_to_farehite(temp):\n",
    "    \n",
    "    F = ((9/5) * temp) + 32\n",
    "    \n",
    "    return \"Tempreture in Fahrenheit is\",F\n",
    "\n",
    "temp = int(input('Enter the temperature in Celsius'))\n",
    "\n",
    "celc_to_farehite(temp)\n"
   ]
  },
  {
   "cell_type": "code",
   "execution_count": 48,
   "id": "dce0712c-8b5d-4cfd-b268-dbabfece7af5",
   "metadata": {},
   "outputs": [
    {
     "name": "stdout",
     "output_type": "stream",
     "text": [
      "This is a Simple calculator for Addition, Substraction, Multiplication, and Division\n",
      "1. Enter 1 for addition\n",
      "2. Enter 2 for substraction\n",
      "3. Enter 3 for multiplication\n",
      "4. Enter 4 for division\n",
      "5. Enter 5 for quit\n"
     ]
    },
    {
     "name": "stdin",
     "output_type": "stream",
     "text": [
      "Enter the choice (1-5) to perform the operation 1\n",
      "Enter the number1 10\n",
      "Enter the number2 20\n"
     ]
    },
    {
     "name": "stdout",
     "output_type": "stream",
     "text": [
      " The addition of 10 and 20 is: 30\n",
      "This is a Simple calculator for Addition, Substraction, Multiplication, and Division\n",
      "1. Enter 1 for addition\n",
      "2. Enter 2 for substraction\n",
      "3. Enter 3 for multiplication\n",
      "4. Enter 4 for division\n",
      "5. Enter 5 for quit\n"
     ]
    },
    {
     "name": "stdin",
     "output_type": "stream",
     "text": [
      "Enter the choice (1-5) to perform the operation 5\n"
     ]
    }
   ],
   "source": [
    "'''19. Create a program that simulates a basic calculator for addition, subtraction, multiplication, and division.'''\n",
    "\n",
    "def calculator():\n",
    "    print('This is a Simple calculator for Addition, Substraction, Multiplication, and Division')\n",
    "    print('1. Enter 1 for addition')\n",
    "    print('2. Enter 2 for substraction')\n",
    "    print('3. Enter 3 for multiplication')\n",
    "    print('4. Enter 4 for division')\n",
    "    print('5. Enter 5 for quit')\n",
    "    \n",
    "def addition(num1, num2):\n",
    "\n",
    "    add = num1 + num2\n",
    "    print(f' The addition of {num1} and {num2} is:', add)\n",
    "\n",
    "def substraction(num1, num2):\n",
    "    \n",
    "    sub = num1 - num2\n",
    "    print(f' The substraction of {num1} and {num2} is:', sub)\n",
    "\n",
    "def multiplication(num1, num2):\n",
    "    \n",
    "    multi = num1 * num2\n",
    "    print(f' The multiplication of {num1} and {num2} is:', multi)    \n",
    "\n",
    "def division(num1, num2):\n",
    "    \n",
    "    div = num1 / num2\n",
    "    print(f' The division of {num1} and {num2} is:', div)      \n",
    "    \n",
    "\n",
    "    \n",
    "    \n",
    "def main():\n",
    "    \n",
    "\n",
    "    while True:\n",
    "        calculator()\n",
    " \n",
    "        choice = input('Enter the choice (1-5) to perform the operation')\n",
    "        \n",
    "        if choice == \"1\":\n",
    "            num1, num2 = int(input('Enter the number1')), int(input('Enter the number2'))\n",
    "            addition(num1, num2)\n",
    "        elif choice == \"2\":\n",
    "            num1, num2 = int(input('Enter the number1')), int(input('Enter the number2'))\n",
    "            substraction(num1, num2)  \n",
    "        elif choice == \"3\":\n",
    "            num1, num2 = int(input('Enter the number1')), int(input('Enter the number2'))\n",
    "            multiplication(num1, num2)  \n",
    "        elif choice == \"4\":\n",
    "            num1, num2 = int(input('Enter the number1')), int(input('Enter the number2'))\n",
    "            division(num1, num2)         \n",
    "        elif choice == \"5\":\n",
    "            break\n",
    "    \n",
    "\n",
    "if __name__  == '__main__':\n",
    "    main()\n",
    "            \n"
   ]
  },
  {
   "cell_type": "code",
   "execution_count": 50,
   "id": "532a5cf6-2edb-4aac-bb81-4bb30275626f",
   "metadata": {},
   "outputs": [
    {
     "name": "stdout",
     "output_type": "stream",
     "text": [
      "Roots: (0j, (4+1.7320508075688772j), (4-1.7320508075688772j))\n"
     ]
    }
   ],
   "source": [
    "'''20. Write a program that determines the roots of a cubic equation using the Cardano formula.'''\n",
    "\n",
    "import cmath\n",
    "\n",
    "def solve_cubic(a, b, c, d):\n",
    "    # Compute the discriminant and the reduced discriminant\n",
    "    delta = 18*a*b*c*d - 4*b**3*d + b**2*c**2 - 4*a*c**3 - 27*a**2*d**2\n",
    "    delta_0 = b**2 - 3*a*c\n",
    "\n",
    "    if delta > 0:\n",
    "        # Case 1: Delta > 0 (one real root, two complex roots)\n",
    "        C = (delta + cmath.sqrt(delta)) / 2\n",
    "        D = (delta - cmath.sqrt(delta)) / 2\n",
    "\n",
    "        # Real root\n",
    "        x1 = (-b / (3*a)) - (C + D) / (2*a)\n",
    "\n",
    "        # Complex roots\n",
    "        x2 = (-b / (3*a)) + ((C + D) + cmath.sqrt(3)*(C - D)*1j) / (2*a)\n",
    "        x3 = (-b / (3*a)) + ((C + D) - cmath.sqrt(3)*(C - D)*1j) / (2*a)\n",
    "\n",
    "        return x1, x2, x3\n",
    "\n",
    "    elif delta == 0:\n",
    "        # Case 2: Delta = 0 (all roots are real, at least two are equal)\n",
    "        x1 = -b / (3*a)\n",
    "        x2 = x3 = -c / (3*a)\n",
    "        return x1, x2, x3\n",
    "\n",
    "    else:\n",
    "        # Case 3: Delta < 0 (all roots are real and distinct)\n",
    "        R = cmath.pow(((delta**2 - 4*delta_0**3) + abs(delta)) / 2, 1/3)\n",
    "        \n",
    "        # Real root\n",
    "        x1 = (-b / (3*a)) + (R + delta_0 / R) / (2*a)\n",
    "\n",
    "        # Imaginary parts\n",
    "        imag_part = cmath.sqrt(3) * (R - delta_0 / R) / (4*a)\n",
    "\n",
    "        # Complex roots\n",
    "        x2 = (-b / (3*a)) - (R + delta_0 / R) / (4*a) + imag_part * 1j\n",
    "        x3 = (-b / (3*a)) - (R + delta_0 / R) / (4*a) - imag_part * 1j\n",
    "\n",
    "        return x1, x2, x3\n",
    "\n",
    "# Example usage:\n",
    "a = 1\n",
    "b = -6\n",
    "c = 11\n",
    "d = -6\n",
    "roots = solve_cubic(a, b, c, d)\n",
    "print(\"Roots:\", roots)\n"
   ]
  },
  {
   "cell_type": "code",
   "execution_count": 1,
   "id": "21551ba7-5d66-4b0e-a13e-eeff5e103a9a",
   "metadata": {},
   "outputs": [],
   "source": [
    "#Advanced Level:"
   ]
  },
  {
   "cell_type": "code",
   "execution_count": 5,
   "id": "804cf192-e912-4095-b315-a1e454b3bdd3",
   "metadata": {},
   "outputs": [
    {
     "name": "stdin",
     "output_type": "stream",
     "text": [
      "Enter the total income 1100000\n"
     ]
    },
    {
     "name": "stdout",
     "output_type": "stream",
     "text": [
      "Income tax over the 1100000 shall be: 330000.0\n"
     ]
    }
   ],
   "source": [
    "'''21. Create a program that calculates the income tax based on the user's income and tax brackets.'''\n",
    "\n",
    "income = int(input('Enter the total income'))\n",
    "tax_bracket1 = 500000\n",
    "tax_bracket2 = 1000000\n",
    "\n",
    "if income < tax_bracket1:\n",
    "    income_tax = 0\n",
    "    print(f'Your income {income} is below tax slab')\n",
    "elif income >= tax_bracket1 and income < tax_bracket2:\n",
    "    income_tax = income * 0.20 #20% tax\n",
    "    print(f'Income tax over the {income} shall be:', income_tax)\n",
    "elif income >= tax_bracket2:\n",
    "    income_tax = income * 0.3 #30% tax\n",
    "    print(f'Income tax over the {income} shall be:', income_tax)"
   ]
  },
  {
   "cell_type": "code",
   "execution_count": 6,
   "id": "3425a037-167e-43b4-a744-ac07fa86f8d1",
   "metadata": {},
   "outputs": [
    {
     "name": "stdin",
     "output_type": "stream",
     "text": [
      "Enter your income:  500000\n"
     ]
    },
    {
     "name": "stdout",
     "output_type": "stream",
     "text": [
      "Your income tax is: $ 190000.0\n"
     ]
    }
   ],
   "source": [
    "'''22. Write a program that simulates a rock-paper-scissors game against the computer.'''"
   ]
  },
  {
   "cell_type": "code",
   "execution_count": null,
   "id": "c1baf10c-94f5-49eb-9161-46d0c8722700",
   "metadata": {},
   "outputs": [],
   "source": [
    "def get_user_choice():\n",
    "    while True:\n",
    "        user_choice = input(\"Enter your choice (rock, paper, or scissors): \").lower()\n",
    "        if user_choice in [\"rock\", \"paper\", \"scissors\"]:\n",
    "            return user_choice\n",
    "        else:\n",
    "            print(\"Invalid choice. Please enter rock, paper, or scissors.\")\n",
    "    \n",
    "def get_computer_choice():\n",
    "    return random.choice([\"rock\", 'scissor', 'paper'])\n",
    "\n",
    "def determine_winner(user_choice, computer_choice):\n",
    "    if user_choice == computer_choice:\n",
    "        return 'Game is Tie'\n",
    "    elif (user_choice == 'rock' and computer_choice == 'scissor') or\\\n",
    "    (user_choice == 'scissor' and computer_choice == 'paper') or\\\n",
    "    (user_choice == 'paper' and computer_choice == 'rock'):\n",
    "        return 'You win'\n",
    "    else:\n",
    "        return 'Computer win'\n",
    "    \n",
    "def main():\n",
    "    print(\"Let's play Rock-Paper-Scissors!\")\n",
    "    \n",
    "    while True:\n",
    "        user_choice = get_user_choice()\n",
    "        computer_choice = get_computer_choice()\n",
    "        print('You choose:', user_choice)\n",
    "        print('Computer choose:', computer_choice)\n",
    "        print(determine_winner(user_choice, computer_choice))\n",
    "        \n",
    "        play_again = input('Do you want to play again? enter Yes/no').lower()\n",
    "        if play_again != 'yes':\n",
    "            break\n",
    "            \n",
    "if __name__ == '__main__':\n",
    "    main()"
   ]
  },
  {
   "cell_type": "code",
   "execution_count": 38,
   "id": "a1284a7c-5f9c-4437-abeb-14886d87fccd",
   "metadata": {},
   "outputs": [
    {
     "data": {
      "text/plain": [
       "'`:fFnuf'"
      ]
     },
     "execution_count": 38,
     "metadata": {},
     "output_type": "execute_result"
    }
   ],
   "source": [
    "'''23. Develop a program that generates a random password based on user preferences (length, complexity).'''\n",
    "\n",
    "import random\n",
    "import string\n",
    "\n",
    "def generate_password(length, complexity):\n",
    "    if complexity == \"low\":\n",
    "        chars = string.ascii_letters + string.digits\n",
    "    elif complexity == \"medium\":\n",
    "        chars = string.ascii_letters + string.digits + string.punctuation\n",
    "    elif complexity == \"high\":\n",
    "        chars = string.ascii_letters + string.digits + string.punctuation + string.ascii_uppercase\n",
    "    else:\n",
    "        print(\"Invalid complexity level. Please choose from 'low', 'medium', or 'high'.\")\n",
    "        return None\n",
    "\n",
    "    return ''.join(random.choice(chars) for _ in range(length))\n",
    "\n",
    "length = 7\n",
    "complexity = 'high'\n",
    "\n",
    "generate_password(length, complexity)"
   ]
  },
  {
   "cell_type": "code",
   "execution_count": 41,
   "id": "2b43a8ab-2512-417d-a4da-da317b5a4958",
   "metadata": {},
   "outputs": [
    {
     "name": "stdout",
     "output_type": "stream",
     "text": [
      "Welcome to the Text Adventure Game!\n",
      "You wake up in a mysterious forest. You see a path to the left and a path to the right.\n"
     ]
    },
    {
     "name": "stdin",
     "output_type": "stream",
     "text": [
      "Which path do you choose? (left/right):  left\n"
     ]
    },
    {
     "name": "stdout",
     "output_type": "stream",
     "text": [
      "You chose the path to the left.\n",
      "You encounter a river blocking your path. What do you do?\n"
     ]
    },
    {
     "name": "stdin",
     "output_type": "stream",
     "text": [
      "Do you swim across or look for a bridge? (swim/bridge):  swim\n"
     ]
    },
    {
     "name": "stdout",
     "output_type": "stream",
     "text": [
      "You attempt to swim across the river...\n",
      "But the current is too strong, and you're swept away. Game over!\n"
     ]
    }
   ],
   "source": [
    "'''24. Create a program that implements a simple text-based adventure game with branching scenarios.'''\n",
    "\n",
    "def start_game():\n",
    "    print('Welcome to the Text Adventure Game!')\n",
    "    print('You wakeup in a mysterious forest. You see a path to the left and a path to the right')\n",
    "    \n",
    "    while True:\n",
    "        choice = input(\"Which path do you choose? (left/right)\")\n",
    "        if choice == 'left':\n",
    "            return path_left()\n",
    "        elif choice == 'right':\n",
    "            return path_right()\n",
    "        else:\n",
    "            print('Enter the correct path Laft/Right')\n",
    "\n",
    "def path_left():\n",
    "    print('You have choosed left')\n",
    "    print('You encountered a river blocking your path. what do you do')\n",
    "    \n",
    "    choice = input('Enter the choice between swim across and look for a bridge (swim/bridge)')\n",
    "    \n",
    "    if choice == \"swim\":\n",
    "        return 'The current is too high and you swept away. Game over!'\n",
    "    else:\n",
    "        return 'You found a bridge and your journey will be continue in forest'\n",
    "    \n",
    "def path_right():\n",
    "    print('You have choosed right')\n",
    "    print('You encountered a cave entrance. what do you do')\n",
    "    \n",
    "    choice = input('Enter the choice between either enter the cave or moved away (enter/move)')\n",
    "    \n",
    "    if choice == \"enter\":\n",
    "        return 'Congratulation you are braved enough. You Win!'\n",
    "    else:\n",
    "        return 'Your journey will be continue in forest'    \n",
    "          \n",
    "start_game()\n",
    "\n",
    "\n"
   ]
  },
  {
   "cell_type": "code",
   "execution_count": 50,
   "id": "d956ef09-fcdf-481a-9e25-760e94cbb29d",
   "metadata": {},
   "outputs": [
    {
     "data": {
      "text/plain": [
       "('The solution for x is:', -1.5)"
      ]
     },
     "execution_count": 50,
     "metadata": {},
     "output_type": "execute_result"
    }
   ],
   "source": [
    "'''25. Build a program that solves a linear equation for x, considering different cases.'''\n",
    "\n",
    "def linear_equation(a, b):\n",
    "    \n",
    "    if a == 0:\n",
    "        if b == 0:\n",
    "            return 'Infinite Solution'\n",
    "        else:\n",
    "            return 'No solution'\n",
    "    else:\n",
    "        x = -b / a\n",
    "        return 'The solution for x is:' , x\n",
    "\n",
    "linear_equation(2,3)\n",
    "        "
   ]
  },
  {
   "cell_type": "code",
   "execution_count": null,
   "id": "5f8efa45-0a1c-4c53-bbc7-ec0632864e88",
   "metadata": {},
   "outputs": [],
   "source": [
    "'''26. Write a program that simulates a basic quiz game with multiple-choice questions and scoring.'''\n",
    "\n",
    "def run_quiz(question, options, correct_answer):\n",
    "    print(question)\n",
    "    for i, option in enumerate(options, 1):\n",
    "        print(f'{i}. {option}')\n",
    "        \n",
    "    user_answer = input('Enter your choice (1-{}):'.format(len(options)))\n",
    "    \n",
    "    if user_answer.isdigit() and 1 <= int(user_answer) <= len(options):\n",
    "        user_answer_index = int(user_answer) - 1\n",
    "        if options[user_answer_index] == correct_answer:\n",
    "            print('Correct')\n",
    "        else:\n",
    "            print('Incorrect. The correct answer is:' , correct_answer)\n",
    "    else:\n",
    "        print('Invalid input. Please enter a number between 1 and {}.'.format(len(options)))\n",
    "            \n",
    "#Driver code\n",
    "\n",
    "question = 'What is the capital of India?'\n",
    "options = ['Delhi', 'Kolkata', 'Mumbai', \"Chennai\"]\n",
    "correct_answer = \"Delhi\"\n",
    "\n",
    "run_quiz(question, options, correct_answer)\n"
   ]
  },
  {
   "cell_type": "code",
   "execution_count": 7,
   "id": "7bb815a9-768f-477a-aa65-077a98b17033",
   "metadata": {},
   "outputs": [
    {
     "name": "stdout",
     "output_type": "stream",
     "text": [
      "The number is prime: True\n"
     ]
    }
   ],
   "source": [
    "'''27. Develop a program that determines whether a given year is a prime number or not.'''\n",
    "\n",
    "def is_prime(number):\n",
    "    \n",
    "    if number == 1:\n",
    "        return True\n",
    "    elif number == 2:\n",
    "        return True\n",
    "    else:\n",
    "        for i in range(2, int(number**0.5)+1):\n",
    "            if number % i == 0:\n",
    "                return False\n",
    "            else:\n",
    "                return True\n",
    "#Driver code\n",
    "number = 5\n",
    "\n",
    "print('The number is prime:', is_prime(number))\n",
    "        "
   ]
  },
  {
   "cell_type": "code",
   "execution_count": 13,
   "id": "3425a811-3a3d-4cd5-97d1-fee46d6c03c4",
   "metadata": {},
   "outputs": [
    {
     "name": "stdout",
     "output_type": "stream",
     "text": [
      "The new list is: [20, 30, 40]\n"
     ]
    }
   ],
   "source": [
    "'''28. Create a program that sorts three numbers in ascending order using conditional statements.'''\n",
    "\n",
    "example = [40,20,30]\n",
    "\n",
    "if example[0] < example[1] and example[0] < example[2]:\n",
    "    print('Numbers are already sorted in ascending order')\n",
    "else:\n",
    "    example.sort()\n",
    "    print('The new list is:', example)"
   ]
  },
  {
   "cell_type": "code",
   "execution_count": 35,
   "id": "32d926d6-0174-489a-ba0b-b40046c93660",
   "metadata": {},
   "outputs": [
    {
     "name": "stdout",
     "output_type": "stream",
     "text": [
      "Root fount at x = 0.9999999999999999 after 6 iterations.\n",
      "Root fount at x = 1.0 after 0 iterations.\n",
      "Root fount at x = 2.0 after 0 iterations.\n",
      "Root fount at x = 3.0 after 0 iterations.\n",
      "All roots: [0.9999999999999999, 1.0, 2.0, 3.0]\n"
     ]
    }
   ],
   "source": [
    "'''29. Build a program that determines the roots of a quartic equation using numerical methods.'''\n",
    "#we will impliment Newton Raphson method.\n",
    "\n",
    "def f(x, coeffs):\n",
    "    \"\"\"Evaluate the quartic equation at point x.\"\"\"\n",
    "    return coeffs[0]*x**4 + coeffs[1]*x**3 + coeffs[2]*x**2 + coeffs[3]*x + coeffs[4]\n",
    "\n",
    "def f_prime(x , coeffs):\n",
    "    '''Evaluate the derivative of the quartic equation at point x.'''\n",
    "    return 4*coeffs[0]*x**3 + 3*coeffs[1]*x**2 + 2*coeffs[2]*x + coeffs[3]\n",
    "\n",
    "def newton_raphson(coefficients, x0, tolerance=1e-6, max_iterations=1000):\n",
    "    '''Find the root of the quartic equation using the Newton-Raphson method'''\n",
    "    \n",
    "    x = x0\n",
    "    iterations = 0\n",
    "    \n",
    "    while True:\n",
    "        fx = f(x, coefficients)\n",
    "        f_prime_x = f_prime(x, coefficients)\n",
    "        x_new = x - fx / f_prime_x\n",
    "        if abs(x_new - x) < tolerance:\n",
    "            return x_new, iterations\n",
    "        x = x_new\n",
    "        iterations += 1\n",
    "        if iterations >= max_iterations:\n",
    "            raise ValueError('Root not found within maximum iterations')\n",
    "#Driver code\n",
    "coefficients = [1, -10, 35, -50, 24]\n",
    "initial_guesses = [0, 1, 2, 3]\n",
    "roots = []\n",
    "\n",
    "for guess in initial_guesses:\n",
    "    root, iterations = newton_raphson(coefficients, guess)\n",
    "    roots.append(root)\n",
    "    print(f'Root fount at x = {root} after {iterations} iterations.')\n",
    "    \n",
    "print('All roots:', roots)"
   ]
  },
  {
   "cell_type": "code",
   "execution_count": 51,
   "id": "9e8d6e6f-cebe-4de0-b037-87ddd61da3a7",
   "metadata": {},
   "outputs": [
    {
     "name": "stdin",
     "output_type": "stream",
     "text": [
      "Enter the weight in kg 50\n",
      "Enter the height in meter .5\n"
     ]
    },
    {
     "data": {
      "text/plain": [
       "('The pereson is having obesity',\n",
       " \"The person's weight is too high, you must to meet the doctor.\")"
      ]
     },
     "execution_count": 51,
     "metadata": {},
     "output_type": "execute_result"
    }
   ],
   "source": [
    "'''30. Write a program that calculates the BMI (Body Mass Index) and provides health recommendations based on the user's input.'''\n",
    "\n",
    "def check_bmi(weight, height, health_recommendation):\n",
    "    \n",
    "    bmi = weight/(height**2)\n",
    "    if bmi < 18.5:\n",
    "        return 'The person is underweight', health_recommendation['underweight']\n",
    "    elif bmi > 18.5 and bmi <= 24.9:\n",
    "        return 'The person is having Normal weight', health_recommendation['normalweight']\n",
    "    elif bmi > 24.9 and bmi <= 29.9:\n",
    "        return 'The person is overweight', health_recommendation['overweight']\n",
    "    else:\n",
    "        return 'The pereson is having obesity', health_recommendation['obesity']\n",
    "\n",
    "weight = int(input('Enter the weight in kg'))\n",
    "height = float(input('Enter the height in meter'))\n",
    "health_recommendation = {\"underweight\": \"The person eat good food and do the exercise.\", \\\n",
    "                        \"normalweight\":\"The person is good just maintain your diet and the normal exercise.\" ,\\\n",
    "                        \"overweight\" : \"The person is overweight you have to check your diet and increase the exercise.\", \\\n",
    "                        \"obesity\": \"The person's weight is too high and must consultant with the doctor.\"}\n",
    "\n",
    "\n",
    "check_bmi(weight, height, health_recommendation)\n"
   ]
  },
  {
   "cell_type": "code",
   "execution_count": 53,
   "id": "efb78260-9303-489d-828e-b059ede1aeca",
   "metadata": {},
   "outputs": [],
   "source": [
    "#Challenge Level:"
   ]
  },
  {
   "cell_type": "code",
   "execution_count": 55,
   "id": "833a0ba5-b554-458e-a1b3-f48a8cee1c1a",
   "metadata": {},
   "outputs": [
    {
     "name": "stdin",
     "output_type": "stream",
     "text": [
      "Enter your password:  Hdkjvhds7409*/\n"
     ]
    },
    {
     "name": "stdout",
     "output_type": "stream",
     "text": [
      "Password is valid.\n"
     ]
    }
   ],
   "source": [
    "'''31. Create a program that validates a password based on complexity rules (length, characters, etc.).'''\n",
    "\n",
    "def contains_uppercase(password):\n",
    "    \"\"\"Check if the password contains at least one uppercase letter.\"\"\"\n",
    "    for char in password:\n",
    "        if char.isupper():\n",
    "            return True\n",
    "    return False\n",
    "\n",
    "def contains_lowercase(password):\n",
    "    \"\"\"Check if the password contains at least one lowercase letter.\"\"\"\n",
    "    for char in password:\n",
    "        if char.islower():\n",
    "            return True\n",
    "    return False\n",
    "\n",
    "def contains_digit(password):\n",
    "    \"\"\"Check if the password contains at least one digit.\"\"\"\n",
    "    for char in password:\n",
    "        if char.isdigit():\n",
    "            return True\n",
    "    return False\n",
    "\n",
    "def contains_special_character(password):\n",
    "    \"\"\"Check if the password contains at least one special character.\"\"\"\n",
    "    special_characters = \"!@#$%^&*(),.?\\\":{}|<>\"\n",
    "    for char in password:\n",
    "        if char in special_characters:\n",
    "            return True\n",
    "    return False\n",
    "\n",
    "def validate_password(password):\n",
    "    \"\"\"Validate the password based on complexity rules.\"\"\"\n",
    "    # Check if password length is at least 8 characters\n",
    "    if len(password) < 8:\n",
    "        return False, \"Password must be at least 8 characters long.\"\n",
    "\n",
    "    # Check if password contains at least one uppercase letter\n",
    "    if not contains_uppercase(password):\n",
    "        return False, \"Password must contain at least one uppercase letter.\"\n",
    "\n",
    "    # Check if password contains at least one lowercase letter\n",
    "    if not contains_lowercase(password):\n",
    "        return False, \"Password must contain at least one lowercase letter.\"\n",
    "\n",
    "    # Check if password contains at least one digit\n",
    "    if not contains_digit(password):\n",
    "        return False, \"Password must contain at least one digit.\"\n",
    "\n",
    "    # Check if password contains at least one special character\n",
    "    if not contains_special_character(password):\n",
    "        return False, \"Password must contain at least one special character (!@#$%^&*(),.?\\\":{}|<>).\"\n",
    "\n",
    "    return True, \"Password is valid.\"\n",
    "\n",
    "# Example usage:\n",
    "password = input(\"Enter your password: \")\n",
    "is_valid, message = validate_password(password)\n",
    "print(message)\n"
   ]
  },
  {
   "cell_type": "code",
   "execution_count": null,
   "id": "4f4c305a-7446-41cc-b1a8-d047940adeab",
   "metadata": {},
   "outputs": [
    {
     "name": "stdout",
     "output_type": "stream",
     "text": [
      "Enter the first matrix:\n",
      "Matrix 1:\n"
     ]
    },
    {
     "name": "stdin",
     "output_type": "stream",
     "text": [
      "Enter the number of rows:  2\n",
      "Enter the number of columns:  2\n"
     ]
    },
    {
     "name": "stdout",
     "output_type": "stream",
     "text": [
      "Enter the elements row-wise:\n"
     ]
    },
    {
     "name": "stdin",
     "output_type": "stream",
     "text": [
      "Enter element [1][1]:  20\n",
      "Enter element [1][2]:  20\n",
      "Enter element [2][1]:  20\n",
      "Enter element [2][2]:  20\n"
     ]
    },
    {
     "name": "stdout",
     "output_type": "stream",
     "text": [
      "Enter the second matrix:\n",
      "Matrix 2:\n"
     ]
    },
    {
     "name": "stdin",
     "output_type": "stream",
     "text": [
      "Enter the number of rows:  2\n",
      "Enter the number of columns:  20\n"
     ]
    },
    {
     "name": "stdout",
     "output_type": "stream",
     "text": [
      "Enter the elements row-wise:\n"
     ]
    },
    {
     "name": "stdin",
     "output_type": "stream",
     "text": [
      "Enter element [1][1]:  20\n",
      "Enter element [1][2]:  20\n",
      "Enter element [1][3]:  20\n",
      "Enter element [1][4]:  20\n",
      "Enter element [1][5]:  0202\n",
      "Enter element [1][6]:  20\n"
     ]
    }
   ],
   "source": [
    "'''32. Develop a program that performs matrix addition and subtraction based on user input.'''\n",
    "\n",
    "def input_matrix(prompt):\n",
    "    \"\"\"Input matrix from the user.\"\"\"\n",
    "    matrix = []\n",
    "    print(prompt)\n",
    "    rows = int(input(\"Enter the number of rows: \"))\n",
    "    columns = int(input(\"Enter the number of columns: \"))\n",
    "    print(\"Enter the elements row-wise:\")\n",
    "    for i in range(rows):\n",
    "        row = []\n",
    "        for j in range(columns):\n",
    "            element = float(input(f\"Enter element [{i+1}][{j+1}]: \"))\n",
    "            row.append(element)\n",
    "        matrix.append(row)\n",
    "    return matrix\n",
    "\n",
    "# Input matrices from the user\n",
    "print(\"Enter the first matrix:\")\n",
    "matrix1 = input_matrix(\"Matrix 1:\")\n",
    "print(\"Enter the second matrix:\")\n",
    "matrix2 = input_matrix(\"Matrix 2:\")\n",
    "\n",
    "# Perform matrix addition and subtraction\n",
    "addition_result = [[matrix1[i][j] + matrix2[i][j] for j in range(len(matrix1[0]))] for i in range(len(matrix1))]\n",
    "subtraction_result = [[matrix1[i][j] - matrix2[i][j] for j in range(len(matrix1[0]))] for i in range(len(matrix1))]\n",
    "\n",
    "# Display the results\n",
    "print(\"Matrix Addition:\")\n",
    "for row in addition_result:\n",
    "    print(row)\n",
    "\n",
    "print(\"Matrix Subtraction:\")\n",
    "for row in subtraction_result:\n",
    "    print(row)\n"
   ]
  },
  {
   "cell_type": "code",
   "execution_count": null,
   "id": "adc28476-ca79-41f7-bfce-a56e1f6af699",
   "metadata": {},
   "outputs": [],
   "source": [
    "'''33. Write a program that calculates the greatest common divisor (GCD) of two numbers using the Euclidean algorithm.'''\n",
    "def gcd_euclidean(a, b):\n",
    "\n",
    "    while b != 0:\n",
    "        if a > b:\n",
    "            a = a - b\n",
    "        else:\n",
    "            b = b - a\n",
    "    return a\n",
    "\n",
    "# Input two numbers \n",
    "num1 = int(input(\"Enter the first number: \"))\n",
    "num2 = int(input(\"Enter the second number: \"))\n",
    "\n",
    "# Driver code\n",
    "gcd = gcd_euclidean(num1, num2)\n",
    "print(\"The greatest common divisor (GCD) of\", num1, \"and\", num2, \"is:\", gcd)\n"
   ]
  },
  {
   "cell_type": "code",
   "execution_count": null,
   "id": "6e435ef0-928e-4870-bad9-6ff6d41da6ad",
   "metadata": {},
   "outputs": [],
   "source": [
    "'''34. Build a program that performs matrix multiplication using nested loops and conditional statements.'''\n",
    "def matrix_multiplication(matrix1, matrix2):\n",
    "    \"\"\"Perform matrix multiplication.\"\"\"\n",
    "    result = []\n",
    "    for i in range(len(matrix1)):\n",
    "        row = []\n",
    "        for j in range(len(matrix2[0])):\n",
    "            sum = 0\n",
    "            for k in range(len(matrix2)):\n",
    "                sum += matrix1[i][k] * matrix2[k][j]\n",
    "            row.append(sum)\n",
    "        result.append(row)\n",
    "    return result\n",
    "\n",
    "def input_matrix(prompt):\n",
    "    \"\"\"Input matrix from the user.\"\"\"\n",
    "    matrix = []\n",
    "    print(prompt)\n",
    "    rows = int(input(\"Enter the number of rows: \"))\n",
    "    columns = int(input(\"Enter the number of columns: \"))\n",
    "    print(\"Enter the elements row-wise:\")\n",
    "    for i in range(rows):\n",
    "        row = []\n",
    "        for j in range(columns):\n",
    "            element = float(input(f\"Enter element [{i+1}][{j+1}]: \"))\n",
    "            row.append(element)\n",
    "        matrix.append(row)\n",
    "    return matrix\n",
    "\n",
    "# Input matrices from the user\n",
    "print(\"Enter the first matrix:\")\n",
    "matrix1 = input_matrix(\"Matrix 1:\")\n",
    "print(\"Enter the second matrix:\")\n",
    "matrix2 = input_matrix(\"Matrix 2:\")\n",
    "\n",
    "# Check if matrices can be multiplied (number of columns in matrix1 must match number of rows in matrix2)\n",
    "if len(matrix1[0]) != len(matrix2):\n",
    "    print(\"Matrix multiplication is not possible. Number of columns in Matrix 1 must match number of rows in Matrix 2.\")\n",
    "else:\n",
    "    # Perform matrix multiplication\n",
    "    multiplication_result = matrix_multiplication(matrix1, matrix2)\n",
    "\n",
    "    # Display the result\n",
    "    print(\"Matrix Multiplication:\")\n",
    "    for row in multiplication_result:\n",
    "        print(row)\n"
   ]
  },
  {
   "cell_type": "code",
   "execution_count": null,
   "id": "a9ecde90-045e-4a8b-8563-d57e2f2e5f15",
   "metadata": {},
   "outputs": [],
   "source": [
    "'''35. Create a program that simulates a basic text-based tic-tac-toe game against the computer'''\n",
    "import random\n",
    "\n",
    "def print_board(board):\n",
    "    \"\"\"Print the Tic-Tac-Toe board.\"\"\"\n",
    "    for row in board:\n",
    "        print(\" | \".join(row))\n",
    "        print(\"-\" * 9)\n",
    "\n",
    "def check_winner(board, player):\n",
    "    \"\"\"Check if the player has won.\"\"\"\n",
    "    for row in board:\n",
    "        if all(cell == player for cell in row):\n",
    "            return True\n",
    "    for col in range(3):\n",
    "        if all(board[row][col] == player for row in range(3)):\n",
    "            return True\n",
    "    if all(board[i][i] == player for i in range(3)) or all(board[i][2-i] == player for i in range(3)):\n",
    "        return True\n",
    "    return False\n",
    "\n",
    "def check_draw(board):\n",
    "    \"\"\"Check if the game is a draw.\"\"\"\n",
    "    return all(cell != \" \" for row in board for cell in row)\n",
    "\n",
    "def computer_move(board, computer, player):\n",
    "    \"\"\"Generate the computer's move.\"\"\"\n",
    "    empty_cells = [(i, j) for i in range(3) for j in range(3) if board[i][j] == \" \"]\n",
    "    if empty_cells:\n",
    "        return random.choice(empty_cells)\n",
    "    return None\n",
    "\n",
    "def main():\n",
    "    board = [[\" \" for _ in range(3)] for _ in range(3)]\n",
    "    players = [\"X\", \"O\"]\n",
    "    random.shuffle(players)\n",
    "    player, computer = players\n",
    "    print(f\"You are {player}. Computer is {computer}.\\n\")\n",
    "    while True:\n",
    "        print_board(board)\n",
    "        row, col = map(int, input(\"Enter your move (row and column): \").split())\n",
    "        row -= 1\n",
    "        col -= 1\n",
    "        if board[row][col] != \" \":\n",
    "            print(\"Invalid move. Try again.\")\n",
    "            continue\n",
    "        board[row][col] = player\n",
    "        if check_winner(board, player):\n",
    "            print_board(board)\n",
    "            print(\"Congratulations! You win!\")\n",
    "            break\n",
    "        if check_draw(board):\n",
    "            print_board(board)\n",
    "            print(\"It's a draw!\")\n",
    "            break\n",
    "        print(\"Computer's move:\")\n",
    "        row, col = computer_move(board, computer, player)\n",
    "        if (row, col) is None:\n",
    "            print_board(board)\n",
    "            print(\"It's a draw!\")\n",
    "            break\n",
    "        board[row][col] = computer\n",
    "        if check_winner(board, computer):\n",
    "            print_board(board)\n",
    "            print(\"Computer wins!\")\n",
    "            break\n",
    "\n",
    "if __name__ == \"__main__\":\n",
    "    main()\n"
   ]
  },
  {
   "cell_type": "code",
   "execution_count": null,
   "id": "f5318597-6857-48bf-9742-4e8237215858",
   "metadata": {},
   "outputs": [],
   "source": [
    "'''36. Write a program that generates Fibonacci numbers up to a specified term using iterative methods.'''\n",
    "\n",
    "def generate_fibonacci(n):\n",
    "    \"\"\"Generate Fibonacci numbers up to the nth term using iterative methods.\"\"\"\n",
    "    fibonacci_sequence = [0, 1]  # Start with the first two Fibonacci numbers\n",
    "    for i in range(2, n):\n",
    "        next_fibonacci = fibonacci_sequence[-1] + fibonacci_sequence[-2]\n",
    "        fibonacci_sequence.append(next_fibonacci)\n",
    "    return fibonacci_sequence\n",
    "\n",
    "def main():\n",
    "    n = int(input(\"Enter the number of Fibonacci numbers to generate: \"))\n",
    "    fibonacci_sequence = generate_fibonacci(n)\n",
    "    print(\"Fibonacci sequence up to the\", n, \"th term:\")\n",
    "    print(fibonacci_sequence)\n",
    "\n",
    "if __name__ == \"__main__\":\n",
    "    main()\n"
   ]
  },
  {
   "cell_type": "code",
   "execution_count": null,
   "id": "6150f0bf-1064-4591-8970-e87e603ff8ca",
   "metadata": {},
   "outputs": [],
   "source": [
    "'''37. Develop a program that calculates the nth term of the Fibonacci sequence using memoization'''\n",
    "\n",
    "def generate_fibonacci(n):\n",
    "    \"\"\"Generate Fibonacci numbers up to the nth term using iterative methods.\"\"\"\n",
    "    fibonacci_sequence = [0, 1]  # Start with the first two Fibonacci numbers\n",
    "    for i in range(2, n):\n",
    "        next_fibonacci = fibonacci_sequence[-1] + fibonacci_sequence[-2]\n",
    "        fibonacci_sequence.append(next_fibonacci)\n",
    "    return fibonacci_sequence\n",
    "\n",
    "def main():\n",
    "    n = int(input(\"Enter the number of Fibonacci numbers to generate: \"))\n",
    "    fibonacci_sequence = generate_fibonacci(n)\n",
    "    print(\"Fibonacci sequence up to the\", n, \"th term:\")\n",
    "    print(fibonacci_sequence)\n",
    "\n",
    "if __name__ == \"__main__\":\n",
    "    main()\n"
   ]
  },
  {
   "cell_type": "code",
   "execution_count": null,
   "id": "2b2d94bb-6665-44a0-ab2e-bb89075daab0",
   "metadata": {},
   "outputs": [],
   "source": [
    "'''38. Create a program that generates a calendar for a given month and year using conditional statements.'''\n",
    "\n",
    "def generate_calendar(month, year):\n",
    "    \"\"\"Generate a calendar for a given month and year.\"\"\"\n",
    "    print(f\"{' ' * 20}{month}/{year}\")\n",
    "    print(\"Sun Mon Tue Wed Thu Fri Sat\")\n",
    "    # Determine the number of days in the month\n",
    "    days_in_month = 31 if month in {1, 3, 5, 7, 8, 10, 12} else (30 if month != 2 else (29 if year % 4 == 0 and (year % 100 != 0 or year % 400 == 0) else 28))\n",
    "    # Find the day of the week for the first day of the month\n",
    "    first_day_of_month = (year - 1 + (year - 1) // 4 - (year - 1) // 100 + (year - 1) // 400 + sum([31, 28, 31, 30, 31, 30, 31, 31, 30, 31, 30][:month - 1])) % 7\n",
    "    print(\"    \" * first_day_of_month, end=\"\")\n",
    "    # Print the days of the month\n",
    "    for day in range(1, days_in_month + 1):\n",
    "        print(f\"{day:3}\", end=\" \")\n",
    "        first_day_of_month = (first_day_of_month + 1) % 7\n",
    "        if first_day_of_month == 0:\n",
    "            print()\n",
    "    print(\"\\n\" + \"-\" * 29)\n",
    "\n",
    "def main():\n",
    "    month = int(input(\"Enter the month (1-12): \"))\n",
    "    year = int(input(\"Enter the year: \"))\n",
    "    generate_calendar(month, year)\n",
    "\n",
    "if __name__ == \"__main__\":\n",
    "    main()\n"
   ]
  },
  {
   "cell_type": "code",
   "execution_count": null,
   "id": "e6306105-4bc0-4996-a9bb-ac30149cd5ad",
   "metadata": {},
   "outputs": [],
   "source": [
    "'''39. Build a program that simulates a basic text-based blackjack game against the computer.'''\n",
    "\n",
    "import random\n",
    "\n",
    "def deal_card():\n",
    "    \"\"\"Deal a random card.\"\"\"\n",
    "    cards = [2, 3, 4, 5, 6, 7, 8, 9, 10, 10, 10, 10, 11] * 4\n",
    "    return random.choice(cards)\n",
    "\n",
    "def calculate_score(cards):\n",
    "    \"\"\"Calculate the score of a hand of cards.\"\"\"\n",
    "    score = sum(cards)\n",
    "    if score > 21 and 11 in cards:\n",
    "        cards.remove(11)\n",
    "        cards.append(1)\n",
    "        score = sum(cards)\n",
    "    return score\n",
    "\n",
    "def display_hand(cards):\n",
    "    \"\"\"Display the cards in a hand.\"\"\"\n",
    "    hand = \" \".join(str(card) for card in cards)\n",
    "    return hand\n",
    "\n",
    "def main():\n",
    "    print(\"Welcome to Blackjack!\")\n",
    "    player_cards = [deal_card(), deal_card()]\n",
    "    dealer_cards = [deal_card(), deal_card()]\n",
    "    player_score = calculate_score(player_cards)\n",
    "    dealer_score = calculate_score(dealer_cards)\n",
    "\n",
    "    print(\"Your cards:\", display_hand(player_cards))\n",
    "    print(\"Dealer's card:\", dealer_cards[0])\n",
    "\n",
    "    # Player's turn\n",
    "    while player_score < 21:\n",
    "        action = input(\"Type 'hit' to get another card, or 'stand' to end your turn: \")\n",
    "        if action == \"hit\":\n",
    "            player_cards.append(deal_card())\n",
    "            player_score = calculate_score(player_cards)\n",
    "            print(\"Your cards:\", display_hand(player_cards))\n",
    "        elif action == \"stand\":\n",
    "            break\n",
    "\n",
    "    if player_score > 21:\n",
    "        print(\"You bust! Dealer wins.\")\n",
    "        return\n",
    "\n",
    "    # Dealer's turn\n",
    "    while dealer_score < 17:\n",
    "        dealer_cards.append(deal_card())\n",
    "        dealer_score = calculate_score(dealer_cards)\n",
    "\n",
    "    print(\"Your final hand:\", display_hand(player_cards))\n",
    "    print(\"Dealer's final hand:\", display_hand(dealer_cards))\n",
    "\n",
    "    if dealer_score > 21:\n",
    "        print(\"Dealer busts! You win.\")\n",
    "    elif dealer_score == player_score:\n",
    "        print(\"It's a tie!\")\n",
    "    elif dealer_score > player_score:\n",
    "        print(\"Dealer wins.\")\n",
    "    else:\n",
    "        print(\"You win!\")\n",
    "\n",
    "if __name__ == \"__main__\":\n",
    "    main()\n"
   ]
  },
  {
   "cell_type": "code",
   "execution_count": null,
   "id": "43da4fbf-c5ed-4187-981e-7416e263fd39",
   "metadata": {},
   "outputs": [],
   "source": [
    "'''40. Write a program that generates the prime factors of a given number using trial division.'''\n",
    "\n",
    "def prime_factors(n):\n",
    "    \"\"\"Generate the prime factors of a given number using trial division.\"\"\"\n",
    "    factors = []\n",
    "    divisor = 2\n",
    "    while n > 1:\n",
    "        while n % divisor == 0:\n",
    "            factors.append(divisor)\n",
    "            n //= divisor\n",
    "        divisor += 1\n",
    "    return factors\n",
    "\n",
    "def main():\n",
    "    number = int(input(\"Enter a number to find its prime factors: \"))\n",
    "    if number < 2:\n",
    "        print(\"Prime factors are not defined for numbers less than 2.\")\n",
    "    else:\n",
    "        factors = prime_factors(number)\n",
    "        print(\"Prime factors of\", number, \"are:\", factors)\n",
    "\n",
    "if __name__ == \"__main__\":\n",
    "    main()\n"
   ]
  }
 ],
 "metadata": {
  "kernelspec": {
   "display_name": "Python 3 (ipykernel)",
   "language": "python",
   "name": "python3"
  },
  "language_info": {
   "codemirror_mode": {
    "name": "ipython",
    "version": 3
   },
   "file_extension": ".py",
   "mimetype": "text/x-python",
   "name": "python",
   "nbconvert_exporter": "python",
   "pygments_lexer": "ipython3",
   "version": "3.10.8"
  }
 },
 "nbformat": 4,
 "nbformat_minor": 5
}

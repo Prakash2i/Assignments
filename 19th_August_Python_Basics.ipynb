{
 "cells": [
  {
   "cell_type": "code",
   "execution_count": 1,
   "id": "62ae8777-2edc-4b16-928b-66d9c67e902a",
   "metadata": {},
   "outputs": [
    {
     "data": {
      "text/plain": [
       "' TOPIC: Python Basics Variable '"
      ]
     },
     "execution_count": 1,
     "metadata": {},
     "output_type": "execute_result"
    }
   ],
   "source": [
    "''' TOPIC: Python Basics Variable '''"
   ]
  },
  {
   "cell_type": "code",
   "execution_count": 18,
   "id": "f9b1f367-6287-422d-a929-98266948f387",
   "metadata": {},
   "outputs": [
    {
     "name": "stdout",
     "output_type": "stream",
     "text": [
      "x = 600\n",
      "y = 510\n"
     ]
    }
   ],
   "source": [
    "''' Question-1: Declare two variables, `x` and `y`, and assign them integer values.\n",
    "Swap the values of these variables without using any temporary\n",
    "variable.'''\n",
    "\n",
    "x = 510\n",
    "y = 600\n",
    "\n",
    "x, y = y, x\n",
    "print(\"x =\", x)\n",
    "print(\"y =\", y)"
   ]
  },
  {
   "cell_type": "code",
   "execution_count": 19,
   "id": "8573309a-ea82-4f66-9268-22083b2d99e9",
   "metadata": {},
   "outputs": [
    {
     "name": "stdin",
     "output_type": "stream",
     "text": [
      "enter the length 10\n",
      "enter the width 20\n"
     ]
    },
    {
     "name": "stdout",
     "output_type": "stream",
     "text": [
      "Area of reactange is 200\n"
     ]
    }
   ],
   "source": [
    "'''Question-2: Create a program that calculates the area of a rectangle. Take the\n",
    "length and width as inputs from the user and store them in variables.\n",
    "Calculate and display the area.'''\n",
    "\n",
    "#Take input from user and stroe it in varriables\n",
    "length = input('enter the length')\n",
    "width = input('enter the width')\n",
    "#Calculation of area of reactangle ny converting length & width from sting to integer and using formula 'Area of reactange'\n",
    "Area = int(length) * int(width)\n",
    "print('Area of reactange is ' + str(Area))"
   ]
  },
  {
   "cell_type": "code",
   "execution_count": 22,
   "id": "25fa9596-84b1-4454-9c94-a30e5b113405",
   "metadata": {},
   "outputs": [
    {
     "name": "stdin",
     "output_type": "stream",
     "text": [
      "enter the temp. in celsius 30\n"
     ]
    },
    {
     "name": "stdout",
     "output_type": "stream",
     "text": [
      "Tempreature in Farrenhite is 86.0\n"
     ]
    }
   ],
   "source": [
    "'''Question-3: Write a Python program that converts temperature from Celsius to\n",
    "Fahrenheit. Take the temperature in Celsius as input, store it in a\n",
    "variable, convert it to Fahrenheit, and display the result.'''\n",
    "\n",
    "#Take input from user and store it in varriables with string to integer conversion.\n",
    "C = int(input('enter the temp. in celsius'))\n",
    "#Apply formula for conversion\n",
    "F = (9/5)*C + 32\n",
    "#Print the value in Farrenheit after conversion\n",
    "print('Tempreature in Farrenhite is ' + str(F))\n"
   ]
  },
  {
   "cell_type": "code",
   "execution_count": 23,
   "id": "29e33dda-14df-4eae-92f8-f1519ab9cc5a",
   "metadata": {},
   "outputs": [
    {
     "data": {
      "text/plain": [
       "'TOPIC: String Based Questions'"
      ]
     },
     "execution_count": 23,
     "metadata": {},
     "output_type": "execute_result"
    }
   ],
   "source": [
    "'''TOPIC: String Based Questions'''\n"
   ]
  },
  {
   "cell_type": "code",
   "execution_count": 24,
   "id": "a978e9c4-5bf5-4f4e-9a33-586e898671e9",
   "metadata": {},
   "outputs": [
    {
     "name": "stdin",
     "output_type": "stream",
     "text": [
      "enter the text to count Prakash\n"
     ]
    },
    {
     "name": "stdout",
     "output_type": "stream",
     "text": [
      "The length of Text is 7\n"
     ]
    }
   ],
   "source": [
    "'''Question-1: Write a Python program that takes a string as input and prints the\n",
    "length of the string.'''\n",
    "\n",
    "#Take input from user and stroe it in varriables.\n",
    "Text = input('enter the text to count')\n",
    "#Print the length of text\n",
    "print('The length of Text is ' + str(len(Text)))\n"
   ]
  },
  {
   "cell_type": "code",
   "execution_count": 1,
   "id": "ec2d223e-3088-4c22-bc2d-10e71e098f13",
   "metadata": {},
   "outputs": [
    {
     "name": "stdin",
     "output_type": "stream",
     "text": [
      "enter the text aeiou\n"
     ]
    },
    {
     "name": "stdout",
     "output_type": "stream",
     "text": [
      "In this text total number of a is 1\n",
      "In this text total number of e is 1\n",
      "In this text total number of i is 1\n",
      "In this text total number of o is 1\n",
      "In this text total number of u is 1\n"
     ]
    }
   ],
   "source": [
    "'''Question2: Create a program that takes a sentence from the user and counts the\n",
    "number of vowels (a, e, i, o, u) in the string.'''\n",
    "\n",
    "#Take input from user and stroe it in varriables.\n",
    "Text = input('enter the text')\n",
    "#Print the length of text\n",
    "print('In this text total number of a is ' + str((Text.count('a'))))\n",
    "print('In this text total number of e is ' + str((Text.count('e'))))\n",
    "print('In this text total number of i is ' + str((Text.count('i'))))\n",
    "print('In this text total number of o is ' + str((Text.count('o'))))\n",
    "print('In this text total number of u is ' + str((Text.count('u'))))"
   ]
  },
  {
   "cell_type": "code",
   "execution_count": 14,
   "id": "f8a34af6-7237-44b2-971e-adf36d5b02ee",
   "metadata": {},
   "outputs": [
    {
     "name": "stdin",
     "output_type": "stream",
     "text": [
      " am the\n"
     ]
    },
    {
     "name": "stdout",
     "output_type": "stream",
     "text": [
      "1\n"
     ]
    }
   ],
   "source": []
  },
  {
   "cell_type": "code",
   "execution_count": 2,
   "id": "b73c4983-780b-40b6-b424-99e01e8855b7",
   "metadata": {},
   "outputs": [
    {
     "name": "stdin",
     "output_type": "stream",
     "text": [
      " I am Prakash\n"
     ]
    },
    {
     "name": "stdout",
     "output_type": "stream",
     "text": [
      "hsakarP ma I\n"
     ]
    }
   ],
   "source": [
    "'''Question-3: Given a string, reverse the order of characters using string slicing and\n",
    "print the reversed string.'''\n",
    "\n",
    "#Take input from user and store it in varriables.\n",
    "Text = input()\n",
    "#Print the reversed text\n",
    "print(Text[::-1])"
   ]
  },
  {
   "cell_type": "code",
   "execution_count": 8,
   "id": "37814cb8-eb2e-4048-9408-5a74a852da10",
   "metadata": {},
   "outputs": [
    {
     "name": "stdin",
     "output_type": "stream",
     "text": [
      "enter the text to check palindrome malayalam\n"
     ]
    },
    {
     "name": "stdout",
     "output_type": "stream",
     "text": [
      "malayalam\n",
      "The text is palindrome? : True\n"
     ]
    }
   ],
   "source": [
    "'''Question-4: Write a program that takes a string as input and checks if it is a palindrome\n",
    "(reads the same forwards and backwards).'''\n",
    "\n",
    "#Take input from user and store it in varriables.\n",
    "Text = input('enter the text to check palindrome')\n",
    "Text1 = Text[::-1]\n",
    "print(Text1)\n",
    "#Print the reversed text\n",
    "print('The text is palindrome? : ' + str(Text == Text1))\n"
   ]
  },
  {
   "cell_type": "code",
   "execution_count": 9,
   "id": "54ae39e3-3e13-40cd-a6f7-f3c55d295080",
   "metadata": {},
   "outputs": [
    {
     "name": "stdin",
     "output_type": "stream",
     "text": [
      " my name is prakash\n"
     ]
    },
    {
     "name": "stdout",
     "output_type": "stream",
     "text": [
      "mynameisprakash\n"
     ]
    }
   ],
   "source": [
    "'''Question-5: Create a program that takes a string as input and removes all the\n",
    "spaces from it. Print the modified string without spaces.'''\n",
    "\n",
    "#Take input from user and store it in varriables.\n",
    "Text = input()\n",
    "#Print the text by replacing space with no space\n",
    "print(Text.replace(' ', ''))\n"
   ]
  }
 ],
 "metadata": {
  "kernelspec": {
   "display_name": "Python 3 (ipykernel)",
   "language": "python",
   "name": "python3"
  },
  "language_info": {
   "codemirror_mode": {
    "name": "ipython",
    "version": 3
   },
   "file_extension": ".py",
   "mimetype": "text/x-python",
   "name": "python",
   "nbconvert_exporter": "python",
   "pygments_lexer": "ipython3",
   "version": "3.10.8"
  }
 },
 "nbformat": 4,
 "nbformat_minor": 5
}
